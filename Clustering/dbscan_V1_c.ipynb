{
 "cells": [
  {
   "cell_type": "code",
   "execution_count": 1,
   "metadata": {
    "collapsed": true
   },
   "outputs": [],
   "source": [
    "import warnings\n",
    "warnings.filterwarnings('ignore')\n",
    "\n",
    "import os\n",
    "from glob import glob\n",
    "import pickle\n",
    "\n",
    "import numpy as np\n",
    "import pandas as pd\n",
    "\n",
    "#TEXT PROCESSING\n",
    "import nltk\n",
    "import re\n",
    "import codecs\n",
    "import unidecode\n",
    "import mpld3\n",
    "import stop_words\n",
    "from nltk import SnowballStemmer, pos_tag, word_tokenize, wordpunct_tokenize\n",
    "from nltk.corpus import stopwords\n",
    "\n",
    "#SKLEARN\n",
    "from sklearn.utils import shuffle\n",
    "from sklearn.pipeline import make_pipeline\n",
    "from sklearn.feature_extraction.text import HashingVectorizer,TfidfTransformer,TfidfVectorizer, CountVectorizer\n",
    "from sklearn.metrics.pairwise import cosine_similarity\n",
    "from sklearn.cluster import KMeans, DBSCAN\n",
    "from sklearn.decomposition import TruncatedSVD, NMF\n",
    "from sklearn.preprocessing import Normalizer\n",
    "from sklearn.metrics.pairwise import *\n",
    "from sklearn.linear_model import LogisticRegression\n",
    "from sklearn.svm import *\n",
    "from sklearn.semi_supervised import *"
   ]
  },
  {
   "cell_type": "markdown",
   "metadata": {},
   "source": [
    "** Lecture des données **"
   ]
  },
  {
   "cell_type": "code",
   "execution_count": 6,
   "metadata": {
    "collapsed": true
   },
   "outputs": [],
   "source": [
    "#download cv in a list\n",
    "def load_cv_list(nombre):\n",
    "    path = '../data_indeed/txt/'\n",
    "    liste_paths = [path+directory for directory in os.listdir(path)]\n",
    "    liste_cv = []\n",
    "    liste_files = []\n",
    "    for path in liste_paths :\n",
    "        if \"informaticien\" and \"dba\" and \"chef_de_projet_informatique\" not in path:\n",
    "            filenames = sorted(glob(os.path.join(path,\"*.txt\")))\n",
    "           \n",
    "            for file in filenames[:nombre]:\n",
    "                liste_cv.append(open(file).read())\n",
    "                liste_files.append(file.split('/')[-1].split('.')[0])\n",
    "    return liste_cv,liste_files"
   ]
  },
  {
   "cell_type": "code",
   "execution_count": 7,
   "metadata": {},
   "outputs": [
    {
     "name": "stdout",
     "output_type": "stream",
     "text": [
      "2000 cvs\n"
     ]
    }
   ],
   "source": [
    "liste_cv_indeed,liste_files = load_cv_list(200)\n",
    "print(len(liste_cv_indeed), \"cvs\")"
   ]
  },
  {
   "cell_type": "code",
   "execution_count": 8,
   "metadata": {},
   "outputs": [
    {
     "data": {
      "text/plain": [
       "\"INFORMATICIEN DÉVELOPPEMENT ET\\nRÉSEAUX\\n\\nDéveloppeur Intégrateur Web\\n\\nÉragny (95) - Email me on Indeed: indeed.com/r/d7e8913ed00d0384\\n\\nAujourd’hui, je suis en recherche d'une opportunité sur un poste de développeur ou d’intégrateur web afin de\\nmonter toujours plus en compétence et d’approfondir les bases solide que j’ai acquis en formation.\\n\\nEXPÉRIENCE\\n\\nINFORMATICIEN DÉVELOPPEMENT ET RÉSEAUX\\n\\nLeGrandCercle95  -  Éragny (95) -\\n\\nnovembre 2016 - juin 2017\\n\\nInformaticien de l'entreprise, mes missions était de gérer les différent problème dans l'entreprise. Mise en\\nplace d'un antivirus serveur, sauvegarde Nas... Créé et gérer les droits sur l'Active Directory. Paramétrer des\\nclients léger ainsi que du matériel informatique comme des imprimantes ou des étiqueteuse en IP fixe.\\n\\nRéajustement du code html et css sur le site grand public selon les normes w3c.\\nCréation d'une source ODBC\\nCréation d'un code en php - sql afin de récupéré des données librairie sur un site fournisseur pour les enregistré\\nen fiche xml.\\nCréation de bannières pour les différents évènements avec photoshop et formation d'une personne sur place\\nau logiciel photoshop.\\n\\nCHARGE DE CLIENTELE\\n\\nEuropcar France Commercial  -  Saint-Ouen-l'Aumône (95) -\\n\\nnovembre 2008 - novembre 2016\\n\\nMes missions principales : \\n\\n- Qualité de service :\\nAssurer l'accueil des clients et le respect de la charte en agence.\\n\\n- Gestion des clients :\\nTraiter l'ensemble des appels téléphoniques.\\nAnalyser les besoins du client.\\nAssurer le suivi de la clientèle.\\n\\n- Logistique et Administratif :\\nS'assurer de la disponibilité des véhicules.\\nGérer l'administratif de l'agence.\\nGestion de la caisse.\\n\\n- Polyvalence\\n\\n\\x0cFormation Développeur Intégrateur Web\\n\\n-\\n\\nseptembre 2015 - juin 2016\\n\\nC.I.F)\\nCentre de formation IFOCOP (8mois)\\n\\n- Création de différents sites. (portfolio)\\n- Présentation d'un site e-commerce créé de A à Z pour l'examen\\n\\nDéveloppeur Web (stage)\\n\\nLe Club des formateurs  -  Éragny (95) -\\n\\nfévrier 2016 - mai 2016\\n\\nDéveloppement d'un site sous Wordpress de A à Z.\\n\\nCommercial stagiaire\\n\\nLAMY Assurance -\\n\\nnovembre 2007 - décembre 2007\\n\\nstagiaire\\n\\nPort Marly accessoires  -  Le Port-Marly (78) -\\n\\nmai 2007 - juin 2007\\n\\nLes Galeries Lafayette Vendeur\\n\\n-\\n\\n2005 - 2006\\n\\nconfection homme) Job étudiant\\n\\nBrice Vendeur\\n\\nPAP Job -\\n\\n2004 - 2004\\n\\nétudiant\\n\\nFORMATION\\n\\nniveau II bac+3 bac+4 en Développeur intégrateur web\\n\\nifocop  -  Éragny (95)\\n\\n2015 - 2016\\n\\n\\x0c\""
      ]
     },
     "execution_count": 8,
     "metadata": {},
     "output_type": "execute_result"
    }
   ],
   "source": [
    "liste_cv_indeed[0]"
   ]
  },
  {
   "cell_type": "markdown",
   "metadata": {},
   "source": [
    "### Cleaning fonctions"
   ]
  },
  {
   "cell_type": "markdown",
   "metadata": {},
   "source": [
    "#### Suppression des sauts de ligne"
   ]
  },
  {
   "cell_type": "code",
   "execution_count": 9,
   "metadata": {
    "collapsed": true
   },
   "outputs": [],
   "source": [
    "import string,re\n",
    "regex = re.compile('[%s]' % '(\\\\n)*(\\\\x0c)*')\n",
    "def del_line_feed(s):  \n",
    "    \"\"\"Delete \\n in the text\"\"\"\n",
    "    return regex.sub(' ', s)"
   ]
  },
  {
   "cell_type": "code",
   "execution_count": 10,
   "metadata": {},
   "outputs": [
    {
     "data": {
      "text/plain": [
       "\"informaticien développement et réseaux  développeur intégrateur web  éragny  95  - email me on indeed: indeed.com/r/d7e8913ed00d0384  aujourd’hui, je suis en recherche d'une opportunité sur un poste de développeur ou d’intégrateur web afin de monter toujours plus en compétence et d’approfondir les bases solide que j’ai acquis en formation.  expérience  informaticien développement et réseaux  legrandcercle95  -  éragny  95  -  novembre 2016 - juin 2017  informaticien de l'entreprise, mes missions était de gérer les différent problème dans l'entreprise. mise en place d'un antivirus serveur, sauvegarde nas... créé et gérer les droits sur l'active directory. paramétrer des clients léger ainsi que du matériel informatique comme des imprimantes ou des étiqueteuse en ip fixe.  réajustement du code html et css sur le site grand public selon les normes w3c. création d'une source odbc création d'un code en php - sql afin de récupéré des données librairie sur un site fournisseur pour les enregistré en fiche xml. création de bannières pour les différents évènements avec photoshop et formation d'une personne sur place au logiciel photoshop.  charge de clientele  europcar france commercial  -  saint-ouen-l'aumône  95  -  novembre 2008 - novembre 2016  mes missions principales :   - qualité de service : assurer l'accueil des clients et le respect de la charte en agence.  - gestion des clients : traiter l'ensemble des appels téléphoniques. analyser les besoins du client. assurer le suivi de la clientèle.  - logistique et administratif : s'assurer de la disponibilité des véhicules. gérer l'administratif de l'agence. gestion de la caisse.  - polyvalence   formation développeur intégrateur web  -  septembre 2015 - juin 2016  c.i.f  centre de formation ifocop  8mois   - création de différents sites.  portfolio  - présentation d'un site e-commerce créé de a à z pour l'examen  développeur web  stage   le club des formateurs  -  éragny  95  -  février 2016 - mai 2016  développement d'un site sous wordpress de a à z.  commercial stagiaire  lamy assurance -  novembre 2007 - décembre 2007  stagiaire  port marly accessoires  -  le port-marly  78  -  mai 2007 - juin 2007  les galeries lafayette vendeur  -  2005 - 2006  confection homme  job étudiant  brice vendeur  pap job -  2004 - 2004  étudiant  formation  niveau ii bac+3 bac+4 en développeur intégrateur web  ifocop  -  éragny  95   2015 - 2016   \""
      ]
     },
     "execution_count": 10,
     "metadata": {},
     "output_type": "execute_result"
    }
   ],
   "source": [
    "liste_cv_indeed = [del_line_feed(text).lower() for text in liste_cv_indeed]\n",
    "liste_cv_indeed[0]"
   ]
  },
  {
   "cell_type": "markdown",
   "metadata": {},
   "source": [
    "#### Suppression ponctuation"
   ]
  },
  {
   "cell_type": "code",
   "execution_count": 11,
   "metadata": {},
   "outputs": [
    {
     "data": {
      "text/plain": [
       "'!\"#$%&\\'()*+,-./:;<=>?@[\\\\]^_`{|}~'"
      ]
     },
     "execution_count": 11,
     "metadata": {},
     "output_type": "execute_result"
    }
   ],
   "source": [
    "string.punctuation"
   ]
  },
  {
   "cell_type": "code",
   "execution_count": 12,
   "metadata": {
    "collapsed": true
   },
   "outputs": [],
   "source": [
    "#le maintient de la ponctuation pertube le stop words, apostrophe gérée dans text_treatment\n",
    "regex = re.compile('[%s]' % re.escape('!\"#$%&\\()*+,-./:;<=>?@[\\\\]^_{|}~')) \n",
    "def del_punct(s):  \n",
    "    \"\"\"Delete punctuation in the text\"\"\"\n",
    "    return regex.sub('', s)"
   ]
  },
  {
   "cell_type": "code",
   "execution_count": 13,
   "metadata": {},
   "outputs": [
    {
     "data": {
      "text/plain": [
       "\"informaticien développement et réseaux  développeur intégrateur web  éragny  95   email me on indeed indeedcomrd7e8913ed00d0384  aujourd’hui je suis en recherche d'une opportunité sur un poste de développeur ou d’intégrateur web afin de monter toujours plus en compétence et d’approfondir les bases solide que j’ai acquis en formation  expérience  informaticien développement et réseaux  legrandcercle95    éragny  95    novembre 2016  juin 2017  informaticien de l'entreprise mes missions était de gérer les différent problème dans l'entreprise mise en place d'un antivirus serveur sauvegarde nas créé et gérer les droits sur l'active directory paramétrer des clients léger ainsi que du matériel informatique comme des imprimantes ou des étiqueteuse en ip fixe  réajustement du code html et css sur le site grand public selon les normes w3c création d'une source odbc création d'un code en php  sql afin de récupéré des données librairie sur un site fournisseur pour les enregistré en fiche xml création de bannières pour les différents évènements avec photoshop et formation d'une personne sur place au logiciel photoshop  charge de clientele  europcar france commercial    saintouenl'aumône  95    novembre 2008  novembre 2016  mes missions principales     qualité de service  assurer l'accueil des clients et le respect de la charte en agence   gestion des clients  traiter l'ensemble des appels téléphoniques analyser les besoins du client assurer le suivi de la clientèle   logistique et administratif  s'assurer de la disponibilité des véhicules gérer l'administratif de l'agence gestion de la caisse   polyvalence   formation développeur intégrateur web    septembre 2015  juin 2016  cif  centre de formation ifocop  8mois    création de différents sites  portfolio   présentation d'un site ecommerce créé de a à z pour l'examen  développeur web  stage   le club des formateurs    éragny  95    février 2016  mai 2016  développement d'un site sous wordpress de a à z  commercial stagiaire  lamy assurance   novembre 2007  décembre 2007  stagiaire  port marly accessoires    le portmarly  78    mai 2007  juin 2007  les galeries lafayette vendeur    2005  2006  confection homme  job étudiant  brice vendeur  pap job   2004  2004  étudiant  formation  niveau ii bac3 bac4 en développeur intégrateur web  ifocop    éragny  95   2015  2016   \""
      ]
     },
     "execution_count": 13,
     "metadata": {},
     "output_type": "execute_result"
    }
   ],
   "source": [
    "#test \n",
    "liste_cv_indeed_no_punc = [del_punct(text) for text in liste_cv_indeed]\n",
    "liste_cv_indeed_no_punc[0]"
   ]
  },
  {
   "cell_type": "markdown",
   "metadata": {},
   "source": [
    "** Reconnaissance du langage du CV**"
   ]
  },
  {
   "cell_type": "code",
   "execution_count": 14,
   "metadata": {
    "collapsed": true
   },
   "outputs": [],
   "source": [
    "def _calculate_languages_ratios(text):\n",
    "    \"\"\"\n",
    "    Calculate probability of given text to be written in several languages and\n",
    "    return a dictionary that looks like {'french': 2, 'spanish': 4, 'english': 0}\n",
    "    \"\"\"\n",
    "\n",
    "    languages_ratios = {}\n",
    "\n",
    "    '''\n",
    "    nltk.wordpunct_tokenize() splits all punctuations into separate tokens\n",
    "    \n",
    "    >>> wordpunct_tokenize(\"That's thirty minutes away. I'll be there in ten.\")\n",
    "    ['That', \"'\", 's', 'thirty', 'minutes', 'away', '.', 'I', \"'\", 'll', 'be', 'there', 'in', 'ten', '.']\n",
    "    '''\n",
    "\n",
    "    tokens = wordpunct_tokenize(text)\n",
    "    words = [word.lower() for word in tokens] #from text get list of word in minuscule\n",
    "\n",
    "    \n",
    "    for language in stopwords.fileids(): # pour chaque langue\n",
    "        stopwords_set = set(stopwords.words(language)) #je mets les stop words du langage dans un set\n",
    "        words_set = set(words) #je mets les mots de mon texte dans un set\n",
    "        #je prends l'intersection entre les mots de mon texte et les mots du stopwords dans le langage donné\n",
    "        common_elements = words_set & stopwords_set\n",
    "        \n",
    "        #je compute mon score comme le nombre d'éléments en communs dictionnaire [langage : score]\n",
    "        languages_ratios[language] = len(common_elements) # language \"score\"\n",
    "\n",
    "    return languages_ratios"
   ]
  },
  {
   "cell_type": "code",
   "execution_count": 15,
   "metadata": {},
   "outputs": [
    {
     "name": "stdout",
     "output_type": "stream",
     "text": [
      "[nltk_data] Downloading package stopwords to\n",
      "[nltk_data]     /Users/mehdiregina/nltk_data...\n",
      "[nltk_data]   Package stopwords is already up-to-date!\n"
     ]
    },
    {
     "data": {
      "text/plain": [
       "['arabic',\n",
       " 'azerbaijani',\n",
       " 'danish',\n",
       " 'dutch',\n",
       " 'english',\n",
       " 'finnish',\n",
       " 'french',\n",
       " 'german',\n",
       " 'greek',\n",
       " 'hungarian',\n",
       " 'indonesian',\n",
       " 'italian',\n",
       " 'kazakh',\n",
       " 'nepali',\n",
       " 'norwegian',\n",
       " 'portuguese',\n",
       " 'romanian',\n",
       " 'russian',\n",
       " 'spanish',\n",
       " 'swedish',\n",
       " 'turkish']"
      ]
     },
     "execution_count": 15,
     "metadata": {},
     "output_type": "execute_result"
    }
   ],
   "source": [
    "import nltk\n",
    "nltk.download('stopwords')\n",
    "stopwords.fileids()"
   ]
  },
  {
   "cell_type": "code",
   "execution_count": 16,
   "metadata": {
    "collapsed": true
   },
   "outputs": [],
   "source": [
    "def get_cv_langue(liste_cv, language,cv_names) :\n",
    "    \"\"\"Return resume witten in the specified language in parameter\"\"\"\n",
    "    liste_2 = []\n",
    "    french_cv_names = []\n",
    "    i=0\n",
    "    for cv in liste_cv:\n",
    "        if max(_calculate_languages_ratios(cv),key =_calculate_languages_ratios(cv).get)=='french':\n",
    "            liste_2.append(cv)\n",
    "            french_cv_names.append(cv_names[i])\n",
    "        i+=1\n",
    "    return liste_2,french_cv_names"
   ]
  },
  {
   "cell_type": "code",
   "execution_count": 17,
   "metadata": {},
   "outputs": [
    {
     "name": "stdout",
     "output_type": "stream",
     "text": [
      "proportion cv french : 0.704\n"
     ]
    }
   ],
   "source": [
    "liste_cv_indeed_fr,liste_files_fr = get_cv_langue(liste_cv_indeed_no_punc,'french',liste_files)\n",
    "nb_cv = len(liste_cv_indeed_no_punc)\n",
    "nb_cv_fr = len(liste_cv_indeed_fr)\n",
    "\n",
    "print(\"proportion cv french :\",1- ((nb_cv-nb_cv_fr)/nb_cv))"
   ]
  },
  {
   "cell_type": "markdown",
   "metadata": {},
   "source": [
    "** Preprocessing du text **"
   ]
  },
  {
   "cell_type": "code",
   "execution_count": 18,
   "metadata": {
    "collapsed": true
   },
   "outputs": [],
   "source": [
    "def text_treatment (text):\n",
    "    text = text.lower()\n",
    "    text = text.replace(\"\\x00\", '').replace(\"\\x01\", '').replace(\"\\x02\", '').replace(\"\\x03\", '') \\\n",
    "    .replace(\"\\x04\", '').replace(\"\\x05\", '').replace(\"\\x06\", '').replace(\"\\x07\", '').replace(\"\\x08\", '') \\\n",
    "    .replace(\"\\x0e\", '').replace(\"\\x11\", '').replace(\"\\x12\", '').replace(\"\\x10\", '').replace(\"\\x19\", '') \\\n",
    "    .replace(\"\\x1b\", '').replace(\"\\x14\", '').replace(\"\\x15\", '').replace('/', '').replace('=', '').replace(\"〓\", \"\") \\\n",
    "    .replace(\"»\", \"\").replace(\"«\", \"\").replace(\"¬\", \"\").replace('`', '').replace (\" -\", \"\").replace(\"•\", \"\")\\\n",
    "    .replace(\"l'\", \"\").replace(\"l’\", \"\").replace(\"l´\", \"\").replace(\"d’\", \"\").replace(\"d'\", \"\").replace(\"d´\",\"\")\\\n",
    "    .replace(\"j’\", \"\").replace(\"j'\", \"\").replace(\"j´\",\"\").replace(\"n’\", \"\").replace(\"n'\", \"\").replace(\"n´\",\"\")\\\n",
    "    .replace(\"”\", \"\").replace(\"~\", \"\").replace(\"§\", \"\").replace(\"¨\", \"\").replace(\"©\", \"\").replace(\"›\", \"\")\\\n",
    "    .replace(\"₋\", \"\").replace(\"→\", \"\").replace(\"⇨\", \"\").replace(\"∎\", \"\").replace(\"√\", \"\").replace(\"□\", \"\")\\\n",
    "    .replace(\"*\", \"\").replace(\"&\", \"\").replace(\"►\", \"\").replace(\"◊\", \"\").replace(\"☞\", \"\").replace(\"#\", \"\")\\\n",
    "    .replace(\"%\", \"\").replace(\"❖\", \"\").replace(\"➠\", \"\").replace(\"➢\", \"\").replace(\"\", \"\").replace(\"✓\", \"\") \\\n",
    "    .replace(\"√\", \"\").replace(\"✔\", \"\").replace(\"♦\", \"\").replace(\"◦\", \"\").replace(\"●\", \"\").replace(\"▫\", \"\")\\\n",
    "    .replace(\"▪\", \"\").replace(\"…\", \"\").replace(\"þ\", \"\").replace(\"®\", \"\").replace('', '').replace(\"...\", \"\")\n",
    "    text = unidecode.unidecode(text) # remove accent\n",
    "    return text"
   ]
  },
  {
   "cell_type": "code",
   "execution_count": 19,
   "metadata": {},
   "outputs": [
    {
     "data": {
      "text/plain": [
       "\"informaticien developpement et reseaux  developpeur integrateur web  eragny  95   email me on indeed indeedcomrd7e8913ed00d0384  aujourhui je suis en recherche une opportunite sur un poste de developpeur ou integrateur web afin de monter toujours plus en competence et approfondir les bases solide que ai acquis en formation  experience  informaticien developpement et reseaux  legrandcercle95    eragny  95    novembre 2016  juin 2017  informaticien de entreprise mes missions etait de gerer les different probleme dans entreprise mise en place un antivirus serveur sauvegarde nas cree et gerer les droits sur active directory parametrer des clients leger ainsi que du materiel informatique comme des imprimantes ou des etiqueteuse en ip fixe  reajustement du code html et css sur le site grand public selon les normes w3c creation une source odbc creation un code en php  sql afin de recupere des donnees librairie sur un site fournisseur pour les enregistre en fiche xml creation de bannieres pour les differents evenements avec photoshop et formation une personne sur place au logiciel photoshop  charge de clientele  europcar france commercial    saintouenaumone  95    novembre 2008  novembre 2016  mes missions principales     qualite de service  assurer accueil des clients et le respect de la charte en agence   gestion des clients  traiter ensemble des appels telephoniques analyser les besoins du client assurer le suivi de la clientele   logistique et administratif  s'assurer de la disponibilite des vehicules gerer administratif de agence gestion de la caisse   polyvalence   formation developpeur integrateur web    septembre 2015  juin 2016  cif  centre de formation ifocop  8mois    creation de differents sites  portfolio   presentation un site ecommerce cree de a a z pour examen  developpeur web  stage   le club des formateurs    eragny  95    fevrier 2016  mai 2016  developpement un site sous wordpress de a a z  commercial stagiaire  lamy assurance   novembre 2007  decembre 2007  stagiaire  port marly accessoires    le portmarly  78    mai 2007  juin 2007  les galeries lafayette vendeur    2005  2006  confection homme  job etudiant  brice vendeur  pap job   2004  2004  etudiant  formation  niveau ii bac3 bac4 en developpeur integrateur web  ifocop    eragny  95   2015  2016   \""
      ]
     },
     "execution_count": 19,
     "metadata": {},
     "output_type": "execute_result"
    }
   ],
   "source": [
    "#On supprime les caractères étranges, accents et stop words\n",
    "liste_cv_indeed_treated = [text_treatment(text) for text in liste_cv_indeed_fr]\n",
    "#test\n",
    "liste_cv_indeed_treated[0]"
   ]
  },
  {
   "cell_type": "markdown",
   "metadata": {},
   "source": [
    "** Gestion des stop words **"
   ]
  },
  {
   "cell_type": "code",
   "execution_count": 20,
   "metadata": {},
   "outputs": [
    {
     "name": "stdout",
     "output_type": "stream",
     "text": [
      "taille stop words liste :  368\n"
     ]
    }
   ],
   "source": [
    "#generate stopwords\n",
    "stop_words_py = set(stop_words.get_stop_words('french'))\n",
    "\n",
    "# attention certains stop words pourraient être utiles par la suite\n",
    "stopwords_set_manuel = set([\"an\", \"ans\", 'les', 'moins', 'd\\'un','janvier', 'fevrier', 'février', 'mars', 'avril', \\\n",
    "                 'mai', 'juin', 'juillet', 'aout', 'août', 'septembre', 'octobre', 'novembre', 'décembre', \\\n",
    "                  'decembre', 'moins', 'mise', 'universit\\xc3\\xa9', 'université', 'universite', 'ion','sage', \\\n",
    "                  'o', 'rac', 'vers', 'via', 'p\\xc3\\xa9rim\\xc3\\xa8tre', 'périmètre','et','paris','x',\"\\x00\",\\\n",
    "                          \"\\x01\",\"\\x02\", \"\\x03\",\"\\x04\",\"\\x05\",\"\\x06\",\"\\x07\",\"\\x08\",\"\\x09\",\"\\x0e\",\"\\x0e\",\"\\x11\",\\\n",
    "                           \"\\x12\",\"\\x13\",\"\\x14\",\"\\x15\",\"\\x16\",\"\\x17\",\"\\x18\",\"\\x19\",\"transport\",\"puis\",\"lieu\",\\\n",
    "                           \"adresse\",\"entre\",'dun','dune','chez','boulognebillancourt','bt','etc','recrutement','main',\\\n",
    "                           'and', 'paie','paiement','environ','place','france','paris','mois','mobile','mobiles',\\\n",
    "                           'nanterre','source','sources','concerne','concernant','of','non','notes','rh','minimum',\\\n",
    "                           'maximum','bac','site','sites','actuellement','telephone','telephonique','telephoniques','ca','demenager',\\\n",
    "                           'demenagement','participer','participation','lycee','baccalaureat','lien','liens','in',\\\n",
    "                           'indeed','email','indeedcomrd7e8913ed00d0384','aujourhui','afin','toujours','enterprise',\\\n",
    "                           \"guide\",\"10g\",\"11g\",\"9i\",'ad','v10','v2','v3','v5','v6','v8','v9',])\n",
    "stop_words_main = stop_words_py | stopwords_set_manuel\n",
    "stop_words_main = list(stop_words_main)\n",
    "print(\"taille stop words liste : \", len(stop_words_main))"
   ]
  },
  {
   "cell_type": "code",
   "execution_count": 21,
   "metadata": {},
   "outputs": [
    {
     "data": {
      "text/plain": [
       "['eussions',\n",
       " 'devrons',\n",
       " 'que',\n",
       " 'ceci',\n",
       " 'à',\n",
       " 'novembre',\n",
       " 'au',\n",
       " 'auraient',\n",
       " 'lien',\n",
       " 'là',\n",
       " 'me',\n",
       " 'pour',\n",
       " 'octobre',\n",
       " 'v5',\n",
       " 'aux',\n",
       " 'seras',\n",
       " 'elle',\n",
       " '\\x19',\n",
       " 'mais',\n",
       " 'bon',\n",
       " 'vu',\n",
       " 'paie',\n",
       " 'concerne',\n",
       " 'pÃ©rimÃ¨tre',\n",
       " 'août',\n",
       " 'je',\n",
       " 'nommé',\n",
       " 'était',\n",
       " 'dois',\n",
       " 'peu',\n",
       " 'eurent',\n",
       " 'decembre',\n",
       " 'telephonique',\n",
       " '\\x18',\n",
       " 'aucun',\n",
       " 'aurions',\n",
       " 'fais',\n",
       " 'état',\n",
       " 'eussent',\n",
       " 'chez',\n",
       " 'personnes',\n",
       " 'où',\n",
       " 'x',\n",
       " 'as',\n",
       " 'toi',\n",
       " 'v2',\n",
       " 'vers',\n",
       " '\\x08',\n",
       " 'quelles',\n",
       " 'dun',\n",
       " '\\x15',\n",
       " 'serons',\n",
       " 'personne',\n",
       " 'fûtes',\n",
       " 'ceux',\n",
       " 'ne',\n",
       " 'te',\n",
       " '\\x0e',\n",
       " 'une',\n",
       " 'bac',\n",
       " 'encore',\n",
       " 'enterprise',\n",
       " 'périmètre',\n",
       " 'dès',\n",
       " 'se',\n",
       " 'ci',\n",
       " 'seriez',\n",
       " '9i',\n",
       " '\\x07',\n",
       " 'sources',\n",
       " 'lycee',\n",
       " 'v9',\n",
       " 'nouveau',\n",
       " 'eux',\n",
       " 'baccalaureat',\n",
       " 'êtes',\n",
       " 'ce',\n",
       " 'donc',\n",
       " 'valeur',\n",
       " 'eue',\n",
       " 'guide',\n",
       " 'est',\n",
       " 'pourquoi',\n",
       " 'demenager',\n",
       " 'comment',\n",
       " 'furent',\n",
       " 'ta',\n",
       " 'boulognebillancourt',\n",
       " 'seront',\n",
       " \"d'un\",\n",
       " 'environ',\n",
       " 'v6',\n",
       " 'eusses',\n",
       " 'n',\n",
       " 'aurons',\n",
       " 'haut',\n",
       " 'peut',\n",
       " 'v3',\n",
       " 'février',\n",
       " 'eus',\n",
       " 'sa',\n",
       " 'universitÃ©',\n",
       " 'concernant',\n",
       " 'lui',\n",
       " 'si',\n",
       " 'votre',\n",
       " 'ca',\n",
       " 'juin',\n",
       " 'eût',\n",
       " 'sont',\n",
       " 'ton',\n",
       " 'rac',\n",
       " 'aies',\n",
       " 'depuis',\n",
       " 'ici',\n",
       " 'les',\n",
       " '\\x04',\n",
       " 'aout',\n",
       " 'étions',\n",
       " 'avez',\n",
       " 'nouveaux',\n",
       " 'moins',\n",
       " 'ai',\n",
       " 'avril',\n",
       " 'la',\n",
       " 'etc',\n",
       " 'aurai',\n",
       " 'actuellement',\n",
       " 'v10',\n",
       " 'soi',\n",
       " 'auront',\n",
       " 'tu',\n",
       " 'quand',\n",
       " 'droite',\n",
       " 'on',\n",
       " 'ils',\n",
       " 'sage',\n",
       " 'dans',\n",
       " 'ni',\n",
       " 'auriez',\n",
       " 'avoir',\n",
       " 'sans',\n",
       " '\\x16',\n",
       " '\\x12',\n",
       " 'eut',\n",
       " 'soyons',\n",
       " '\\x02',\n",
       " 'liens',\n",
       " 'son',\n",
       " 'fut',\n",
       " 'sujet',\n",
       " 'y',\n",
       " 'seraient',\n",
       " 'telephone',\n",
       " 'bt',\n",
       " 'indeed',\n",
       " 'ces',\n",
       " 'non',\n",
       " 'fusses',\n",
       " 'nommés',\n",
       " 'afin',\n",
       " 'deux',\n",
       " 'ayant',\n",
       " 'soient',\n",
       " 'sommes',\n",
       " 'car',\n",
       " 'aurais',\n",
       " 'ses',\n",
       " 'paiement',\n",
       " 'leurs',\n",
       " 'voient',\n",
       " 'serais',\n",
       " 'dehors',\n",
       " 'avec',\n",
       " 'tellement',\n",
       " 'lieu',\n",
       " 'étiez',\n",
       " 'des',\n",
       " 'participer',\n",
       " 'sien',\n",
       " 'faisez',\n",
       " 'ou',\n",
       " 'étais',\n",
       " '\\t',\n",
       " 'mise',\n",
       " 'mobiles',\n",
       " 'quels',\n",
       " 'même',\n",
       " 'm',\n",
       " 'source',\n",
       " 'décembre',\n",
       " 'fus',\n",
       " 'ayons',\n",
       " 'fait',\n",
       " 'avait',\n",
       " 'fussions',\n",
       " 'email',\n",
       " 'sous',\n",
       " '\\x03',\n",
       " 'in',\n",
       " 'dos',\n",
       " 'mes',\n",
       " 'avaient',\n",
       " 'ma',\n",
       " 'devoir',\n",
       " 'fusse',\n",
       " 'via',\n",
       " 'nous',\n",
       " 'quel',\n",
       " 'tes',\n",
       " 'transport',\n",
       " 'été',\n",
       " 'ans',\n",
       " 'adresse',\n",
       " 'mars',\n",
       " 'nom',\n",
       " 'eu',\n",
       " 'septembre',\n",
       " 'par',\n",
       " 'vous',\n",
       " 'place',\n",
       " 'fois',\n",
       " 'soit',\n",
       " 'devrez',\n",
       " 'france',\n",
       " 'nommée',\n",
       " 'devrait',\n",
       " 'auras',\n",
       " 'cela',\n",
       " 'janvier',\n",
       " 'paris',\n",
       " 'v8',\n",
       " 'aviez',\n",
       " 'o',\n",
       " 'étant',\n",
       " 'ait',\n",
       " 'vont',\n",
       " 'mot',\n",
       " 'font',\n",
       " 'maximum',\n",
       " 'de',\n",
       " 'cet',\n",
       " 'recrutement',\n",
       " 'tandis',\n",
       " 'minimum',\n",
       " 'être',\n",
       " 'sur',\n",
       " 'vos',\n",
       " 'sites',\n",
       " 'il',\n",
       " 'indeedcomrd7e8913ed00d0384',\n",
       " 'université',\n",
       " 'fevrier',\n",
       " 'aie',\n",
       " 'un',\n",
       " 'avons',\n",
       " 'fussiez',\n",
       " 'avant',\n",
       " '\\x05',\n",
       " 'universite',\n",
       " '\\x00',\n",
       " 'elles',\n",
       " 'parole',\n",
       " '\\x01',\n",
       " 'aurez',\n",
       " '\\x06',\n",
       " 'serions',\n",
       " 'devront',\n",
       " 'eûtes',\n",
       " 'es',\n",
       " 'étés',\n",
       " 'ont',\n",
       " 'début',\n",
       " 'nos',\n",
       " 'aura',\n",
       " 'ayez',\n",
       " 'notes',\n",
       " 'comme',\n",
       " 'participation',\n",
       " 'fût',\n",
       " 't',\n",
       " 'mon',\n",
       " 'and',\n",
       " 'avais',\n",
       " 'chaque',\n",
       " 'tout',\n",
       " 'eusse',\n",
       " 'l',\n",
       " 'seulement',\n",
       " 'hors',\n",
       " 'sera',\n",
       " 'parce',\n",
       " 'serez',\n",
       " 'en',\n",
       " '11g',\n",
       " '\\x17',\n",
       " 'tels',\n",
       " 'cette',\n",
       " 'doit',\n",
       " 'leur',\n",
       " 'devriez',\n",
       " 'très',\n",
       " 'avions',\n",
       " 'qu',\n",
       " 'a',\n",
       " 'eussiez',\n",
       " 'nanterre',\n",
       " 'soyez',\n",
       " 'force',\n",
       " 'mois',\n",
       " '\\x11',\n",
       " 'toujours',\n",
       " '\\x14',\n",
       " 'quelle',\n",
       " 'alors',\n",
       " 'maintenant',\n",
       " 'j',\n",
       " 'moi',\n",
       " 'aussi',\n",
       " 'suis',\n",
       " 'an',\n",
       " 'voit',\n",
       " 'étaient',\n",
       " 'mobile',\n",
       " 'dedans',\n",
       " 'faites',\n",
       " 'notre',\n",
       " '10g',\n",
       " 'of',\n",
       " 'ça',\n",
       " 'entre',\n",
       " 'le',\n",
       " 'demenagement',\n",
       " 'faire',\n",
       " 'pas',\n",
       " '\\x13',\n",
       " 'aujourhui',\n",
       " 'autre',\n",
       " 'aurait',\n",
       " 'd',\n",
       " 'devrions',\n",
       " 'site',\n",
       " 'qui',\n",
       " 'telephoniques',\n",
       " 'serai',\n",
       " 'eues',\n",
       " 'main',\n",
       " 'dune',\n",
       " 'du',\n",
       " 'juste',\n",
       " 'ad',\n",
       " 'plupart',\n",
       " 'trop',\n",
       " 'et',\n",
       " 'eûmes',\n",
       " 'fûmes',\n",
       " 'juillet',\n",
       " 'tous',\n",
       " 'vois',\n",
       " 'fussent',\n",
       " 'serait',\n",
       " 'mai',\n",
       " 'rh',\n",
       " 'ion',\n",
       " 'dù',\n",
       " 'sois',\n",
       " 'aient',\n",
       " 'puis']"
      ]
     },
     "execution_count": 21,
     "metadata": {},
     "output_type": "execute_result"
    }
   ],
   "source": [
    "stop_words_main"
   ]
  },
  {
   "cell_type": "code",
   "execution_count": 22,
   "metadata": {
    "collapsed": true
   },
   "outputs": [],
   "source": [
    "def remove_stopwords(text,stopwords_list):\n",
    "    text_temp = \" \".join(text.split())+\" \"\n",
    "    for word in stopwords_list:\n",
    "        text_temp = text_temp.replace(\" \"+word+\" \", \" \")\n",
    "    return text_temp"
   ]
  },
  {
   "cell_type": "code",
   "execution_count": 23,
   "metadata": {},
   "outputs": [
    {
     "data": {
      "text/plain": [
       "\"informaticien developpement reseaux developpeur integrateur web eragny 95 recherche opportunite poste developpeur integrateur web monter plus competence approfondir bases solide acquis formation experience informaticien developpement reseaux legrandcercle95 eragny 95 2016 2017 informaticien entreprise missions etait gerer different probleme entreprise antivirus serveur sauvegarde nas cree gerer droits active directory parametrer clients leger ainsi materiel informatique imprimantes etiqueteuse ip fixe reajustement code html css grand public selon normes w3c creation odbc creation code php sql recupere donnees librairie fournisseur enregistre fiche xml creation bannieres differents evenements photoshop formation logiciel photoshop charge clientele europcar commercial saintouenaumone 95 2008 2016 missions principales qualite service assurer accueil clients respect charte agence gestion clients traiter ensemble appels analyser besoins client assurer suivi clientele logistique administratif s'assurer disponibilite vehicules gerer administratif agence gestion caisse polyvalence formation developpeur integrateur web 2015 2016 cif centre formation ifocop 8mois creation differents portfolio presentation ecommerce cree a z examen developpeur web stage club formateurs eragny 95 2016 2016 developpement wordpress a z commercial stagiaire lamy assurance 2007 2007 stagiaire port marly accessoires portmarly 78 2007 2007 galeries lafayette vendeur 2005 2006 confection homme job etudiant brice vendeur pap job 2004 2004 etudiant formation niveau ii bac3 bac4 developpeur integrateur web ifocop eragny 95 2015 2016 \""
      ]
     },
     "execution_count": 23,
     "metadata": {},
     "output_type": "execute_result"
    }
   ],
   "source": [
    "#test \n",
    "liste_cv_indeed_no_stop = [remove_stopwords(text,stop_words_main) for text in liste_cv_indeed_treated]\n",
    "liste_cv_indeed_no_stop[0]"
   ]
  },
  {
   "cell_type": "code",
   "execution_count": 24,
   "metadata": {
    "collapsed": true
   },
   "outputs": [],
   "source": [
    "#SnowballStemmer \n",
    "from nltk.stem.snowball import SnowballStemmer\n",
    "stemmer = SnowballStemmer(\"french\")\n",
    "\n",
    "def tokenize_and_stem(text):\n",
    "    # first tokenize by sentence, then by word to ensure that punctuation is caught as it's own token\n",
    "    tokens = [word for sent in nltk.sent_tokenize(text) for word in nltk.word_tokenize(sent)]\n",
    "    filtered_tokens = []\n",
    "    # filter out any tokens not containing letters \n",
    "    for token in tokens:\n",
    "        if re.search('[a-zA-Z]', token):\n",
    "            filtered_tokens.append(token)\n",
    "    stems = [stemmer.stem(t) for t in filtered_tokens]\n",
    "    return stems\n",
    "\n",
    "\n",
    "def tokenize_only(text):\n",
    "    # first tokenize by sentence, then by word to ensure that punctuation is caught as it's own token\n",
    "    tokens = [word.lower() for sent in nltk.sent_tokenize(text) for word in nltk.word_tokenize(sent)]\n",
    "    filtered_tokens = []\n",
    "    # filter out any tokens not containing letters \n",
    "    for token in tokens:\n",
    "        if re.search('[a-zA-Z]', token):\n",
    "            filtered_tokens.append(token)\n",
    "    return filtered_tokens"
   ]
  },
  {
   "cell_type": "code",
   "execution_count": 25,
   "metadata": {
    "collapsed": true
   },
   "outputs": [],
   "source": [
    "totalvocab_indeed_stemmed = []\n",
    "totalvocab_indeed_tokenized = []\n",
    "for text in liste_cv_indeed_no_stop:\n",
    "    allwords_stemmed = tokenize_and_stem(text) #for each item in 'synopses', tokenize/stem\n",
    "    totalvocab_indeed_stemmed.extend(allwords_stemmed) #extend the 'totalvocab_stemmed' list\n",
    "    allwords_tokenized = tokenize_only(text)\n",
    "    totalvocab_indeed_tokenized.extend(allwords_tokenized)"
   ]
  },
  {
   "cell_type": "code",
   "execution_count": 26,
   "metadata": {},
   "outputs": [
    {
     "name": "stdout",
     "output_type": "stream",
     "text": [
      "there are 307878 items in vocab_frame\n"
     ]
    },
    {
     "data": {
      "text/html": [
       "<div>\n",
       "<style>\n",
       "    .dataframe thead tr:only-child th {\n",
       "        text-align: right;\n",
       "    }\n",
       "\n",
       "    .dataframe thead th {\n",
       "        text-align: left;\n",
       "    }\n",
       "\n",
       "    .dataframe tbody tr th {\n",
       "        vertical-align: top;\n",
       "    }\n",
       "</style>\n",
       "<table border=\"1\" class=\"dataframe\">\n",
       "  <thead>\n",
       "    <tr style=\"text-align: right;\">\n",
       "      <th></th>\n",
       "      <th>words</th>\n",
       "    </tr>\n",
       "  </thead>\n",
       "  <tbody>\n",
       "    <tr>\n",
       "      <th>informaticien</th>\n",
       "      <td>informaticien</td>\n",
       "    </tr>\n",
       "    <tr>\n",
       "      <th>developp</th>\n",
       "      <td>developpement</td>\n",
       "    </tr>\n",
       "    <tr>\n",
       "      <th>reseau</th>\n",
       "      <td>reseaux</td>\n",
       "    </tr>\n",
       "    <tr>\n",
       "      <th>developpeur</th>\n",
       "      <td>developpeur</td>\n",
       "    </tr>\n",
       "    <tr>\n",
       "      <th>integr</th>\n",
       "      <td>integrateur</td>\n",
       "    </tr>\n",
       "    <tr>\n",
       "      <th>web</th>\n",
       "      <td>web</td>\n",
       "    </tr>\n",
       "    <tr>\n",
       "      <th>eragny</th>\n",
       "      <td>eragny</td>\n",
       "    </tr>\n",
       "    <tr>\n",
       "      <th>recherch</th>\n",
       "      <td>recherche</td>\n",
       "    </tr>\n",
       "    <tr>\n",
       "      <th>opportunit</th>\n",
       "      <td>opportunite</td>\n",
       "    </tr>\n",
       "    <tr>\n",
       "      <th>post</th>\n",
       "      <td>poste</td>\n",
       "    </tr>\n",
       "    <tr>\n",
       "      <th>developpeur</th>\n",
       "      <td>developpeur</td>\n",
       "    </tr>\n",
       "    <tr>\n",
       "      <th>integr</th>\n",
       "      <td>integrateur</td>\n",
       "    </tr>\n",
       "    <tr>\n",
       "      <th>web</th>\n",
       "      <td>web</td>\n",
       "    </tr>\n",
       "    <tr>\n",
       "      <th>mont</th>\n",
       "      <td>monter</td>\n",
       "    </tr>\n",
       "    <tr>\n",
       "      <th>plus</th>\n",
       "      <td>plus</td>\n",
       "    </tr>\n",
       "    <tr>\n",
       "      <th>competent</th>\n",
       "      <td>competence</td>\n",
       "    </tr>\n",
       "    <tr>\n",
       "      <th>approfond</th>\n",
       "      <td>approfondir</td>\n",
       "    </tr>\n",
       "    <tr>\n",
       "      <th>bas</th>\n",
       "      <td>bases</td>\n",
       "    </tr>\n",
       "    <tr>\n",
       "      <th>solid</th>\n",
       "      <td>solide</td>\n",
       "    </tr>\n",
       "    <tr>\n",
       "      <th>acquis</th>\n",
       "      <td>acquis</td>\n",
       "    </tr>\n",
       "    <tr>\n",
       "      <th>format</th>\n",
       "      <td>formation</td>\n",
       "    </tr>\n",
       "    <tr>\n",
       "      <th>experient</th>\n",
       "      <td>experience</td>\n",
       "    </tr>\n",
       "    <tr>\n",
       "      <th>informaticien</th>\n",
       "      <td>informaticien</td>\n",
       "    </tr>\n",
       "    <tr>\n",
       "      <th>developp</th>\n",
       "      <td>developpement</td>\n",
       "    </tr>\n",
       "    <tr>\n",
       "      <th>reseau</th>\n",
       "      <td>reseaux</td>\n",
       "    </tr>\n",
       "    <tr>\n",
       "      <th>legrandcercle95</th>\n",
       "      <td>legrandcercle95</td>\n",
       "    </tr>\n",
       "    <tr>\n",
       "      <th>eragny</th>\n",
       "      <td>eragny</td>\n",
       "    </tr>\n",
       "    <tr>\n",
       "      <th>informaticien</th>\n",
       "      <td>informaticien</td>\n",
       "    </tr>\n",
       "    <tr>\n",
       "      <th>entrepris</th>\n",
       "      <td>entreprise</td>\n",
       "    </tr>\n",
       "    <tr>\n",
       "      <th>mission</th>\n",
       "      <td>missions</td>\n",
       "    </tr>\n",
       "    <tr>\n",
       "      <th>...</th>\n",
       "      <td>...</td>\n",
       "    </tr>\n",
       "    <tr>\n",
       "      <th>saintgobain</th>\n",
       "      <td>saintgobain</td>\n",
       "    </tr>\n",
       "    <tr>\n",
       "      <th>glass</th>\n",
       "      <td>glass</td>\n",
       "    </tr>\n",
       "    <tr>\n",
       "      <th>sgg</th>\n",
       "      <td>sgg</td>\n",
       "    </tr>\n",
       "    <tr>\n",
       "      <th>avantvent</th>\n",
       "      <td>avantvente</td>\n",
       "    </tr>\n",
       "    <tr>\n",
       "      <th>realis</th>\n",
       "      <td>realisation</td>\n",
       "    </tr>\n",
       "    <tr>\n",
       "      <th>projet</th>\n",
       "      <td>projet</td>\n",
       "    </tr>\n",
       "    <tr>\n",
       "      <th>b2b</th>\n",
       "      <td>b2b</td>\n",
       "    </tr>\n",
       "    <tr>\n",
       "      <th>extranet</th>\n",
       "      <td>extranet</td>\n",
       "    </tr>\n",
       "    <tr>\n",
       "      <th>embarqu</th>\n",
       "      <td>embarquant</td>\n",
       "    </tr>\n",
       "    <tr>\n",
       "      <th>configur</th>\n",
       "      <td>configurateur</td>\n",
       "    </tr>\n",
       "    <tr>\n",
       "      <th>selectic</th>\n",
       "      <td>selectica</td>\n",
       "    </tr>\n",
       "    <tr>\n",
       "      <th>intershopenfinity</th>\n",
       "      <td>intershopenfinity</td>\n",
       "    </tr>\n",
       "    <tr>\n",
       "      <th>prepar</th>\n",
       "      <td>preparation</td>\n",
       "    </tr>\n",
       "    <tr>\n",
       "      <th>command</th>\n",
       "      <td>commande</td>\n",
       "    </tr>\n",
       "    <tr>\n",
       "      <th>camion</th>\n",
       "      <td>camions</td>\n",
       "    </tr>\n",
       "    <tr>\n",
       "      <th>transport</th>\n",
       "      <td>transportant</td>\n",
       "    </tr>\n",
       "    <tr>\n",
       "      <th>verr</th>\n",
       "      <td>verre</td>\n",
       "    </tr>\n",
       "    <tr>\n",
       "      <th>distributeur</th>\n",
       "      <td>distributeurs</td>\n",
       "    </tr>\n",
       "    <tr>\n",
       "      <th>projet</th>\n",
       "      <td>projet</td>\n",
       "    </tr>\n",
       "    <tr>\n",
       "      <th>niveau</th>\n",
       "      <td>niveau</td>\n",
       "    </tr>\n",
       "    <tr>\n",
       "      <th>europ</th>\n",
       "      <td>europe</td>\n",
       "    </tr>\n",
       "    <tr>\n",
       "      <th>interfac</th>\n",
       "      <td>interface</td>\n",
       "    </tr>\n",
       "    <tr>\n",
       "      <th>sap</th>\n",
       "      <td>sap</td>\n",
       "    </tr>\n",
       "    <tr>\n",
       "      <th>bap</th>\n",
       "      <td>bapi</td>\n",
       "    </tr>\n",
       "    <tr>\n",
       "      <th>heberg</th>\n",
       "      <td>hebergement</td>\n",
       "    </tr>\n",
       "    <tr>\n",
       "      <th>linkbynet</th>\n",
       "      <td>linkbynet</td>\n",
       "    </tr>\n",
       "    <tr>\n",
       "      <th>equip</th>\n",
       "      <td>equipe</td>\n",
       "    </tr>\n",
       "    <tr>\n",
       "      <th>ebusiness</th>\n",
       "      <td>ebusiness</td>\n",
       "    </tr>\n",
       "    <tr>\n",
       "      <th>sebastien</th>\n",
       "      <td>sebastien</td>\n",
       "    </tr>\n",
       "    <tr>\n",
       "      <th>poh</th>\n",
       "      <td>poher</td>\n",
       "    </tr>\n",
       "  </tbody>\n",
       "</table>\n",
       "<p>307878 rows × 1 columns</p>\n",
       "</div>"
      ],
      "text/plain": [
       "                               words\n",
       "informaticien          informaticien\n",
       "developp               developpement\n",
       "reseau                       reseaux\n",
       "developpeur              developpeur\n",
       "integr                   integrateur\n",
       "web                              web\n",
       "eragny                        eragny\n",
       "recherch                   recherche\n",
       "opportunit               opportunite\n",
       "post                           poste\n",
       "developpeur              developpeur\n",
       "integr                   integrateur\n",
       "web                              web\n",
       "mont                          monter\n",
       "plus                            plus\n",
       "competent                 competence\n",
       "approfond                approfondir\n",
       "bas                            bases\n",
       "solid                         solide\n",
       "acquis                        acquis\n",
       "format                     formation\n",
       "experient                 experience\n",
       "informaticien          informaticien\n",
       "developp               developpement\n",
       "reseau                       reseaux\n",
       "legrandcercle95      legrandcercle95\n",
       "eragny                        eragny\n",
       "informaticien          informaticien\n",
       "entrepris                 entreprise\n",
       "mission                     missions\n",
       "...                              ...\n",
       "saintgobain              saintgobain\n",
       "glass                          glass\n",
       "sgg                              sgg\n",
       "avantvent                 avantvente\n",
       "realis                   realisation\n",
       "projet                        projet\n",
       "b2b                              b2b\n",
       "extranet                    extranet\n",
       "embarqu                   embarquant\n",
       "configur               configurateur\n",
       "selectic                   selectica\n",
       "intershopenfinity  intershopenfinity\n",
       "prepar                   preparation\n",
       "command                     commande\n",
       "camion                       camions\n",
       "transport               transportant\n",
       "verr                           verre\n",
       "distributeur           distributeurs\n",
       "projet                        projet\n",
       "niveau                        niveau\n",
       "europ                         europe\n",
       "interfac                   interface\n",
       "sap                              sap\n",
       "bap                             bapi\n",
       "heberg                   hebergement\n",
       "linkbynet                  linkbynet\n",
       "equip                         equipe\n",
       "ebusiness                  ebusiness\n",
       "sebastien                  sebastien\n",
       "poh                            poher\n",
       "\n",
       "[307878 rows x 1 columns]"
      ]
     },
     "execution_count": 26,
     "metadata": {},
     "output_type": "execute_result"
    }
   ],
   "source": [
    "vocab_frame_indeed = pd.DataFrame({'words': totalvocab_indeed_tokenized}, index = totalvocab_indeed_stemmed)\n",
    "print('there are ' + str(vocab_frame_indeed.shape[0]) + ' items in vocab_frame')\n",
    "vocab_frame_indeed"
   ]
  },
  {
   "cell_type": "markdown",
   "metadata": {},
   "source": [
    "### DBSCAN"
   ]
  },
  {
   "cell_type": "markdown",
   "metadata": {},
   "source": [
    "#### bag of word tf-idf"
   ]
  },
  {
   "cell_type": "code",
   "execution_count": 27,
   "metadata": {
    "collapsed": true
   },
   "outputs": [],
   "source": [
    "tf_vect = TfidfVectorizer(stop_words=stop_words_main,max_df=0.8,min_df=0.05,\\\n",
    "                           preprocessor=text_treatment,tokenizer=tokenize_and_stem)\n",
    "bow_idf_indeed = tf_vect.fit_transform(liste_cv_indeed_no_stop)\n",
    "l2_norm = make_pipeline(Normalizer(copy=False))\n",
    "bow_idf_indeed = l2_norm.fit_transform(bow_idf_indeed)\n",
    "\n",
    "vocab_liste_indeed = tf_vect.get_feature_names()"
   ]
  },
  {
   "cell_type": "code",
   "execution_count": 28,
   "metadata": {
    "collapsed": true
   },
   "outputs": [],
   "source": [
    "#Ajout une étape pour supprimer les doublons & shuffle\n",
    "buffer = pd.DataFrame(data=bow_idf_indeed.toarray())\n",
    "buffer = shuffle(buffer)\n",
    "buffer.drop_duplicates(inplace=True)\n",
    "\n",
    "new_idx = buffer.index\n",
    "bow_idf_indeed = buffer.values\n",
    "liste_files_new = []\n",
    "for idx in new_idx:\n",
    "    liste_files_new.append(liste_files_fr[idx])\n"
   ]
  },
  {
   "cell_type": "code",
   "execution_count": 29,
   "metadata": {},
   "outputs": [
    {
     "data": {
      "text/plain": [
       "Label\n",
       "-1    1092\n",
       " 0      28\n",
       " 1      52\n",
       " 2      12\n",
       " 3       9\n",
       "Name: Label, dtype: int64"
      ]
     },
     "execution_count": 29,
     "metadata": {},
     "output_type": "execute_result"
    }
   ],
   "source": [
    "dbs = DBSCAN(eps=0.9, min_samples=6, metric='euclidean', algorithm='auto', leaf_size=30, p=None, n_jobs=1)\n",
    "labels_dbscan = dbs.fit_predict(bow_idf_indeed)\n",
    "pd.DataFrame(labels_dbscan,columns=[\"Label\"]).groupby([\"Label\"])[\"Label\"].size()"
   ]
  },
  {
   "cell_type": "markdown",
   "metadata": {},
   "source": [
    "#### Find topics behind each cluster"
   ]
  },
  {
   "cell_type": "code",
   "execution_count": 30,
   "metadata": {
    "collapsed": true
   },
   "outputs": [],
   "source": [
    "#dictionnary with doc core sample idx for each cluster\n",
    "idx_core_samples = dbs.core_sample_indices_\n",
    "dict_core_idx_label = dict()\n",
    "for label in np.unique(labels_dbscan):\n",
    "    liste_idx_label = []\n",
    "    for idx in idx_core_samples:\n",
    "        if(labels_dbscan[idx])==label:\n",
    "            liste_idx_label.append(idx)\n",
    "    dict_core_idx_label[\"cluster_\"+str(label)] = liste_idx_label"
   ]
  },
  {
   "cell_type": "code",
   "execution_count": 31,
   "metadata": {
    "collapsed": true
   },
   "outputs": [],
   "source": [
    "#for each doc return n first words according to tf-idf\n",
    "dict_core_word_label = dict()\n",
    "for key in dict_core_idx_label.keys():\n",
    "    idx = dict_core_idx_label[key]\n",
    "    if len(idx)>0:\n",
    "        liste_cluster_word =list()\n",
    "        for i in idx :\n",
    "            idx_ordered_core = np.argsort(bow_idf_indeed[i])[::-1]\n",
    "            text = \"\"\n",
    "            for j in range(0, 4):  # nombre de mots\n",
    "                text += vocab_frame_indeed.loc[vocab_liste_indeed[idx_ordered_core[j]]].values.tolist()[0][0] + \" \"\n",
    "            liste_cluster_word.append(text)\n",
    "        dict_core_word_label[key] = liste_cluster_word\n",
    "        \n",
    "    #cluster -1 has no core samples\n",
    "    else :\n",
    "        dict_core_word_label[key] = [\"bruit\"]"
   ]
  },
  {
   "cell_type": "code",
   "execution_count": 32,
   "metadata": {},
   "outputs": [
    {
     "data": {
      "text/plain": [
       "dict_items([('cluster_-1', ['bruit']), ('cluster_0', ['statistiques r scientist stagiaire ', 'statistiques modelisation mathematiques data ', 'scientist data learning machines ', 'r statistiques data donnees ', 'data sciences learning machines ', 'statistiques learning data mathematiques ', 'data big r analyser ', 'data learning r scientist ']), ('cluster_1', ['oracle production dba bases ', 'oracle equipe applications encadrement ', 'oracle bases consulting version ', 'oracle dba bases controle ', 'oracle administratif installations version ', 'oracle suite sap plus ', 'oracle bases donnees server ', 'bases oracle dba realisation ', 'oracle serveur dba applications ', 'oracle installations configuration bases ', 'dba oracle production migrations ', 'oracle dba production bases ', 'oracle dba type bases ', 'oracle bases gerer projets ', 'oracle bases production incidents ', 'oracle bases dba techniques ', 'oracle dba unix prestation ', 'oracle dba gestion sap ', 'oracle bases server sql ', 'oracle dba bases transfert ', 'oracle dba administratif parc ', 'oracle dba applications support ', 'oracle dba script bases ', 'oracle bases sauvegarde administratif ', 'oracle donnees applications travaux ', 'oracle expert performances dba ', 'oracle bases donnees dba ', 'oracle unix administratif dba ', 'oracle donnees bases configuration ', 'oracle parametrage installations production ', 'oracle production audit dba ', 'oracle bases dba production ', 'oracle dba expert administratif ', 'bases donnees oracle installations ', 'oracle migrations unix dba ', 'oracle vmware production dba ', 'oracle bases referentiel donnees ', 'oracle bases suivi dba ', 'oracle performances dba production ', 'oracle donnees bases dba ', 'oracle data bases oeuvre ', 'oracle bases architecture sauvegarde ']), ('cluster_2', ['marketing digital communication vente ', 'marketing produits support campagne ', 'marketing communication management international ', 'marketing produits conception vente ']), ('cluster_3', ['reseaux administratif utilisateurs informatique '])])"
      ]
     },
     "execution_count": 32,
     "metadata": {},
     "output_type": "execute_result"
    }
   ],
   "source": [
    "dict_core_word_label.items()"
   ]
  },
  {
   "cell_type": "markdown",
   "metadata": {},
   "source": [
    "### DBSCAN X LSA"
   ]
  },
  {
   "cell_type": "markdown",
   "metadata": {},
   "source": [
    "Implement dimension reduction with LSA before DBSCAN"
   ]
  },
  {
   "cell_type": "code",
   "execution_count": 33,
   "metadata": {},
   "outputs": [
    {
     "name": "stdout",
     "output_type": "stream",
     "text": [
      "Explained variance of the SVD step: 75%\n"
     ]
    }
   ],
   "source": [
    "# implement LSA\n",
    "lsa_number = 165\n",
    "svd = TruncatedSVD(lsa_number)\n",
    "bow_idf_reduced_indeed = svd.fit_transform(bow_idf_indeed)\n",
    "explained_variance = svd.explained_variance_ratio_.sum()\n",
    "print(\"Explained variance of the SVD step: {}%\".format(int(explained_variance * 100)))"
   ]
  },
  {
   "cell_type": "code",
   "execution_count": 34,
   "metadata": {},
   "outputs": [
    {
     "data": {
      "text/plain": [
       "Label\n",
       "-1    625\n",
       " 0     97\n",
       " 1     99\n",
       " 2     78\n",
       " 3    186\n",
       " 4      9\n",
       " 5     56\n",
       " 6     43\n",
       "Name: Label, dtype: int64"
      ]
     },
     "execution_count": 34,
     "metadata": {},
     "output_type": "execute_result"
    }
   ],
   "source": [
    "dbs = DBSCAN(eps=0.83, min_samples=10, metric='euclidean', algorithm='auto', leaf_size=30, p=None, n_jobs=1)\n",
    "labels_dbscan = dbs.fit_predict(bow_idf_reduced_indeed)\n",
    "pd.DataFrame(labels_dbscan,columns=[\"Label\"]).groupby([\"Label\"])[\"Label\"].size()"
   ]
  },
  {
   "cell_type": "markdown",
   "metadata": {},
   "source": [
    "#### Find topics behind each cluster"
   ]
  },
  {
   "cell_type": "code",
   "execution_count": 35,
   "metadata": {
    "collapsed": true
   },
   "outputs": [],
   "source": [
    "idx_core_samples = dbs.core_sample_indices_\n",
    "dict_core_idx_label = dict()\n",
    "for label in np.unique(labels_dbscan):\n",
    "    liste_idx_label = []\n",
    "    for idx in idx_core_samples:\n",
    "        if(labels_dbscan[idx])==label:\n",
    "            liste_idx_label.append(idx)\n",
    "    dict_core_idx_label[\"cluster_\"+str(label)] = liste_idx_label"
   ]
  },
  {
   "cell_type": "code",
   "execution_count": 36,
   "metadata": {},
   "outputs": [
    {
     "data": {
      "text/plain": [
       "[]"
      ]
     },
     "execution_count": 36,
     "metadata": {},
     "output_type": "execute_result"
    }
   ],
   "source": [
    "dict_core_idx_label[\"cluster_-1\"]"
   ]
  },
  {
   "cell_type": "code",
   "execution_count": 37,
   "metadata": {
    "collapsed": true
   },
   "outputs": [],
   "source": [
    "dict_core_word_label = dict()\n",
    "for key in dict_core_idx_label.keys():\n",
    "    idx = dict_core_idx_label[key]\n",
    "    if len(idx)>0:\n",
    "        liste_cluster_word =list()\n",
    "        for i in idx :\n",
    "            idx_ordered_core = np.argsort(bow_idf_indeed[i])[::-1]\n",
    "            text = \"\"\n",
    "            for j in range(0, 4):  # nombre de motss\n",
    "                text += vocab_frame_indeed.loc[vocab_liste_indeed[idx_ordered_core[j]]].values.tolist()[0][0] + \" \"\n",
    "            liste_cluster_word.append(text)\n",
    "        dict_core_word_label[key] = liste_cluster_word\n",
    "    else :\n",
    "        dict_core_word_label[key] = [\"bruit\"]"
   ]
  },
  {
   "cell_type": "code",
   "execution_count": 38,
   "metadata": {},
   "outputs": [
    {
     "data": {
      "text/plain": [
       "dict_items([('cluster_-1', ['bruit']), ('cluster_0', ['scientist statistiques consultant data ', 'scientist data learning sciences ', 'r algorithme data responsabilites ', 'scientist data certificationslicenses sas ', 'statistiques data scientist algorithme ', 'statistiques r scientist stagiaire ', 'statistiques modelisation mathematiques data ', 'data analyste software donnees ', 'scientist data learning machines ', 'scientist data automatiques master ', 'r statistiques data donnees ', 'scientist data mathematiques sas ', 'data sciences learning machines ', 'learning machines data r ', 'statistiques learning data mathematiques ', 'data membre equipe developpeur ', 'data stage certification learning ', 'statistiques modelisation scientist mathematiques ', 'algorithme construction e r ', 'r learning stagiaire data ', 'data big ingenieur scientist ', 'data scientist appliquees mathematiques ', 'data stagiaire analytics big ', 'mathematiques stage scientist statistiques ', 'learning machines sciences analyser ', 'public data scientist projets ', 'python data learning scientist ', 'statistiques r data construction ', 'data algorithme mysql juniors ', 'methodes scientist data r ', 'data juniors scientist accueil ', 'statistiques data decision economie ', 'scientist data sas clients ', 'scientist python learning data ', 'learning data machines algorithme ', 'c profils data r ', 'data big biais tableaux ', 'data stage r scientist ', 'data stage annees mathematiques ', 'data scientist tant cree ', 'r mathematiques scientist data ', 'data big r analyser ', 'statistiques ingenieur scientist data ', 'data learning r scientist ', 'mathematiques data learning scientist ', 'data r machines donnees ', 'stagiaire data scientist statistiques ', 'data scientist stagiaire sciences ', 'data scientist analyste ingenieur ', 'scientist data leader r ', 'data scientist stage classification ', 'telecom python analyser scientist ', 'scientist stagiaire data r ']), ('cluster_1', ['reseaux serveur vpn technicien ', 'niveau pilote exploitation windows ', 'connaissances reseaux windows informatique ', 'vmware windows server informatique ', 'windows serveur reseaux configuration ', 'reseaux orange informatique technicien ', 'reseaux informatique systeme administratif ', 'prestation defense assistant technicien ', 'technicien incidents distance poste ', 'informatique technicien reseaux accueil ', 'pc technicien informatique prise ', 'technicien server informatique cisco ', 'commande incidents technicien windows ', 'support technicien utilisateurs android ', 'technicien materiel techniques surveillance ', 'installations maintenance gestion reseaux ', 'administratif configuration reseaux vmware ', 'serveur techniques windows administratif ', 'reseaux informatique administratif electronique ', 'windows distance pc technicien ', 'reseaux informatique systeme configuration ', 'reseaux informatique mettre gerer ', 'serveur administratif incidents gestion ', 'administratif linux freelance serveur ', 'administratif serveur messagerie windows ', 'serveur securite administratif systeme ', 'administratif cisco systeme reseaux ', 'technicien incidents deploiements sauvegarde ', 'reseaux windows installations comptes ', 'reseaux configuration informaticien installations ', 'serveur infrastructures projets equipe ', 'reseaux administratif utilisateurs informatique ', 'societes installations informatique technicien ', 'configuration administratif installations windows ', 'informatique reseaux agence systeme ', 'licence reseaux vpn cisco ', 'support technicien freelance logiciel ', 'distance installations serveur informatique ', 'gestion administratif serveur parc ', 'reseaux telecom systeme installations ']), ('cluster_2', ['oracle production dba bases ', 'oracle equipe applications encadrement ', 'oracle bases consulting version ', 'oracle xml dba applications ', 'oracle dba bases controle ', 'oracle architecture applications bases ', 'oracle administratif installations version ', 'oracle suite sap plus ', 'oracle bases donnees server ', 'bases oracle support donnees ', 'migrations performances oracle bases ', 'bases oracle dba realisation ', 'oracle serveur dba applications ', 'oracle installations configuration bases ', 'script superviser oracle serveur ', 'dba oracle production migrations ', 'oracle dba production bases ', 'oracle plateforme livraison administratif ', 'oracle dba type bases ', 'oracle bases gerer projets ', 'oracle dba projets chef ', 'oracle bases production incidents ', 'oracle plsql unix donnees ', 'oracle bases dba techniques ', 'oracle reseaux installations systeme ', 'oracle donnees sql bases ', 'oracle dba unix prestation ', 'oracle dba ibm migrations ', 'dba oracle senior sciences ', 'oracle dba gestion sap ', 'oracle bases server sql ', 'oracle dba bases transfert ', 'oracle dba administratif parc ', 'oracle dba applications support ', 'oracle dba script bases ', 'oracle bases sauvegarde administratif ', 'oracle donnees applications travaux ', 'oracle expert performances dba ', 'oracle bases donnees dba ', 'oracle unix administratif dba ', 'oracle donnees bases configuration ', 'oracle parametrage installations production ', 'oracle production audit dba ', 'oracle bases dba production ', 'oracle dba expert administratif ', 'bases donnees oracle installations ', 'oracle migrations unix dba ', 'oracle vmware production dba ', 'oracle bases referentiel donnees ', 'plsql oracle moe sql ', 'oracle bases suivi dba ', 'oracle performances dba production ', 'oracle donnees bases dba ', 'oracle data bases oeuvre ', 'oracle donnees developpement sql ', 'oracle bases architecture sauvegarde ']), ('cluster_3', ['marketing innovantes clients juniors ', 'marketing strategie veille analyser ', 'commercial vente distribution transformateur ', 'profils chargee entretien projets ', 'pilotage controle financiers budget ', 'marches produits synthese europe ', 'digital design chargee web ', 'marketing entites direction groupes ', 'marketing marques google vente ', 'profils suivi consultant humaines ', 'marketing digital communication vente ', 'marketing creation communication produits ', 'marketing produits support campagne ', 'entretien it profils selection ', 'marketing produits chef alternance ', 'communication marketing media partenariat ', 'commercial activite entreprise pays ', 'controle comptable mensuel comptes ', 'marketing communication management international ', 'commercial juniors clients chef ', 'offres produits management definition ', 'comptes resultat commercial grand ', 'commercial strategie affaires consultant ', 'marketing partenaires gestion editeur ', 'digital marques media marketing ', 'marketing analytics campagne performances ', 'marketing strategie pilotage offres ', 'commercial principales facturation business ', 'marketing veille strategie etudes ', 'filiale suivi entites budget ', 'grand commercial commande comptes ', 'marketing operationnel directeur definition ', 'commercial assurer clients marketing ', 'financiers prestataires comptable directeur ', 'chargee entretien genie profils ', 'gestion aupres humaines contrat ', 'commercial poles assistant livraison ', 'chargee qualifie entretien selection ', 'chargee profils entretien recherche ', 'emploi entretien physique disposition ', 'marketing campagne crm reporting ', 'actions marketing charge communication ', 'communication produits marketing commercial ', 'comptable comptes etablissement controle ', 'marketing erp offres responsable ', 'marketing analyste business suivi ', 'vente commercial marketing management ', 'marketing international lance produits ', 'marketing offres consultant nouvelles ', 'chef offres digital marketing ', 'marketing strategie direction marques ', 'marketing crm deploiements strategie ', 'marketing produits conception vente ', 'entretien prospection collaborateurs clients ', 'financiers audit specialisation banque ', 'commercial chargee qualifie entretien ', 'controle audit financiers credit ', 'commercial prospection chargee bureau ', 'commercial marches vente business ', 'chargee evenements entretien suivi ', 'marketing produits analyser crm ', 'strategie lance marketing grand ', 'marketing charge produits international ', 'financiers financieres performances credit ', 'entretien profils responsable emploi ', 'clients management portefeuille negociation ', 'commercial operationnel directeur equipe ', 'marketing data analyser strategie ', 'financiers juridiques finance suivi ', 'digital commercial directeur management ', 'chargee entretien genie profils ', 'marketing digital marques strategie ', 'marketing animation responsabilites stage ', 'profils entretien chargee commercial ']), ('cluster_4', ['statistiques reporting outil sas ']), ('cluster_5', ['projets word conduite chef ', 'moe projets solutions chef ', 'recette fonctionnelle redaction competence ', 'pilotage projets telecom tests ', 'processus migrations choix utilisateurs ', 'moe projets bancaires permettant ', 'projets specifications chef methodologie ', 'recette techniques prestataires developpement ', 'projets comites fort pilotage ', 'moe projets redaction recette ', 'applications projets chef redaction ', 'projets techniques gestion methodes ', 'valider projets transformateur service ', 'agile migrations pilotage plannings ', 'projets chef comites recette ', 'reunions chef plannings produits ', 'moe projets calcul risques ', 'projets infrastructures reseaux solutions ', 'cadre coordination gestion projets ']), ('cluster_6', ['web developpeur etudiant stagiaire ', 'web developpeur espace freelance ', 'developpeur android java c ', 'developpeur web tant creation ', 'web developpeur complementaires photoshop ', 'developpeur web stage appliquees ', 'developpeur web design css ', 'web developpeur reseaux centrale ', 'developpeur web photoshop niveau ', 'web developpeur devis intranet ', 'web developpeur alternance integrateur '])])"
      ]
     },
     "execution_count": 38,
     "metadata": {},
     "output_type": "execute_result"
    }
   ],
   "source": [
    "dict_core_word_label.items()"
   ]
  },
  {
   "cell_type": "markdown",
   "metadata": {},
   "source": [
    "#### CV TALAN"
   ]
  },
  {
   "cell_type": "code",
   "execution_count": 39,
   "metadata": {},
   "outputs": [
    {
     "name": "stdout",
     "output_type": "stream",
     "text": [
      "632\n"
     ]
    }
   ],
   "source": [
    "#download talan CVs \n",
    "liste_cv_talan = []\n",
    "liste_files_talan = []\n",
    "path = \"../Data_talan/txt/\"\n",
    "filenames = sorted(glob(os.path.join(path,\"*.txt\")))\n",
    "print(len(filenames))\n",
    "for file in filenames:\n",
    "    liste_cv_talan.append(open(file).read())\n",
    "    liste_files_talan.append(file.split('/')[-1].split('.')[0])"
   ]
  },
  {
   "cell_type": "code",
   "execution_count": 40,
   "metadata": {},
   "outputs": [
    {
     "data": {
      "text/plain": [
       "\"Secteurs Télécom & média Activités métier Avant-vente, Développement Intégration & validation. Compétences fonctionnelles CRM : Elaboration de réponses aux appels d’offres, conception des processus métiers, rédaction des spécifications fonctionnelles, préparations des maquettes. Compétences techniques Microsoft Dynamics CRM 2011,2013 Salesforce CRM Architecture et plan de migration (volumétrie importante) Service Director : solution de QOS Oblicore Guarantee : solution SLM Développement : J2EE (EJB3, JMS), Webservice, API, Javascript,C#. Base de données : SQL Server, Oracle, PostgreSQL, MySQL Méthodologie Agile: Scrum, Extreem programing, Sure Step , UML. Atos France Bull France CRM Dynamics 2013, Salesforce CRM Dynamics 2011 Avant-vente CRM : Elaboration de réponses aux appels d’offres, conception des processus métiers, rédaction des spécifications fonctionnelles, préparations des maquettes SLM : Gestion des contrats SLM (Service Level Management) Prise de commande Télécom (SI) Processus métiers transport de fret routier Processus métier collectivité territoriale citoyens 360° Métiers Télécom SI : Provisioning, Médiation, Activation Orange France SLA réseau mobile Gestion du contrat SLM (Service Level Management) sur le produit Oblicore (BSI) Mobistar Covage Service Quality Management évolution sur le modèle Mobistar SI : Interface de prise de commande Orange France Activation Des Terminaux SIP Phones 2015 2015 2013 2012 2012 2012 2011 2008 Formation CRM Salesforce Application Builder 401 Formation CRM Dynamics 2013 Formation Adobe Campaign (Neolane) Certification Microsoft Dynamics CRM 2011 Applications Certification Microsoft Dynamics CRM 2011 Customization and Configuration Certification Microsoft Dynamics CRM 2011 Installation and deployment Formation CRM (théorique et technique), CRM Dynamics 2011, Formation Marketing Formation Méthode de gestion de projet SCRUM Formation Microsoft SURE STEP Formation UML de 5 jours 2009 2008 Master 2 Télécom et Réseau (Orsay) Formation UML 5 jours 2007 Ingénieur Généraliste en Informatique (BAC+5) USTHB (Université des Sciences et de la Technologie HOUARI BOUMEDIENE) Français Bilingue Anglais Lu, Ecrit &Parlé Arabe Langue maternelle Avril 2016 ATOS – Société Générale ALD I -Consultante CRM –International Projet CRM Salesforce. Rôle Consultante Technico-fonctionnelle, Deployment Manager par Intérim, Référente Technique Déploiement Contexte & Mission Projet CRM Salesforce : CRM Salesforce remarketing automation projet en mode agile Réalisations Auditer les Paramétrages sur la solution existante Auditer le code Apex : vérifier l’application des bonnes pratiques Définir le RACI et les prérequis pour chaque étape avec le client, participer à définir le planning de déploiement et la Roadmap pour 13 pays Définir avec le client les documents à utiliser pour le déploiement : Config kit, les Templates, Outils de ticketing..ect Contribuer sur les différentes tâches d’initialisation du projet : Kick-off présentations, animer les workshops déploiements Participer à la récolte des besoins pays (Pre-study) : Slovaquie et république tchèque Animer les workshops pour récupérer les inputs techniques avec les responsables IT des pays Organiser le démarrage de déploiement pays : Chiffrage, Budget, vérifier les prérequis, donner l’OK pour le démarrage Paramétrer (Paramétrage Core) sur Salesforce pour déployer la Slovaquie et la république tchèque : Fields, profils, rôles, Outlook for Salesforce...ect Gérer la migration des données depuis les applications existantes Gérer l’équipe déploiement Environnement technique CRM salesforce,Eclipse, Outlook for salesforce, Migration tool Mars 2015 Mars 2016 ATOS– RENAULT en régie -Consultante CRM –France Consultante Technico-fonctionnelle Projet CRM Salesforce : CRM Salesforce (SFA Sales Force automation, LMT Lead Management tools) : projet en mode agile, Référentiel Prospect/Client déployé internationalement, pour les différents concessionnaires Renault. Interfaçages avec les applications métiers. Consultante technico-Fonctionnelle. Paramétrage sur SalesForce : Profil, Role , Record Type, page layout..ect Développer sur le module de gestion des Leads LMT-Salesforce : Développer un moteur de Fidélisation des clients Développer des Notifications Email en changeant le Template Développer des WebService de Synchronisation des Opportunités/commandes avec les applications métiers. Auditer le code Apex : vérifier l’application des bonnes pratiques Salesforce Participer à la rédaction des contrats d’interface, Implémentation de WebServices, Batch et trigger. Participer à la rédaction des jeux de tests. Qualifier fonctionnellement et effectuer les tests de validation. Support technique. CRM salesforce, Web Services (SOAP), Apex, SOQL,SOAPUI,Eclipse,OAuth2 Avril 2014 au Janvier 2015 ATOS -OBS/Véolia - M2M médiation- Responsable qualité/Recette/Intégration – France IDF M2M : médiation M2O, client OBS/Véolia Responsable qualité/Recette/Intégration Intégration projet M2O Médiation Participer à la rédaction des spécifications générales d’une très importante évolution (V4) (ajout de 13 flux de médiation). Coaching d’une équipe de test de 3 personnes durant les réalisations des évolutions. Préparer les livraisons : Releases, Procédure et manuel d’installation, manuel d’exploitation. Rédiger le cahier de recette. Participer à la rédaction des JEV Qualifier fonctionnellement et effectuer les tests de validation Garantir le support technique. Analyser technico-fonctionnellement les impacts des demandes d’évolution , analyser et auditer à la demande du client les problèmes de performances . Intégration : paramétrage. Effectuer la migration d’une partie de la BDD Oracle de la PF de production vers la PF de pré-production . Animer les instances et workshop du projet avec le client (COPROJ quotidien): présentation, synthèse, état d’avancement. Participer aux réunions quotidiennes d’exploitation point de suivi PRODUCTION animé par le client. Qualifications fonctionnelles et tests de validation. Automatiser les tests, en élaborant et implémentant des scripts Bash entièrement configurables. Participer aux tests de benchemarking. M2M, Scripting Bash, AIX, Platine (mediation), Administration BDD Oracle 11g, Middleware : Tuxedo oracle Mars 2014 au Mai 2014 BULL -INERIS - M2M-BigData– Ingénieur Développeur/testeur– France IDF GEOD’AIR , client INERIS Ingénieur Développeur/testeur Statistiques sur la pollution d’air avec les normes européennes Développement en Java des modules de calcul statistiques de la qualité d'air (collecte des données BD NoSQL). Participation à la rédaction des JEV. Qualifications fonctionnelles et tests de validation. M2M, BigData, MongoDB, BD NoSql, PostgreSQL,Java Déc. 2013 Au févr. 2014 3 mois Bull France –Avant- vente -France SI/CRM Dynamics 2013. Responsable Avant-vente Avant-vente Elaboration de réponses aux appels d’offres clients : Participation à la construction d’offres : CRM, Plate-forme de service ,architecture M2M, Tierce intégration. Etude des différentes solutions techniques pour une architecture SI et plate-forme de service. Elaboration de réponses : plans de migration et stratégie de reprise de données avec une volumétrie importante (opérateurs télécoms) Participation à la rédaction des spécifications fonctionnelles et techniques des propositions. CRM Dynamics 2013,ADFS2.0,OAuth2, BD NoSql, MOM : DDS , AMQP, JMS,Rest, OSGi,OSGi-Me , J2ME Embarquée. Depuis janv 2013 Mobinil Egypt –BULL TMA TMA Mobinil Ingénieur Développeur Support Provisioning pour l’opérateur Telecom Mobinil. Support technique. Différentes activités internes sur le projet : préparation de la migration vers la nouvelle version KPSA 3.7, synchronisation des données entre deux serveurs de développements KPSA3.5, KPSA3.7, SVN, Linux Red Hat, Oracle 10, Oracle11, Scripts shell. juin 2013 à fin juin 2013 Pôle Emploi - BULL – Avant-vente – France Pôle Emploi – Avant-vente – France Avant-vente SLM Pole Emploi Réalisation d’un POC SLM autour de la solution BSI. Mise en place : d’un adaptateur, des contrats, des rapports et un tableau de bord. Présentation du POC au client, (répartie sur deux workshops). BSI 8.1, Oracle 11, IIS7.. Mai 2012 à 2013 Avant-vente : CRM Dynamics 2011 Secteur Public et privé Ingénieur Développement Elaboration de réponses aux appels d’offres clients : Participation à la construction d’offres : CRM, Tierce intégration. Rédaction des spécifications fonctionnelles et techniques de la solution. Préparation de la plate-forme de développement : installation et configuration : Windows Server 2R, Active Directory, SQL Server 2008, SQL Server Reporting Service 2008, CRM Dynamics 2011. Développement de deux maquettes: personnalisation MS Dynamics, développement Java script, développement Web service, plugins c#. CRM Dynamics 2011 , Composants de liste (list component) pour SharePoint, Visual studio 2010, Windows Server 2K,Active Directory,SQL Server 2008, SQL Server Reporting Service 2008, ,IIS7 ,SharePoint. De Juillet 2011 à Avril 2012 Orange –BULL -France SLA réseau mobile Lot 1, Lot2 Gestion du contrat SLM (Service Level Management) sur le produit Oblicore Participation aux Workshops avec le client Intégration et développement sur l’outil de « Service Level management» BSI (anciennement Oblicore) : intégration des données, rapports Développements en .net : Modifications sur l’IHM de prétraitement de données Etude et rédaction de documentation techniques sur les APIs de la solution BSI. Rédaction des rapports associés, rédaction de guide d’utilisation de la solution. Support technique BSI , Visual Basic, Oracle 10, IIS7, Visual studio 2010 De Mars 2011 à Avr 2011 COVAGE –BULL -France COVAGE SI Ingénieur Développement J2EE Interface de prise de commande Covage SI. Développeur. : Évolution de l’interface graphique de l’application web « Prise de Commande ». Environnement technique Eclipse, JOnAS, MySQL ,Hibernate , J2EE (JSP, JSF), MAVEN, spring, SVN. De Juin 2011 à Iuil 2011 ORANGE CAMEROUN –BULL -France P2P ORANGE CAMEROUN Ingénieur Développement J2EE P2P ORANGE CAMEROUN Développeur. Évolution du « Mapping Externe » , en utilisant les bonnes pratiques de développement . Développement du parsing XMl , Servlet Développement des scripts de configuration en Groovy Tests unitaire avec Junit Eclipse, JOnAS, MySQL, J2EE , MAVEN, Spring, Groovy, SVN. De Janv 2011 à Mars 2011 Mobistar –BULL -France Service Quality Management(SQM) évolution sur le modèle Mobistar Projet d’évolution sur produit Service Director de gestion de la QOS Développement des schémas Modélisation Définition des plans de tests Validation de ces schémas Support technique Service Director ,Oracle,XML Scripts Pyton,Sripts Shell De Sept 2010 à Déc 2010 Orange –BULL –France ADT SIP Phones Projet de mise en place d’une plateforme d’activation des terminaux (téléphones VOIP) Développement et Tests des web services (J2EE, SOAP), pour s’interfacer avec des équipements: SIP Phones Validation des web services Conception et modélisation de la partie persistance : base de données J2EE, SOAP, Jonas4, PostgreSQL, SVN, Eclipse De Avr 2010 à Sept 2010 Bull télécom et Média France Stage Conception et Réalisation : Auto Configuration Server ACS Conception et Développement d'un ACS sur la base d'une architecture J2EE et des composants open source. Eclipse, JOnAS, PostgreSQL, J2EE (JSP,JSF, EJB3) SOAP,JMS, SVN. Norme :TR-069. De Fevr 2008 à juil 2009 SNTR Groupe - Algérie ERP Gestion de Fret routier Ingénieur Responsable ERP Responsable ERP Gestion de Fret routier chez le Leader du transport de marchandise et d’hydrocarbure en Algérie . Filiale : Logitrans Maintenance Plus..ect Mise en place et pilotage des évolutions sur la solution. Mise en place des Scripts oracle pour la gestion des recettes. Unification des bases de données des différents sites et unités, le déploiement sur les sites pour les 42 Wilayas de l’ Algérie . Etablir les Testes fonctionnelles 6 Sigma, Oracle,ITIL De Avr 2007 à Sept 2008 Askesis consulting - Algérie Ingénieur Recherche et Développement Etude de plusieurs ERP Open Source, Développement et personnalisation sur des solutions Open source. Etude des fonctionnalités de plusieurs logiciels open source. Conception et implémentation Plug-in d’authentification (c#) sur un projet pour la société Algérienne des Sacs Enduits : Spa (SASACE). Administration réseaux, mise en place serveur Proxy, serveur antiviral Kaspersky Server. OS Linux, JEE, Ajax : GWT, EJB, SOA, BPM, Eclipse, Netbeans, JBoss, C#.net, Scrum, Extreme Programming, ITIL . De Mars 2007 à Sept 2007 Algérie Télécom – Stage Sécurité Réseau – Algérie Stage de fin d’études Stage de Sécurité et réseau à Algérie Télécom (stage de fin d’études) PFE Contribution à la détection d’intrusions, application à Snort sous Linux. L’ajout de deux préprocesseurs de détection à Snort ( langage C ) . Optimisation de la structure des règles Snort (langage C ) . Conception et réalisation d’une interface graphique à Snort (langage JAVA ). Java, JCreator, AWT, Swing , C, Linux Fedora core 4, Snort ,TCP/IP ACH Consultante Senior 9 ans d’expérience Domaines Majeurs de Compétences Références Significatives Formations Langues Expériences professionnelles\""
      ]
     },
     "execution_count": 40,
     "metadata": {},
     "output_type": "execute_result"
    }
   ],
   "source": [
    "liste_cv_talan[0]"
   ]
  },
  {
   "cell_type": "code",
   "execution_count": 41,
   "metadata": {
    "collapsed": true
   },
   "outputs": [],
   "source": [
    "#suppression des saut de lignes\n",
    "liste_cv_talan = [del_line_feed(text).lower() for text in liste_cv_talan]\n",
    "\n",
    "#suppression de la ponctuation\n",
    "liste_cv_talan_no_punc = [del_punct(text) for text in liste_cv_talan]"
   ]
  },
  {
   "cell_type": "code",
   "execution_count": 42,
   "metadata": {},
   "outputs": [
    {
     "name": "stdout",
     "output_type": "stream",
     "text": [
      "proportion cv french : 0.9636075949367089\n"
     ]
    }
   ],
   "source": [
    "#selectionner seulement cvs fr\n",
    "liste_cv_talan_fr,liste_files_talan_fr = get_cv_langue(liste_cv_talan_no_punc,'french',liste_files_talan)\n",
    "\n",
    "nb_cv = len(liste_cv_talan_no_punc)\n",
    "nb_cv_fr = len(liste_cv_talan_fr)\n",
    "\n",
    "print(\"proportion cv french :\",1- ((nb_cv-nb_cv_fr)/nb_cv))"
   ]
  },
  {
   "cell_type": "code",
   "execution_count": 43,
   "metadata": {
    "collapsed": true
   },
   "outputs": [],
   "source": [
    "#On supprime les caractères étranges, accents et stop words\n",
    "liste_cv_treated_talan = [text_treatment(text) for text in liste_cv_talan_fr]\n",
    "\n",
    "#remove stop word\n",
    "liste_cv_talan_no_stop = [remove_stopwords(text,stop_words_main) for text in liste_cv_treated_talan]"
   ]
  },
  {
   "cell_type": "code",
   "execution_count": 44,
   "metadata": {},
   "outputs": [
    {
     "data": {
      "text/plain": [
       "\"competences sectorielles finance sante serveurs applications progiciels reuters powerplus pro methodologies xml langages outils developpement sql visual basic html materiel systemes exploitation windows nt bases donnees relationnelles oracle consultant junior formation ecole ingenieur ecole internationale sciences traitement information e i s i genie mathematique option ingenierie financiere competences experience personelle sejour linguistique famille ecossaise approfondissement anglais decouverte milieu equestre experience professionnelle stage pole bourse etrangere procapital - projet gestion execution operations financieres objet projet controle gestion execution transactions financieres controle trades etrangers depositaires differents marches rapprochement quotidien clients - marches etrangers collecte transactions passees fortis ainsi merrill lynch forme fichiers extraits ifac base donnees controle transactions passees fortis ainsi merrill lynch gestion anticipation achat vente cash differentes devises extraction informations cash differentes plates formes fortis i custody merrill lynch integration informations differents comptes reflet representant operations differentes devises controle prevision cash cash reel devise ajout comptes cash differentes devises ordres achat vente action obligation routes systeme brokers externes anticipation cash devise gestion execution operations titres etrangers passees brokers cash ordre passe instructions reglement livraison depositaire depouillement operation comptes clients brokers reflets gestion execution transferts valeurs etrangeres entrants sortants environnement technique windows nt microsoft office excel vba stage assistant gerant quilvest banque privee - projet assistance equipe gestion actifs objet projet assistance gerants jour documentation presentation quilvest projet jour homogeneisation documentation presentation quilvest banque privee futurs investisseurs clients powerpoint preparation presentation morning suivi redaction clients realisation reportings fonds amelioration creation reportings presentations comptes resultats societes suivi synthese comptes resultats passage ordres billets tresorerie fonds analyse ponctuelle entreprises cotees definition limites introduction eventuelle liste valeurs extraction differentes analyses reuters environnement technique windows nt microsoft office excel vba reuters powerplus pro powerpoint stage ministere sante - projet evolution systeme information travers portail web objet projet assistance evolution systeme information plans regionaux sante publique travers portail web briques extractions informations base donnees systeme information biais requetes sql presentation rapports partir extractions creation tableaux croises dynamiques reporting presentations powerpoint elaboration cahier charges fonctionnel nouvelle version logiciel elaboration nomenclature nouvelle version recette fonctionnelle environnement technique windows nt microsoft office excel sql powerpoint langues anglais courant espagnol niveau intermediaire centres interets sports champion de volley ball voile planche voile velo equitation vie associative vice president voieisti course spi dauphine course edhec secretaire club investissement eisti'mat responsable volley ball bureau sports bds \""
      ]
     },
     "execution_count": 44,
     "metadata": {},
     "output_type": "execute_result"
    }
   ],
   "source": [
    "#facultatif add only for talan cv (delete numbers) -> could be use for the preprocessing in general !\n",
    "liste_cv_talan_clean = [re.sub('[0-9 ]+', ' ', text) for text in liste_cv_talan_no_stop]\n",
    "liste_cv_talan_clean[2]"
   ]
  },
  {
   "cell_type": "code",
   "execution_count": null,
   "metadata": {},
   "outputs": [],
   "source": [
    "totalvocab_stemmed_talan = []\n",
    "totalvocab_tokenized_talan = []\n",
    "for text in liste_cv_talan_no_stop:\n",
    "    allwords_stemmed = tokenize_and_stem(text) #for each item in 'synopses', tokenize/stem\n",
    "    totalvocab_stemmed_talan.extend(allwords_stemmed) #extend the 'totalvocab_stemmed' list\n",
    "    allwords_tokenized = tokenize_only(text)\n",
    "    totalvocab_tokenized_talan.extend(allwords_tokenized)\n",
    "\n",
    "vocab_frame_talan = pd.DataFrame({'words': totalvocab_tokenized_talan}, index = totalvocab_stemmed_talan)\n",
    "print('there are ' + str(vocab_frame_talan.shape[0]) + ' items in vocab_frame')\n",
    "vocab_frame_talan"
   ]
  },
  {
   "cell_type": "code",
   "execution_count": 162,
   "metadata": {},
   "outputs": [
    {
     "name": "stderr",
     "output_type": "stream",
     "text": [
      "/Users/mehdiregina/anaconda/lib/python3.6/site-packages/sklearn/feature_extraction/text.py:1059: FutureWarning: Conversion of the second argument of issubdtype from `float` to `np.floating` is deprecated. In future, it will be treated as `np.float64 == np.dtype(float).type`.\n",
      "  if hasattr(X, 'dtype') and np.issubdtype(X.dtype, np.float):\n"
     ]
    }
   ],
   "source": [
    "#TF IDF BOW Representation\n",
    "tf_vect = TfidfVectorizer(stop_words=stop_words_main,max_df=0.7,min_df=0.1,\\\n",
    "                           preprocessor=text_treatment,tokenizer=tokenize_and_stem)\n",
    "bow_idf_talan = tf_vect.fit_transform(liste_cv_talan_clean)\n",
    "\n",
    "vocab_liste_talan = tf_vect.get_feature_names()"
   ]
  },
  {
   "cell_type": "code",
   "execution_count": 163,
   "metadata": {},
   "outputs": [
    {
     "data": {
      "text/plain": [
       "522"
      ]
     },
     "execution_count": 163,
     "metadata": {},
     "output_type": "execute_result"
    }
   ],
   "source": [
    "len(vocab_liste_talan)"
   ]
  },
  {
   "cell_type": "code",
   "execution_count": 164,
   "metadata": {
    "collapsed": true
   },
   "outputs": [],
   "source": [
    "#Ajout une étape pour supprimer les doublons & shuffle\n",
    "buffer = pd.DataFrame(data=bow_idf_talan.toarray())\n",
    "buffer = shuffle(buffer)\n",
    "buffer.drop_duplicates(inplace=True)\n",
    "\n",
    "new_idx = buffer.index\n",
    "bow_idf_talan = buffer.values\n",
    "liste_files_new = []\n",
    "for idx in new_idx:\n",
    "    liste_files_new.append(liste_files_talan_fr[idx])"
   ]
  },
  {
   "cell_type": "code",
   "execution_count": 165,
   "metadata": {},
   "outputs": [
    {
     "data": {
      "text/plain": [
       "Label\n",
       "-1    112\n",
       " 0     36\n",
       " 1      8\n",
       " 2      8\n",
       "Name: Label, dtype: int64"
      ]
     },
     "execution_count": 165,
     "metadata": {},
     "output_type": "execute_result"
    }
   ],
   "source": [
    "dbs = DBSCAN(eps=0.97, min_samples=6, metric='euclidean', algorithm='auto', leaf_size=30, p=None, n_jobs=1)\n",
    "labels_dbscan = dbs.fit_predict(bow_idf_talan)\n",
    "\n",
    "pd.DataFrame(labels_dbscan,columns=[\"Label\"]).groupby([\"Label\"])[\"Label\"].size()"
   ]
  },
  {
   "cell_type": "code",
   "execution_count": 166,
   "metadata": {
    "collapsed": true
   },
   "outputs": [],
   "source": [
    "idx_core_samples = dbs.core_sample_indices_\n",
    "dict_core_idx_label = dict()\n",
    "for label in np.unique(labels_dbscan):\n",
    "    liste_idx_label = []\n",
    "    for idx in idx_core_samples:\n",
    "        if(labels_dbscan[idx])==label:\n",
    "            liste_idx_label.append(idx)\n",
    "    dict_core_idx_label[\"cluster_\"+str(label)] = liste_idx_label"
   ]
  },
  {
   "cell_type": "code",
   "execution_count": 167,
   "metadata": {
    "collapsed": true
   },
   "outputs": [],
   "source": [
    "dict_core_word_label = dict()\n",
    "for key in dict_core_idx_label.keys():\n",
    "    idx = dict_core_idx_label[key]\n",
    "    if len(idx)>0:\n",
    "        liste_cluster_word =list()\n",
    "        for i in idx :\n",
    "            idx_ordered_core = np.argsort(bow_idf_indeed[i])[::-1]\n",
    "            text = \"\"\n",
    "            for j in range(0, 4):  # nombre de motss\n",
    "                text += vocab_frame_indeed.loc[vocab_liste_indeed[idx_ordered_core[j]]].values.tolist()[0][0] + \" \"\n",
    "            liste_cluster_word.append(text)\n",
    "        dict_core_word_label[key] = liste_cluster_word\n",
    "    else :\n",
    "        dict_core_word_label[key] = [\"bruit\"]"
   ]
  },
  {
   "cell_type": "code",
   "execution_count": 168,
   "metadata": {},
   "outputs": [
    {
     "data": {
      "text/plain": [
       "['management partenariat business strategie ',\n",
       " 'gestionnaires finance structure ecommerce ',\n",
       " 'financiers sap droits humaines ']"
      ]
     },
     "execution_count": 168,
     "metadata": {},
     "output_type": "execute_result"
    }
   ],
   "source": [
    "dict_core_word_label[\"cluster_2\"]"
   ]
  },
  {
   "cell_type": "markdown",
   "metadata": {},
   "source": [
    "Résultat non concluant la majorité des CVs appartiennent au bruit, la metric euclidienne ou cosine n'est pas adaptée. "
   ]
  }
 ],
 "metadata": {
  "kernelspec": {
   "display_name": "Python 3",
   "language": "python",
   "name": "python3"
  },
  "language_info": {
   "codemirror_mode": {
    "name": "ipython",
    "version": 3
   },
   "file_extension": ".py",
   "mimetype": "text/x-python",
   "name": "python",
   "nbconvert_exporter": "python",
   "pygments_lexer": "ipython3",
   "version": "3.6.1"
  }
 },
 "nbformat": 4,
 "nbformat_minor": 2
}
