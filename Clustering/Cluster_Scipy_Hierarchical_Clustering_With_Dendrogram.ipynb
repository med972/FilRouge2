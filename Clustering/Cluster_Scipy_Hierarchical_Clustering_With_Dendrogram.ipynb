{
 "cells": [
  {
   "cell_type": "markdown",
   "metadata": {
    "collapsed": true
   },
   "source": [
    "** D'abord, le preprocessing habituel sur les CV. Puis application du tutorial ci-dessous, pour faire du Hierachical Clustering (avec scipy.clustering), puis représentation par Dendrogrammes **\n",
    "\n",
    "https://joernhees.de/blog/2015/08/26/scipy-hierarchical-clustering-and-dendrogram-tutorial/#Knowing-k:"
   ]
  },
  {
   "cell_type": "code",
   "execution_count": 2,
   "metadata": {
    "collapsed": true
   },
   "outputs": [],
   "source": [
    "import numpy as np\n",
    "import pandas as pd\n",
    "import nltk\n",
    "import re\n",
    "import os\n",
    "import codecs\n",
    "from sklearn import feature_extraction\n",
    "import pickle\n",
    "from glob import glob\n",
    "import csv\n",
    "import os.path as op\n",
    "import mpld3\n",
    "# pip install mpld3\n",
    "import stop_words\n",
    "# pip install stop-words\n",
    "from nltk import SnowballStemmer, pos_tag, word_tokenize, wordpunct_tokenize\n",
    "from nltk.corpus import stopwords\n",
    "import unidecode\n",
    "# pip install unidecode"
   ]
  },
  {
   "cell_type": "markdown",
   "metadata": {},
   "source": [
    "** Lecture des données **"
   ]
  },
  {
   "cell_type": "code",
   "execution_count": 3,
   "metadata": {
    "collapsed": true
   },
   "outputs": [],
   "source": [
    "class CV:\n",
    "    def __init__(self, filename, title, cv):\n",
    "        self.filename = filename\n",
    "        self.title = title\n",
    "        self.cv = cv"
   ]
  },
  {
   "cell_type": "code",
   "execution_count": 4,
   "metadata": {},
   "outputs": [
    {
     "name": "stdout",
     "output_type": "stream",
     "text": [
      "Loading cvs\n"
     ]
    }
   ],
   "source": [
    "# Load data\n",
    "print(\"Loading cvs\")\n",
    "\n",
    "#filenames = sorted(glob(op.join('/Users/very/Documents/MP/FilRouge/Maha/data/txt/**/'+'*.txt')))\n",
    "\n",
    "#download cv in a list\n",
    "def load_cv_list(nombre):\n",
    "    path = '/Users/very/Documents/MP/FilRouge/Maha/data/txt/'\n",
    "    liste_paths = [path+directory for directory in os.listdir(path)]\n",
    "    liste_cv = []\n",
    "    dico_cv = {}\n",
    "    for path in liste_paths:\n",
    "        filenames = sorted(glob(os.path.join(path,\"*.txt\")))\n",
    "        for file in filenames[:nombre]:\n",
    "            cv = CV(0, 0, 0)\n",
    "            cv.filename = os.path.basename(file)\n",
    "            cv.cv = open(file).read()\n",
    "            liste_cv.append(cv.cv)\n",
    "            \n",
    "            dico_cv[cv.filename.split(\".\")[0]] = cv.cv\n",
    "    return liste_cv, dico_cv"
   ]
  },
  {
   "cell_type": "code",
   "execution_count": 5,
   "metadata": {},
   "outputs": [
    {
     "name": "stdout",
     "output_type": "stream",
     "text": [
      "Loading titles\n"
     ]
    },
    {
     "data": {
      "text/plain": [
       "'     \\nfor file in filenames[:nombre]:\\n        text = open(file).read()\\n        for row in text:\\n            print(row)\\n            #line = row.split(\";\")\\n            #print(line[0])\\n            #dico_titles[line[0]] = line[1]\\n        #liste_cv.append(text)\\n        #dico_cv[os.path.basename(file).split(\".\")[0]] = text\\nreturn dico_titles\\n'"
      ]
     },
     "execution_count": 5,
     "metadata": {},
     "output_type": "execute_result"
    }
   ],
   "source": [
    "print(\"Loading titles\")\n",
    "def load_title_list(nombre):\n",
    "    path = \"/Users/very/Documents/MP/FilRouge/Maha/data/\"\n",
    "    dico_titles = {}\n",
    "    filenames = sorted(glob(os.path.join(path,\"*.csv\")))\n",
    "    for file in filenames[:nombre]:\n",
    "        with open(file, encoding='latin-1') as csvfile:\n",
    "            readCSV = csv.reader(csvfile, delimiter=';')\n",
    "            for row in readCSV:\n",
    "                dico_titles[row[0]] = row[1]\n",
    "    return dico_titles\n",
    "        \n",
    "\"\"\"     \n",
    "for file in filenames[:nombre]:\n",
    "        text = open(file).read()\n",
    "        for row in text:\n",
    "            print(row)\n",
    "            #line = row.split(\";\")\n",
    "            #print(line[0])\n",
    "            #dico_titles[line[0]] = line[1]\n",
    "        #liste_cv.append(text)\n",
    "        #dico_cv[os.path.basename(file).split(\".\")[0]] = text\n",
    "return dico_titles\n",
    "\"\"\"\n"
   ]
  },
  {
   "cell_type": "code",
   "execution_count": 6,
   "metadata": {
    "collapsed": true
   },
   "outputs": [],
   "source": [
    "liste_cv, dico_cv = load_cv_list(150)\n",
    "dico_titles = load_title_list(150)"
   ]
  },
  {
   "cell_type": "code",
   "execution_count": 7,
   "metadata": {},
   "outputs": [
    {
     "data": {
      "text/plain": [
       "1650"
      ]
     },
     "execution_count": 7,
     "metadata": {},
     "output_type": "execute_result"
    }
   ],
   "source": [
    "len(liste_cv)"
   ]
  },
  {
   "cell_type": "code",
   "execution_count": 8,
   "metadata": {},
   "outputs": [
    {
     "data": {
      "text/plain": [
       "1650"
      ]
     },
     "execution_count": 8,
     "metadata": {},
     "output_type": "execute_result"
    }
   ],
   "source": [
    "len(dico_cv)"
   ]
  },
  {
   "cell_type": "code",
   "execution_count": 9,
   "metadata": {},
   "outputs": [
    {
     "data": {
      "text/plain": [
       "6963"
      ]
     },
     "execution_count": 9,
     "metadata": {},
     "output_type": "execute_result"
    }
   ],
   "source": [
    "len(dico_titles)"
   ]
  },
  {
   "cell_type": "code",
   "execution_count": 10,
   "metadata": {},
   "outputs": [
    {
     "data": {
      "text/plain": [
       "{'cv_data engineer_1': 'Stagiaire Data Engineer',\n",
       " 'cv_data engineer_2': 'Project Design Engineer Voice and Data',\n",
       " 'cv_data engineer_3': 'Data Engineer',\n",
       " 'cv_data engineer_4': 'Engineer',\n",
       " 'cv_data engineer_5': 'Data Analyst',\n",
       " 'cv_data engineer_6': 'IngÃ©nieur Diagraphiste (DATA ENGINEER)',\n",
       " 'cv_data engineer_7': 'Software Engineer Big Data Analytics',\n",
       " 'cv_data engineer_8': 'Data Scientist',\n",
       " 'cv_data engineer_9': 'Data Engineer',\n",
       " 'cv_data engineer_10': 'Alternante data analyst',\n",
       " 'cv_data engineer_11': 'Project Data Manager',\n",
       " 'cv_data engineer_12': 'scientist/architect',\n",
       " 'cv_data engineer_13': 'Application Engineer',\n",
       " 'cv_data engineer_14': 'Specialization in Data Science',\n",
       " 'cv_data engineer_15': 'Sourcing & Procurement Functional Consultant',\n",
       " 'cv_data engineer_16': 'Data Analyst',\n",
       " 'cv_data engineer_17': 'Telecom Engineer',\n",
       " 'cv_data engineer_18': 'Network Engineer',\n",
       " 'cv_data engineer_19': 'Pre-Sales Consultant storage/content and Content solution Specialist',\n",
       " 'cv_data engineer_20': 'Data Analyst',\n",
       " 'cv_data engineer_21': 'Biomedical Engineer',\n",
       " 'cv_data engineer_22': 'Scrum Master & Software Engineer',\n",
       " 'cv_data engineer_23': 'Lead Data Engineer',\n",
       " 'cv_data engineer_24': 'Network Systems Engineer',\n",
       " 'cv_data engineer_25': 'Research engineer',\n",
       " 'cv_data engineer_26': 'Engineer, Early',\n",
       " 'cv_data engineer_27': 'Consultat Big Data',\n",
       " 'cv_data engineer_28': 'Networks support Engineer',\n",
       " 'cv_data engineer_29': 'Digital innovations engineer in mobile technologies',\n",
       " 'cv_data engineer_30': 'Production and Development support engineer',\n",
       " 'cv_data engineer_31': 'Project engineer',\n",
       " 'cv_data engineer_32': 'Biological Engineer',\n",
       " 'cv_data engineer_33': 'Project Engineer',\n",
       " 'cv_data engineer_34': 'Data Center Network and SDN Architect',\n",
       " 'cv_data engineer_35': 'Full Stack engineer',\n",
       " 'cv_data engineer_36': 'Development Engineer Of Aesthetic Solar Energy Roof',\n",
       " 'cv_data engineer_37': 'Project Engineer & Deputy Mine Manager',\n",
       " 'cv_data engineer_38': 'Engineer Consultant - Supply Chain/ Informations techonology',\n",
       " 'cv_data engineer_39': 'Research Engineer',\n",
       " 'cv_data engineer_40': 'System Engineer',\n",
       " 'cv_data engineer_41': 'Research Engineer Intern',\n",
       " 'cv_data engineer_42': 'Liquid Propulsion Engineer',\n",
       " 'cv_data engineer_43': 'Flight Operations Engineer',\n",
       " 'cv_data engineer_44': 'Performance Test Engineer',\n",
       " 'cv_data engineer_45': 'Business Intelligence Engineer',\n",
       " 'cv_data engineer_46': 'IT Engineer Specialist',\n",
       " 'cv_data engineer_47': 'Project Engineer',\n",
       " 'cv_data engineer_48': 'Project Operation Engineer',\n",
       " 'cv_data engineer_49': 'Reservoir Engineer / Program Supervisor',\n",
       " 'cv_data engineer_50': 'Graduate Engineer, Quality Control Officer',\n",
       " 'cv_data engineer_51': 'Wireline Cased hole Field Engineer',\n",
       " 'cv_data engineer_52': 'Research Engineer',\n",
       " 'cv_data engineer_53': 'Software Engineer',\n",
       " 'cv_data engineer_54': 'Intern Engineer',\n",
       " 'cv_data engineer_55': 'IN engineering internship',\n",
       " 'cv_data engineer_56': 'Software Engineer',\n",
       " 'cv_data engineer_57': 'Quality Assurance Software Engineer',\n",
       " 'cv_data engineer_58': 'Data Scientist, Big Data consultant (Fitec)',\n",
       " 'cv_data engineer_59': 'LCA and sustainable innovation engineer',\n",
       " 'cv_data engineer_60': 'Software Engineer',\n",
       " 'cv_data engineer_61': 'Senior Sales Engineer, Fusion-io',\n",
       " 'cv_data engineer_62': 'Webanalytics and Data Manager - Media',\n",
       " 'cv_data engineer_63': 'Senior Sales Engineer, Fusion-io',\n",
       " 'cv_data engineer_64': 'Senior Application Engineer',\n",
       " 'cv_data engineer_65': 'Stage',\n",
       " 'cv_data engineer_66': 'Subsurface imaging internship',\n",
       " 'cv_data engineer_67': 'Research Engineer in Non-destructive Imagery (Geophysics)',\n",
       " 'cv_data engineer_68': 'Project Manager Big Data Internship (1000Mercis)',\n",
       " 'cv_data engineer_69': 'Software Engineer',\n",
       " 'cv_data engineer_70': 'Big data Machine Learning Engineer',\n",
       " 'cv_data engineer_71': 'Short-term Power Optimization & Trading Engineer',\n",
       " 'cv_data engineer_72': 'Brand Manager Assistant Kinder',\n",
       " 'cv_data engineer_73': 'Process Manager',\n",
       " 'cv_data engineer_74': 'Brake Friction Engineer',\n",
       " 'cv_data engineer_75': 'Computer System Validation Engineer',\n",
       " 'cv_data engineer_76': 'Consultant Junior',\n",
       " 'cv_data engineer_77': 'Business Analyst Manufacturing Supply Chain',\n",
       " 'cv_data engineer_78': 'Contractor',\n",
       " 'cv_data engineer_79': 'Internship',\n",
       " 'cv_data engineer_80': 'Quality & Operations Support Engineer',\n",
       " 'cv_data engineer_81': 'SAP Functional Consultant MM / SD',\n",
       " 'cv_data engineer_82': 'Technical Director, Project Director',\n",
       " 'cv_data engineer_83': 'Integrated and tested oled lcd driver',\n",
       " 'cv_data engineer_84': 'Project Management',\n",
       " 'cv_data engineer_85': 'Risk Manager (CISO)',\n",
       " 'cv_data engineer_86': 'Operational Support Engineer',\n",
       " 'cv_data engineer_87': 'Owner-operator',\n",
       " 'cv_data engineer_88': 'Industrial and Construction Project Manager',\n",
       " 'cv_data engineer_89': 'Administrateur de RÃ©siliations',\n",
       " 'cv_data engineer_90': 'Senior Software Engineer , Java EE Developer',\n",
       " 'cv_data engineer_91': 'Security Support Engineer',\n",
       " 'cv_data engineer_92': 'Project Advisory and Disputes Analyst',\n",
       " 'cv_data engineer_93': \"Chercheur d'emploi\",\n",
       " 'cv_data engineer_94': 'Freelance Senior Clinical Research Associate',\n",
       " 'cv_data engineer_95': 'Operations Project Manager for all Wines and Spirits brands',\n",
       " 'cv_data engineer_96': 'Alliance Diagnostic Tool IS IT Project Lead',\n",
       " 'cv_data engineer_97': 'Proactive Analytics project management',\n",
       " 'cv_data engineer_98': 'Business Application Representative UniDoc',\n",
       " 'cv_data engineer_99': 'Technical Leader',\n",
       " 'cv_data engineer_100': 'Researcher',\n",
       " 'cv_data engineer_101': 'DÃ©veloppeur iOS Senior - CCAS- 11 mois',\n",
       " 'cv_data engineer_102': 'Business and Sales Support',\n",
       " 'cv_data engineer_103': 'Project Manager',\n",
       " 'cv_data engineer_104': 'Project Manager',\n",
       " 'cv_data engineer_105': 'Lead IT Core team, SAP Consultant',\n",
       " 'cv_data engineer_106': 'Technical Project Manager',\n",
       " 'cv_data engineer_107': 'Project Manager',\n",
       " 'cv_data engineer_108': 'Project Manager',\n",
       " 'cv_data engineer_109': 'Regional Sales Manager France and Overseas',\n",
       " 'cv_data engineer_110': \"Architecte d'entreprise\",\n",
       " 'cv_data engineer_111': 'Financial process innovation manager',\n",
       " 'cv_data engineer_112': 'Configuration Manager, Key User \"Industrialisation\" (MOA Expert MÃ©tier)',\n",
       " 'cv_data engineer_113': 'Technical coordinator and Integrator',\n",
       " 'cv_data engineer_114': 'Product management',\n",
       " 'cv_data engineer_115': 'Consutling Manager',\n",
       " 'cv_data engineer_116': 'Architecte manufacturing SAP ME SAP MII',\n",
       " 'cv_data engineer_117': 'Chef de projet senior',\n",
       " 'cv_data engineer_118': 'Investment Leader (CAPEX and productivity)',\n",
       " 'cv_data engineer_119': 'Full-stack Developer Js',\n",
       " 'cv_data engineer_120': 'Intern in Subsurface Imaging',\n",
       " 'cv_data engineer_121': 'Video Producer',\n",
       " 'cv_data engineer_122': 'Value Office Strategic Planner Intern',\n",
       " 'cv_data engineer_123': 'Social Media Manager',\n",
       " 'cv_data engineer_124': 'Contract Accountant',\n",
       " 'cv_data engineer_125': 'IT Team Leader',\n",
       " 'cv_data engineer_126': 'IT Recruiter',\n",
       " 'cv_data engineer_127': 'IngÃ©nieur conducteur travaux',\n",
       " 'cv_data engineer_128': 'Solutions Architect/Analyst',\n",
       " 'cv_data engineer_129': \"Chercheur d'emploi\",\n",
       " 'cv_data engineer_130': 'Global Customer Marketing Manager Junior',\n",
       " 'cv_data engineer_131': 'Business development / Merger & acquisitions Director - diversification and ...',\n",
       " 'cv_data engineer_132': 'Apprentice engineer',\n",
       " 'cv_data engineer_133': 'HSE Engineer',\n",
       " 'cv_data engineer_134': 'Responsable MÃ©thodes',\n",
       " 'cv_data engineer_135': 'Large Accounts Project Director',\n",
       " 'cv_data engineer_136': 'Senior project manager, Head Of Development Team',\n",
       " 'cv_data engineer_137': 'IT Security Expert',\n",
       " 'cv_data engineer_138': 'Researcher',\n",
       " 'cv_data engineer_139': 'Night Receptionist',\n",
       " 'cv_data engineer_140': 'ConseillÃ¨re de vente de produit financiÃ¨re',\n",
       " 'cv_data engineer_141': 'Senior Global Lead Buyer IT & Telecom',\n",
       " 'cv_data engineer_142': 'Senior Buyer Programs',\n",
       " 'cv_data engineer_143': \"Chercheur d'emploi\",\n",
       " 'cv_data engineer_144': 'IT Project Manager',\n",
       " 'cv_data engineer_145': \"Chercheur d'emploi\",\n",
       " 'cv_data engineer_146': 'Courier handling',\n",
       " 'cv_data engineer_147': 'Business Group process owner',\n",
       " 'cv_data engineer_148': 'Technical Consultant EMC - SEM - Secure Transactions',\n",
       " 'cv_data engineer_149': 'SpÃ©cialiste en communication par satellite multi rÃ©seaux',\n",
       " 'cv_data engineer_150': 'Acquisition Account Manager',\n",
       " 'cv_data engineer_151': 'Technical Project Manager',\n",
       " 'cv_data engineer_152': 'Manufacturing Follow-up Inspector',\n",
       " 'cv_data engineer_153': 'Package Manager',\n",
       " 'cv_data engineer_154': \"Chercheur d'emploi\",\n",
       " 'cv_data engineer_155': 'Consultant',\n",
       " 'cv_data engineer_156': 'Azure Business Operations Program Manager/Support Engineering',\n",
       " 'cv_data engineer_157': 'Sales Executive',\n",
       " 'cv_data engineer_158': 'Night Receptionist',\n",
       " 'cv_data engineer_159': 'Global Customer Service representative',\n",
       " 'cv_data engineer_160': 'Architecte manufacturing SAP ME SAP MII',\n",
       " 'cv_data engineer_161': 'Operations Process Leader',\n",
       " 'cv_data engineer_162': 'Interaction team Chief of Project',\n",
       " 'cv_data engineer_163': 'Community Manager',\n",
       " 'cv_data engineer_164': 'Student in systems',\n",
       " 'cv_data engineer_165': 'IngÃ©nieur Ã\\xa0 la Direction technique',\n",
       " 'cv_data engineer_166': 'Project Manager',\n",
       " 'cv_data engineer_167': 'R&D Project Manager',\n",
       " 'cv_data engineer_168': 'Engenheiro consultor em redes IP',\n",
       " 'cv_data engineer_169': 'Stage de Master 2',\n",
       " 'cv_data engineer_170': 'Global Marketing - Luxury Champagne',\n",
       " 'cv_data engineer_171': 'DÃ©veloppeur iOS Senior - CCAS- 11 mois',\n",
       " 'cv_data engineer_172': 'Business Analyst',\n",
       " 'cv_data engineer_173': 'Courier handling',\n",
       " 'cv_data engineer_174': 'Business Developer',\n",
       " 'cv_data engineer_175': 'Business and Sales Support',\n",
       " 'cv_data engineer_176': 'Expert technique mobile',\n",
       " 'cv_data engineer_177': 'Technical Project Manager',\n",
       " 'cv_data engineer_178': 'Project Manager',\n",
       " 'cv_data engineer_179': 'Lead IT Core team, SAP Consultant',\n",
       " 'cv_data engineer_180': 'Software Engineer',\n",
       " 'cv_data engineer_181': 'Project Manager',\n",
       " 'cv_data engineer_182': 'Project Manager',\n",
       " 'cv_data engineer_183': 'Regional Sales Manager France and Overseas',\n",
       " 'cv_data engineer_184': \"Architecte d'entreprise\",\n",
       " 'cv_data engineer_185': 'IngÃ©nieur dÃ©veloppement',\n",
       " 'cv_data engineer_186': \"Chercheur d'emploi\",\n",
       " 'cv_data engineer_187': 'Financial process innovation manager',\n",
       " 'cv_data engineer_188': 'Configuration Manager, Key User \"Industrialisation\" (MOA Expert MÃ©tier)',\n",
       " 'cv_data engineer_189': 'Technical coordinator and Integrator',\n",
       " 'cv_data engineer_190': 'Chef de projet senior',\n",
       " 'cv_data engineer_191': 'Team Leader/ Environmental Expert',\n",
       " 'cv_data engineer_192': 'Administrateur rÃ©seaux et sÃ©curitÃ©',\n",
       " 'cv_data engineer_193': 'Design Manager /sales area',\n",
       " 'cv_data engineer_194': 'Consutling Manager',\n",
       " 'cv_data engineer_195': 'Process Associate',\n",
       " 'cv_data engineer_196': 'DÃ©veloppeur Ruby',\n",
       " 'cv_data engineer_197': 'Supply Chain Project Manager',\n",
       " 'cv_data engineer_198': 'Project Manager',\n",
       " 'cv_data engineer_199': 'Devops',\n",
       " 'cv_data engineer_200': 'Chief Technology Officer',\n",
       " 'cv_data engineer_201': 'Research Intern',\n",
       " 'cv_data engineer_202': \"Chercheur d'emploi\",\n",
       " 'cv_data engineer_203': 'Investment Leader (CAPEX and productivity)',\n",
       " 'cv_data engineer_204': 'Full-stack Developer Js',\n",
       " 'cv_data engineer_205': 'Geologist geomodeller',\n",
       " 'cv_data engineer_206': 'Ground instructor',\n",
       " 'cv_data engineer_207': 'Intern in Subsurface Imaging',\n",
       " 'cv_data engineer_208': 'Video Producer',\n",
       " 'cv_data engineer_209': 'President of association',\n",
       " 'cv_data engineer_210': 'Auditor',\n",
       " 'cv_data engineer_211': 'Social Media Manager',\n",
       " 'cv_data engineer_212': 'Internship',\n",
       " 'cv_data engineer_213': 'Supply Chain Analyst Orange, Gentilly',\n",
       " 'cv_data engineer_214': 'IngÃ©nieur conducteur travaux',\n",
       " 'cv_data engineer_215': 'IT Recruiter',\n",
       " 'cv_data engineer_216': 'Regional Customer Technical Service Responsible NAF',\n",
       " 'cv_data engineer_217': 'Developpeur',\n",
       " 'cv_data engineer_218': 'Consultant BPM Bureau Veritas',\n",
       " 'cv_data engineer_219': 'Business Developer',\n",
       " 'cv_data engineer_220': 'StagiÃ¨re - hydrologue',\n",
       " 'cv_data engineer_221': 'Engineering intern',\n",
       " 'cv_data engineer_222': 'Demand Planner at Orange, Gentilly',\n",
       " 'cv_data engineer_223': 'IT Security Expert',\n",
       " 'cv_data engineer_224': 'Procurement and Materials Analyst',\n",
       " 'cv_data engineer_225': \"Chercheur d'emploi\",\n",
       " 'cv_data engineer_226': 'Senior Global Lead Buyer IT & Telecom',\n",
       " 'cv_data engineer_227': 'Customer Services - Global Technical Leader',\n",
       " 'cv_data engineer_228': \"Chercheur d'emploi\",\n",
       " 'cv_data engineer_229': 'Apprentice engineer',\n",
       " 'cv_data engineer_230': 'Data Scientist',\n",
       " 'cv_data engineer_231': 'Since Satellite data scientist, ACRI',\n",
       " 'cv_data engineer_232': 'System Engineer',\n",
       " 'cv_data engineer_233': 'R&D engineer',\n",
       " 'cv_data engineer_234': 'Data Scientist',\n",
       " 'cv_data engineer_235': 'Data scientist',\n",
       " 'cv_data engineer_236': 'Data Analyst',\n",
       " 'cv_data engineer_237': 'Data Analyst / Engineer Research and Development Full Stack',\n",
       " 'cv_data engineer_238': 'Data Scientist',\n",
       " 'cv_data engineer_239': 'Engineer',\n",
       " 'cv_data engineer_240': 'Engineer It',\n",
       " 'cv_data engineer_241': 'Electical engineer',\n",
       " 'cv_data engineer_242': 'Process Engineer',\n",
       " 'cv_data engineer_243': 'Engineer',\n",
       " 'cv_data engineer_244': 'Engineer',\n",
       " 'cv_data engineer_245': 'Engineer data formating and database feeding',\n",
       " 'cv_data engineer_246': 'Marketing Data Analyst',\n",
       " 'cv_data engineer_247': 'Web&TV Project Manager',\n",
       " 'cv_data engineer_248': 'Marketing Data Analyst',\n",
       " 'cv_data engineer_249': 'Trainee Big Data Developer',\n",
       " 'cv_data engineer_250': 'Consulting engineer in physics calculation at Sysalia',\n",
       " 'cv_data engineer_251': 'Strategy and Data Analyst',\n",
       " 'cv_data engineer_252': 'Senior Energy Data Manager',\n",
       " 'cv_data engineer_253': 'Field Engineer',\n",
       " 'cv_data engineer_254': 'Data Analyst â\\x80\\x93 Part-time',\n",
       " 'cv_data engineer_255': 'Big Data Security Consultant',\n",
       " 'cv_data engineer_256': 'STAGE Big Data Developper',\n",
       " 'cv_data engineer_257': 'Head of Data Migration',\n",
       " 'cv_data engineer_258': 'Project Lead & Data Scientist',\n",
       " 'cv_data engineer_259': 'Process Engineer',\n",
       " 'cv_data engineer_260': 'Business Data Project Manager',\n",
       " 'cv_data engineer_261': 'Seismic Data Manager',\n",
       " 'cv_data engineer_262': 'Data scientist-Research Inter',\n",
       " 'cv_data engineer_263': 'Data Analyst, Junior Consultant',\n",
       " 'cv_data engineer_264': 'Big Data Developer',\n",
       " 'cv_data engineer_265': 'Data Scientist Intern',\n",
       " 'cv_data engineer_266': 'Big Data Architect',\n",
       " 'cv_data engineer_267': '5)Product Engineer',\n",
       " 'cv_data engineer_268': 'Network Data Analysis Intern',\n",
       " 'cv_data engineer_269': 'Data Quality Officer',\n",
       " 'cv_data engineer_270': 'Tester and quality control engineer',\n",
       " 'cv_data engineer_271': 'Research and Development Engineer',\n",
       " 'cv_data engineer_272': 'Datascientist Intern, Business & DÃ©cision',\n",
       " 'cv_data engineer_273': 'Senior Network Engineer',\n",
       " 'cv_data engineer_274': 'Business Analyst - Big Data Developer',\n",
       " 'cv_data engineer_275': 'Free lancer',\n",
       " 'cv_data engineer_276': 'Architecte Big Data, CdP technique',\n",
       " 'cv_data engineer_277': 'Engineer Apprentice- Suez Environment',\n",
       " 'cv_data engineer_278': 'Lead Pressure Vessel Engineer',\n",
       " 'cv_data engineer_279': 'Junior Consultant in Data Science',\n",
       " 'cv_data engineer_280': 'Assistant chef de projet Data Lab',\n",
       " 'cv_data engineer_281': 'Consultant Tech lead Big Data',\n",
       " 'cv_data engineer_282': 'Research Engineer in Operations Research and Data Science',\n",
       " 'cv_data engineer_283': 'Net engineer',\n",
       " 'cv_data engineer_284': 'Senior Design Engineer',\n",
       " 'cv_data engineer_285': 'Engineer sandwich course in THALES AES',\n",
       " 'cv_data engineer_286': 'Web&TV Data Analytics/Science Project Manager',\n",
       " 'cv_data engineer_287': 'Hardware Contributor Engineer',\n",
       " 'cv_data engineer_288': 'Design Engineer, Technical Department',\n",
       " 'cv_data engineer_289': 'Android Experienced software engineer',\n",
       " 'cv_data engineer_290': 'R&D Engineer',\n",
       " 'cv_data engineer_291': 'MLWD Field Engineer',\n",
       " 'cv_data engineer_292': 'Senior Consultant Business Intelligence - Master Data Management - Data Quality - EIM ...',\n",
       " 'cv_data engineer_293': 'Research Engineer',\n",
       " 'cv_data engineer_294': 'Software Engineer',\n",
       " 'cv_data engineer_295': 'Data Scientist',\n",
       " 'cv_data engineer_296': 'Data Scientist',\n",
       " 'cv_data engineer_297': 'Software Engineer',\n",
       " 'cv_data engineer_298': \"Data Scientist (stage de fin d'Ã©tudes)\",\n",
       " 'cv_data engineer_299': 'Trainee Engineer',\n",
       " 'cv_data engineer_300': 'Research engineer',\n",
       " 'cv_data engineer_301': 'main P.O followed as QC Engineer',\n",
       " 'cv_data engineer_302': 'Presales Engineer',\n",
       " 'cv_data engineer_303': 'Software Engineer',\n",
       " 'cv_data engineer_304': 'R&D engineer',\n",
       " 'cv_data engineer_305': 'Engineer',\n",
       " 'cv_data engineer_306': 'Software Engineer',\n",
       " 'cv_data engineer_307': 'Test Engineer',\n",
       " 'cv_data engineer_308': 'Software Engineer',\n",
       " 'cv_data engineer_309': 'Release Engineer',\n",
       " 'cv_data engineer_310': 'R&D Engineer',\n",
       " 'cv_data engineer_311': 'Process Engineer',\n",
       " 'cv_data engineer_312': 'Engineer',\n",
       " 'cv_data engineer_313': 'Software Engineer',\n",
       " 'cv_data engineer_314': 'Data Center Network and SDN Architect',\n",
       " 'cv_data engineer_315': 'Research Engineer',\n",
       " 'cv_data engineer_316': 'Vice President Operations, Deputy CTO',\n",
       " 'cv_data engineer_317': 'Software Engineer',\n",
       " 'cv_data engineer_318': 'Software Engineer',\n",
       " 'cv_data engineer_319': 'Design Engineer',\n",
       " 'cv_data engineer_320': 'Debug Engineer',\n",
       " 'cv_data engineer_321': 'Telecom Engineer',\n",
       " 'cv_data engineer_322': 'End-Of-Studies internship, Big Data Consultant',\n",
       " 'cv_data engineer_323': 'Research engineer',\n",
       " 'cv_data engineer_324': 'R&D Engineer',\n",
       " 'cv_data engineer_325': 'IT Engineer',\n",
       " 'cv_data engineer_326': 'Avionic Engineer',\n",
       " 'cv_data engineer_327': 'Reservoir Engineer',\n",
       " 'cv_data engineer_328': 'Software Engineer',\n",
       " 'cv_data engineer_329': 'engineer of instrumentation (designer) of second level',\n",
       " 'cv_data engineer_330': 'iOS Engineer',\n",
       " 'cv_data engineer_331': 'Project Engineer',\n",
       " 'cv_data engineer_332': 'Chemical Engineer - Analyst',\n",
       " 'cv_data engineer_333': 'Testing engineer',\n",
       " 'cv_data engineer_334': 'Software Engineer',\n",
       " 'cv_data engineer_335': 'Environmental engineer',\n",
       " 'cv_data engineer_336': 'Consultant Site Engineer',\n",
       " 'cv_data engineer_337': 'Research Engineer',\n",
       " 'cv_data engineer_338': 'Advanced Data Migration developer- Infotel PARIS',\n",
       " 'cv_data engineer_339': 'Engineer Development & Integration',\n",
       " 'cv_data engineer_340': 'Software Engineer',\n",
       " 'cv_data engineer_341': 'Research Engineer',\n",
       " 'cv_data engineer_342': 'Software Engineer',\n",
       " 'cv_data engineer_343': 'Trainee Engineer',\n",
       " 'cv_data engineer_344': 'Software Engineer',\n",
       " 'cv_data engineer_345': 'System Engineer',\n",
       " 'cv_data engineer_346': 'Research engineer intern',\n",
       " 'cv_data engineer_347': 'R&D engineer',\n",
       " 'cv_data engineer_348': 'Project Engineer',\n",
       " 'cv_data engineer_349': 'Research Engineer',\n",
       " 'cv_data engineer_350': 'Research Engineer',\n",
       " 'cv_data engineer_351': 'Software Engineer Intern',\n",
       " 'cv_data engineer_352': 'Weight Control & MTO Engineer',\n",
       " 'cv_data engineer_353': 'GIS Engineer and developer',\n",
       " 'cv_data engineer_354': 'QA Engineer',\n",
       " 'cv_data engineer_355': 'Software Engineer',\n",
       " 'cv_data engineer_356': 'Field Engineer',\n",
       " 'cv_data engineer_357': 'Research Engineer',\n",
       " 'cv_data engineer_358': 'Network Engineer',\n",
       " 'cv_data engineer_359': 'System Engineer',\n",
       " 'cv_data engineer_360': 'Software Engineer Intern, S',\n",
       " 'cv_data engineer_361': 'Software Engineer',\n",
       " 'cv_data engineer_362': 'Integration Engineer',\n",
       " 'cv_data engineer_363': 'Senior Project Engineer',\n",
       " 'cv_data engineer_364': \"Stage fin d'Ã©tudes - Big Data Analyst, Technical solutions Engineer - 6 mois\",\n",
       " 'cv_data engineer_365': 'Network Systems Engineer',\n",
       " 'cv_data engineer_366': 'Reservoir and Exploitation Engineer Eclipse Petrel',\n",
       " 'cv_data engineer_367': 'Senior Software Engineer / Leader',\n",
       " 'cv_data engineer_368': 'Intern - BIG DATA DEVELOPER',\n",
       " 'cv_data engineer_369': 'Chief Data Officer',\n",
       " 'cv_data engineer_370': 'CTO & Chief Data Officer',\n",
       " 'cv_data engineer_371': 'Field Data Project Manager',\n",
       " 'cv_data engineer_372': 'Stage Data Analyst',\n",
       " 'cv_data engineer_373': 'Data-center Specialist - Operations',\n",
       " 'cv_data engineer_374': 'Embedded Software Engineer',\n",
       " 'cv_data engineer_375': 'Senior SCM Engineer',\n",
       " 'cv_data engineer_376': 'Assistant Resident Engineer',\n",
       " 'cv_data engineer_377': 'Software Engineer Intern',\n",
       " 'cv_data engineer_378': 'Electrical and I&C Construction Method Engineer',\n",
       " 'cv_data engineer_379': 'Business Intelligence Engineer',\n",
       " 'cv_data engineer_380': 'Research Engineer in Operations Research and Data Science',\n",
       " 'cv_data engineer_381': 'Net engineer',\n",
       " 'cv_data engineer_382': 'Senior Design Engineer',\n",
       " 'cv_data engineer_383': 'Engineer sandwich course in THALES AES',\n",
       " 'cv_data engineer_384': 'Web&TV Data Analytics/Science Project Manager',\n",
       " 'cv_data engineer_385': 'Hardware Contributor Engineer',\n",
       " 'cv_data engineer_386': 'Design Engineer, Technical Department',\n",
       " 'cv_data engineer_387': 'Android Experienced software engineer',\n",
       " 'cv_data engineer_388': 'R&D Engineer',\n",
       " 'cv_data engineer_389': 'MLWD Field Engineer',\n",
       " 'cv_data engineer_390': 'Senior Consultant Business Intelligence - Master Data Management - Data Quality - EIM ...',\n",
       " 'cv_data engineer_391': 'Research Engineer',\n",
       " 'cv_data engineer_392': 'Software Engineer',\n",
       " 'cv_data engineer_393': 'Data Scientist',\n",
       " 'cv_data engineer_394': 'Data Scientist',\n",
       " 'cv_data engineer_395': 'Software Engineer',\n",
       " 'cv_data engineer_396': \"Data Scientist (stage de fin d'Ã©tudes)\",\n",
       " 'cv_data engineer_397': 'Trainee Engineer',\n",
       " 'cv_data engineer_398': 'main P.O followed as QC Engineer',\n",
       " 'cv_data engineer_399': 'Presales Engineer',\n",
       " 'cv_data engineer_400': 'R&D engineer',\n",
       " 'cv_data engineer_401': 'Engineer',\n",
       " 'cv_data engineer_402': 'Software Engineer',\n",
       " 'cv_data engineer_403': 'Test Engineer',\n",
       " 'cv_data engineer_404': 'Software Engineer',\n",
       " 'cv_data engineer_405': 'Release Engineer',\n",
       " 'cv_data engineer_406': 'R&D Engineer',\n",
       " 'cv_data engineer_407': 'Process Engineer',\n",
       " 'cv_data engineer_408': 'Engineer',\n",
       " 'cv_data engineer_409': 'Software Engineer',\n",
       " 'cv_data engineer_410': 'Research Engineer',\n",
       " 'cv_data engineer_411': 'Vice President Operations, Deputy CTO',\n",
       " 'cv_data engineer_412': 'Software Engineer',\n",
       " 'cv_data engineer_413': 'Software Engineer',\n",
       " 'cv_data engineer_414': 'Design Engineer',\n",
       " 'cv_data engineer_415': 'Debug Engineer',\n",
       " 'cv_data engineer_416': 'End-Of-Studies internship, Big Data Consultant',\n",
       " 'cv_data engineer_417': 'Research engineer',\n",
       " 'cv_data engineer_418': 'R&D Engineer',\n",
       " 'cv_data engineer_419': 'IT Engineer',\n",
       " 'cv_data engineer_420': 'Avionic Engineer',\n",
       " 'cv_data engineer_421': 'Reservoir Engineer',\n",
       " 'cv_data engineer_422': 'engineer of instrumentation (designer) of second level',\n",
       " 'cv_data engineer_423': 'iOS Engineer',\n",
       " 'cv_data engineer_424': 'Project Engineer',\n",
       " 'cv_data engineer_425': 'Chemical Engineer - Analyst',\n",
       " 'cv_data engineer_426': 'Testing engineer',\n",
       " 'cv_data engineer_427': 'Environmental engineer',\n",
       " 'cv_data engineer_428': 'Consultant Site Engineer',\n",
       " 'cv_data engineer_429': 'Research Engineer',\n",
       " 'cv_data engineer_430': 'Engineer in charge of industrial projects',\n",
       " 'cv_data engineer_431': 'engineer, Corporate Research Dassault SystÃ©mes',\n",
       " 'cv_data engineer_432': 'engineer at Metering System Department',\n",
       " 'cv_data engineer_433': 'Research and Development Engineer (Internship)',\n",
       " 'cv_data engineer_434': 'Digital innovations engineer in mobile technologies',\n",
       " 'cv_data engineer_435': 'Technical management of the projects as leading lighting engineer',\n",
       " 'cv_data engineer_436': 'Principal Senior Technical Telecom Engineer',\n",
       " 'cv_data engineer_437': 'Unified Communications & Collaboration Senior',\n",
       " 'cv_data engineer_438': 'Senior Engineer - Production Management Technologies',\n",
       " 'cv_data engineer_439': 'Umbilical Engineer',\n",
       " 'cv_data engineer_440': 'RF Engineer',\n",
       " 'cv_data engineer_441': 'Engineer-Software',\n",
       " 'cv_data engineer_442': 'Expediting Engineer',\n",
       " 'cv_data engineer_443': 'Transition Manager and EMEA Service Delivery Manager',\n",
       " 'cv_data engineer_444': 'Geophysicist engineer',\n",
       " 'cv_data engineer_445': 'Software Engineer',\n",
       " 'cv_data engineer_446': 'Expert engineer',\n",
       " 'cv_data engineer_447': 'Research engineer',\n",
       " 'cv_data engineer_448': 'Software engineer',\n",
       " 'cv_data engineer_449': 'Software Engineer',\n",
       " 'cv_data engineer_450': 'Process Engineer',\n",
       " 'cv_data engineer_451': 'R&D Engineer',\n",
       " 'cv_data engineer_452': 'Project engineer',\n",
       " 'cv_data engineer_453': 'Bioinformatics engineer',\n",
       " 'cv_data engineer_454': 'Nuclear Engineer',\n",
       " 'cv_data engineer_455': 'R&D Engineer',\n",
       " 'cv_data engineer_456': 'Software Engineer',\n",
       " 'cv_data engineer_457': 'Software Engineer',\n",
       " 'cv_data engineer_458': 'Validation Engineer',\n",
       " 'cv_data engineer_459': 'Project Engineer',\n",
       " 'cv_data engineer_460': 'Application Engineer',\n",
       " 'cv_data engineer_461': 'Software Engineer',\n",
       " 'cv_data engineer_462': 'Well engineer',\n",
       " 'cv_data engineer_463': 'Engineer Consultant',\n",
       " 'cv_data engineer_464': 'Stress Engineer',\n",
       " 'cv_data engineer_465': 'Cloud Engineer',\n",
       " 'cv_data engineer_466': 'Photovoltaic Engineer',\n",
       " 'cv_data engineer_467': 'Account Engineer',\n",
       " 'cv_data engineer_468': 'Systems Engineer',\n",
       " 'cv_data engineer_469': 'Firmware Engineer',\n",
       " 'cv_data engineer_470': 'Quant Engineer',\n",
       " 'cv_data engineer_471': 'Network Engineer',\n",
       " 'cv_data engineer_472': 'Software Engineer',\n",
       " 'cv_data engineer_473': 'Research Engineer',\n",
       " 'cv_data engineer_474': 'Apprentice Engineer',\n",
       " 'cv_data engineer_475': 'R&D Engineer',\n",
       " 'cv_data engineer_476': 'Project Engineer',\n",
       " 'cv_data engineer_477': 'Software Engineer',\n",
       " 'cv_data engineer_478': 'Software Engineer',\n",
       " 'cv_data engineer_479': 'Systems Engineer',\n",
       " 'cv_data engineer_480': 'Advanced Software Engineer',\n",
       " 'cv_data engineer_481': 'Project QC Engineer',\n",
       " 'cv_data engineer_482': 'Senior Sales Engineer',\n",
       " 'cv_data engineer_483': 'Principal Reservoir Engineer',\n",
       " 'cv_data engineer_484': 'Junior Development Engineer',\n",
       " 'cv_data engineer_485': 'Software Development Engineer',\n",
       " 'cv_data engineer_486': 'C# Software Engineer',\n",
       " 'cv_data engineer_487': 'Junior Systems Engineer',\n",
       " 'cv_data engineer_488': 'Training process engineer (stage)',\n",
       " 'cv_data engineer_489': 'Production Operations engineer',\n",
       " 'cv_data engineer_490': 'Safety Reporting Engineer',\n",
       " 'cv_data engineer_491': 'Quality Engineer & validation software',\n",
       " 'cv_data engineer_492': 'Installation Engineer (internship)',\n",
       " 'cv_data engineer_493': 'Project Planner / Cost Engineer',\n",
       " 'cv_data engineer_494': 'Supply Chain Engineer Internship',\n",
       " 'cv_data engineer_495': 'Design Engineer (Engines/APU)',\n",
       " 'cv_data engineer_496': 'Field Test Engineer',\n",
       " 'cv_data engineer_497': 'Systems/Software Engineer',\n",
       " 'cv_data engineer_498': 'R&D Engineer (internship)',\n",
       " 'cv_data engineer_499': 'System Engineer (Supervisor)',\n",
       " 'cv_data engineer_500': 'Gasoline Engine Calibration Engineer',\n",
       " 'cv_data engineer_501': 'Junior Contaminated Site Engineer',\n",
       " 'cv_data engineer_502': 'Analytical Development Engineer',\n",
       " 'cv_data engineer_503': 'HR Consultant',\n",
       " 'cv_data engineer_504': 'Energy & Environnemental Engineer Trainee',\n",
       " 'cv_data engineer_505': 'Consultant - Senior Validation Engineer',\n",
       " 'cv_data engineer_506': 'Business Analyst - Big Data Developer, BEREXIA - Big Data',\n",
       " 'cv_data engineer_507': 'Subsea Pipeline Design Engineer',\n",
       " 'cv_data engineer_508': 'System engineer : GNU/Linux',\n",
       " 'cv_data engineer_509': 'Senior Systems Engineer',\n",
       " 'cv_data engineer_510': 'UTRAN Engineer -IAM',\n",
       " 'cv_data engineer_511': 'Research and Development Engineer',\n",
       " 'cv_data engineer_512': 'Process and Proposal Engineer chez Anotech Energy (Mission',\n",
       " 'cv_data engineer_513': 'ASIC Design Engineer',\n",
       " 'cv_data engineer_514': 'Senior Professional Services Engineer',\n",
       " 'cv_data engineer_515': 'Industrialisation Engineer CATIA',\n",
       " 'cv_data engineer_516': 'F1 Power Unit Test Engineer',\n",
       " 'cv_data engineer_517': 'SENIOR MPBN\\\\PCN IntÃ©gration Engineer',\n",
       " 'cv_data engineer_518': 'Principle Software Engineer',\n",
       " 'cv_data engineer_519': 'Instrumentation & Process control engineer / Instrumentation technical referent',\n",
       " 'cv_data engineer_520': 'Software engineer - Position Keeping & Controls',\n",
       " 'cv_data engineer_521': 'Digital Design Engineer',\n",
       " 'cv_data engineer_522': 'Research Engineer in Motion Perception',\n",
       " 'cv_data engineer_523': 'Engineer in charge of industrial projects',\n",
       " 'cv_data engineer_524': 'engineer, Corporate Research Dassault SystÃ©mes',\n",
       " 'cv_data engineer_525': 'engineer at Metering System Department',\n",
       " 'cv_data engineer_526': 'Research and Development Engineer (Internship)',\n",
       " 'cv_data engineer_527': 'Technical management of the projects as leading lighting engineer',\n",
       " 'cv_data engineer_528': 'Principal Senior Technical Telecom Engineer',\n",
       " 'cv_data engineer_529': 'Unified Communications & Collaboration Senior',\n",
       " 'cv_data scientist_1': 'Data scientist',\n",
       " 'cv_data scientist_2': 'Data Scientist Intern, Caisse des DÃ©pÃ´ts et Consignations',\n",
       " 'cv_data scientist_3': 'Data Scientist',\n",
       " 'cv_data scientist_4': 'Data Scientist Stage (5 mois)',\n",
       " 'cv_data scientist_5': 'Data Scientist puis Responsable Data Insights',\n",
       " 'cv_data scientist_6': 'Data scientist junior',\n",
       " 'cv_data scientist_7': 'Data Scientist',\n",
       " 'cv_data scientist_8': 'DÃ©veloppeur Data scientist',\n",
       " 'cv_data scientist_9': 'Data Scientist Intern',\n",
       " 'cv_data scientist_10': 'Stage Data scientist',\n",
       " 'cv_data scientist_11': 'Data Scientist (Intern)',\n",
       " 'cv_data scientist_12': 'Data Scientist Assistant',\n",
       " 'cv_data scientist_13': 'Stage - Data Scientist',\n",
       " 'cv_data scientist_14': 'Data Scientist',\n",
       " 'cv_data scientist_15': 'Data Scientist',\n",
       " 'cv_data scientist_16': 'Statsisticien / Data scientist',\n",
       " 'cv_data scientist_17': 'Consultant Data Scientist Senior',\n",
       " 'cv_data scientist_18': 'Stage : Data Scientist',\n",
       " 'cv_data scientist_19': 'Data Scientist',\n",
       " 'cv_data scientist_20': 'Scientist \" ou de \"Data',\n",
       " 'cv_data scientist_21': 'Senior Semantic data scientist',\n",
       " 'cv_data scientist_22': 'Data scientist in the team KEODS',\n",
       " 'cv_data scientist_23': 'Data Scientist intern',\n",
       " 'cv_data scientist_24': 'Research Scientist',\n",
       " 'cv_data scientist_25': 'Research Scientist (acoustic wireless networks)',\n",
       " 'cv_data scientist_26': 'Data Scientist ( Stage )',\n",
       " 'cv_data scientist_27': 'scientist/architect',\n",
       " 'cv_data scientist_28': 'Data Scientist',\n",
       " 'cv_data scientist_29': 'Data Scientist',\n",
       " 'cv_data scientist_30': 'Head of IT Innovation â\\x80\\x93 Big Data et Data Science',\n",
       " 'cv_data scientist_31': 'Data Scientist, Big Data consultant (Fitec)',\n",
       " 'cv_data scientist_32': 'Design and architect big data solution',\n",
       " 'cv_data scientist_33': 'Data Analyst',\n",
       " 'cv_data scientist_34': 'Stage',\n",
       " 'cv_data scientist_35': 'Intern as data scientist at the WIND department',\n",
       " 'cv_data scientist_36': 'Stage MASTER : Big Data analytiques et SystÃ¨mes intelligents',\n",
       " 'cv_data scientist_37': \"Chercheur d'emploi\",\n",
       " 'cv_data scientist_38': 'Specialization in Data Science',\n",
       " 'cv_data scientist_39': 'Research scientist',\n",
       " 'cv_data scientist_40': 'Data Scientist',\n",
       " 'cv_data scientist_41': 'Project Manager Big Data Internship (1000Mercis)',\n",
       " 'cv_data scientist_42': 'Lead data scientist',\n",
       " 'cv_data scientist_43': \"approches d'apprentissage automatique\",\n",
       " 'cv_data scientist_44': 'project manager',\n",
       " 'cv_data scientist_45': 'Consumer Market Research Manager',\n",
       " 'cv_data scientist_46': 'Big data Machine Learning Engineer',\n",
       " 'cv_data scientist_47': 'Architecte Big Data',\n",
       " 'cv_data scientist_48': 'Manager',\n",
       " 'cv_data scientist_49': \"Stage auprÃ¨s de l'hÃ´pital Saint Louis entre mars et septembre\",\n",
       " 'cv_data scientist_50': 'Computational Linguist',\n",
       " 'cv_data scientist_51': 'Biomedical Engineer',\n",
       " 'cv_data scientist_52': 'Industrial placement student',\n",
       " 'cv_data scientist_53': 'Scientific Officer',\n",
       " 'cv_data scientist_54': 'Stage : Buisness analyst',\n",
       " 'cv_data scientist_55': 'IngÃ©nieur de recherche',\n",
       " 'cv_data scientist_56': 'modÃ¨les, apprentissage',\n",
       " 'cv_data scientist_57': 'IngÃ©nieure de recherche',\n",
       " 'cv_data scientist_58': 'Projet de deep learning pour les donnÃ©es structurÃ©es',\n",
       " 'cv_data scientist_59': 'ThÃ¨se en Informatique Ã\\xa0 CentraleSupelec (91)',\n",
       " 'cv_data scientist_60': 'Organisation Staff',\n",
       " 'cv_data scientist_61': 'Senior Research Associate',\n",
       " 'cv_data scientist_62': \"Chercheur d'emploi\",\n",
       " 'cv_data scientist_63': 'Clinical Operation Manager',\n",
       " 'cv_data scientist_64': 'Research Engineer (Short term)',\n",
       " 'cv_data scientist_65': \"ChargÃ©e d'Etudes RH\",\n",
       " 'cv_data scientist_66': 'Administratrice rÃ©seaux',\n",
       " 'cv_data scientist_67': \"Chercheur d'emploi\",\n",
       " 'cv_data scientist_68': 'Head of Datalab / DataScience team',\n",
       " 'cv_data scientist_69': 'Data Scientist Junior',\n",
       " 'cv_data scientist_70': 'DÃ©veloppeur R',\n",
       " 'cv_data scientist_71': 'IT Engineer Specialist',\n",
       " 'cv_data scientist_72': 'Data Scientist Junior',\n",
       " 'cv_data scientist_73': 'Stage de CÃ©sure (9 mois) - Analyste de Test transverse',\n",
       " 'cv_data scientist_74': 'Chercheur doctorant',\n",
       " 'cv_data scientist_75': 'Product Advisor in Neurology (Epilepsy / rare disease)',\n",
       " 'cv_data scientist_76': 'Master Student',\n",
       " 'cv_data scientist_77': \"Chercheur d'emploi\",\n",
       " 'cv_data scientist_78': 'Doctorat de physique',\n",
       " 'cv_data scientist_79': 'Stagiaire, analyse de donnÃ©es en biologie Ã©volutive',\n",
       " 'cv_data scientist_80': \"ChargÃ© d'Ã©tudes actuarielles\",\n",
       " 'cv_data scientist_81': 'Peer reviewer, Rubriq, North Carolina',\n",
       " 'cv_data scientist_82': 'Ey/emmaÃ¼s Deep Learning Hackathon',\n",
       " 'cv_data scientist_83': 'Financial Auditor',\n",
       " 'cv_data scientist_84': 'Consultant SI',\n",
       " 'cv_data scientist_85': 'IoT developper',\n",
       " 'cv_data scientist_86': 'Procurement and Materials Analyst',\n",
       " 'cv_data scientist_87': 'Temporary Tutor',\n",
       " 'cv_data scientist_88': 'Expert consultant .NET, XML, Linq Delphi et WCF',\n",
       " 'cv_data scientist_89': \"Chercheur d'emploi\",\n",
       " 'cv_data scientist_90': \"Chercheur d'emploi\",\n",
       " 'cv_data scientist_91': 'Clinical Internship',\n",
       " 'cv_data scientist_92': 'Business Consultant',\n",
       " 'cv_data scientist_93': 'Financial',\n",
       " 'cv_data scientist_94': 'Stagiaire dÃ©veloppeur Node.js',\n",
       " 'cv_data scientist_95': 'Self-employed consultant',\n",
       " 'cv_data scientist_96': 'Projet de REST Web service',\n",
       " 'cv_data scientist_97': \"Chef d'Ã©quipe\",\n",
       " 'cv_data scientist_98': 'Incident Manager',\n",
       " 'cv_data scientist_99': 'Clinical Physician in Academic',\n",
       " 'cv_data scientist_100': 'Intern Data Scientist',\n",
       " 'cv_data scientist_101': 'Data Scientist',\n",
       " 'cv_data scientist_102': 'Consultant',\n",
       " 'cv_data scientist_103': 'Data Scientist',\n",
       " 'cv_data scientist_104': 'Independent Translator and Communications Consultant',\n",
       " 'cv_data scientist_105': 'Data Scientist',\n",
       " 'cv_data scientist_106': 'Data Analyst / Data Scientist',\n",
       " 'cv_data scientist_107': 'Data scientist',\n",
       " 'cv_data scientist_108': 'Data Scientist',\n",
       " 'cv_data scientist_109': 'Stage : Assistante Data Scientist',\n",
       " 'cv_data scientist_110': 'Data Scientist Stagiaire',\n",
       " 'cv_data scientist_111': 'Data scientist',\n",
       " 'cv_data scientist_112': 'Stagiaire Data Scientist',\n",
       " 'cv_data scientist_113': 'Consultant & Data Scientist',\n",
       " 'cv_data scientist_114': 'Consultant / Data Scientist',\n",
       " 'cv_data scientist_115': 'Data scientist consultant',\n",
       " 'cv_data scientist_116': 'Data Scientist',\n",
       " 'cv_data scientist_117': 'Data scientist / Analyst',\n",
       " 'cv_data scientist_118': 'Formation Data Scientist',\n",
       " 'cv_data scientist_119': 'Data Scientist',\n",
       " 'cv_data scientist_120': 'Data Scientist',\n",
       " 'cv_data scientist_121': 'Data Scientist',\n",
       " 'cv_data scientist_122': 'Data Scientist',\n",
       " 'cv_data scientist_123': 'Data Scientist',\n",
       " 'cv_data scientist_124': 'Data scientist',\n",
       " 'cv_data scientist_125': 'Data Scientist - Data engineer technical consultant',\n",
       " 'cv_data scientist_126': 'Stage Master 2 - Data Scientist',\n",
       " 'cv_data scientist_127': 'Data Scientist',\n",
       " 'cv_data scientist_128': 'Data Scientist',\n",
       " 'cv_data scientist_129': 'Data Scientist',\n",
       " 'cv_data scientist_130': 'Data Scientist',\n",
       " 'cv_data scientist_131': 'Data Scientist',\n",
       " 'cv_data scientist_132': 'Data Scientist',\n",
       " 'cv_data scientist_133': 'Data Scientist',\n",
       " 'cv_data scientist_134': 'Data Scientist',\n",
       " 'cv_data scientist_135': 'Data Scientist',\n",
       " 'cv_data scientist_136': 'Data Scientist',\n",
       " 'cv_data scientist_137': 'Data Scientist',\n",
       " 'cv_data scientist_138': 'Data Scientist',\n",
       " 'cv_data scientist_139': 'Data Scientist',\n",
       " 'cv_data scientist_140': 'Data Scientist',\n",
       " 'cv_data scientist_141': 'DAta SCIENTIST',\n",
       " 'cv_data scientist_142': 'Data Scientist',\n",
       " 'cv_data scientist_143': 'Data scientist',\n",
       " 'cv_data scientist_144': \"Data Scientist (stage de fin d'Ã©tudes)\",\n",
       " 'cv_data scientist_145': 'Data Scientist',\n",
       " 'cv_data scientist_146': 'Data Scientist',\n",
       " 'cv_data scientist_147': 'Stagiaire - Data Scientist',\n",
       " 'cv_data scientist_148': 'Data Scientist Big Data',\n",
       " 'cv_data scientist_149': 'IngÃ©nieur R&D traitement du signal appliquÃ© Ã\\xa0 la gÃ©ophysique',\n",
       " 'cv_data scientist_150': 'Data scientist intern',\n",
       " 'cv_data scientist_151': 'Septembre Data Scientist',\n",
       " 'cv_data scientist_152': \"chargÃ© d'Ã©tudes - data scientist\",\n",
       " 'cv_data scientist_153': 'Data Scientist/BIG Data Engineer',\n",
       " 'cv_data scientist_154': 'Data scientist junior',\n",
       " 'cv_data scientist_155': 'Project Lead & Data Scientist',\n",
       " 'cv_data scientist_156': 'Junior Data Scientist',\n",
       " 'cv_data scientist_157': 'Scientist',\n",
       " 'cv_data scientist_158': 'Data Scientist Internship',\n",
       " 'cv_data scientist_159': 'Data scientist-Research Inter',\n",
       " 'cv_data scientist_160': 'R&D Data Scientist Intern',\n",
       " 'cv_data scientist_161': 'Consultant Data Scientist',\n",
       " 'cv_data scientist_162': 'Stage R&D Data Scientist',\n",
       " 'cv_data scientist_163': 'Data Scientist Junior',\n",
       " 'cv_data scientist_164': 'Data scientist Consultant, EY',\n",
       " 'cv_data scientist_165': 'Data scientist / Engineer',\n",
       " 'cv_data scientist_166': 'Data Scientist Junior',\n",
       " 'cv_data scientist_167': 'Data Scientist - Micropole',\n",
       " 'cv_data scientist_168': 'IngÃ©nieur R&D Data Scientist',\n",
       " 'cv_data scientist_169': 'Lead Data Scientist',\n",
       " 'cv_data scientist_170': 'Data Scientist',\n",
       " 'cv_data scientist_171': 'Data Scientist',\n",
       " 'cv_data scientist_172': 'Data Scientist - Data engineer technical consultant',\n",
       " 'cv_data scientist_173': 'Stage Master 2 - Data Scientist',\n",
       " 'cv_data scientist_174': 'Data Scientist',\n",
       " 'cv_data scientist_175': 'Data Scientist',\n",
       " 'cv_data scientist_176': 'Data Scientist',\n",
       " 'cv_data scientist_177': 'Data Scientist',\n",
       " 'cv_data scientist_178': 'Data scientist',\n",
       " 'cv_data scientist_179': 'Data Scientist',\n",
       " 'cv_data scientist_180': 'Data Scientist',\n",
       " 'cv_data scientist_181': 'Data Scientist',\n",
       " 'cv_data scientist_182': 'Data Scientist',\n",
       " 'cv_data scientist_183': 'Data Scientist',\n",
       " 'cv_data scientist_184': 'Data Scientist',\n",
       " 'cv_data scientist_185': 'Data Scientist',\n",
       " 'cv_data scientist_186': 'Data Scientist',\n",
       " 'cv_data scientist_187': 'Data Scientist',\n",
       " 'cv_data scientist_188': 'Data Scientist',\n",
       " 'cv_data scientist_189': 'Data Scientist',\n",
       " 'cv_data scientist_190': 'Data Scientist',\n",
       " 'cv_data scientist_191': 'Data scientist',\n",
       " 'cv_data scientist_192': \"Data Scientist (stage de fin d'Ã©tudes)\",\n",
       " 'cv_data scientist_193': 'Data Scientist',\n",
       " 'cv_data scientist_194': 'Data Scientist',\n",
       " 'cv_data scientist_195': 'Data Scientist',\n",
       " 'cv_data scientist_196': 'DAta SCIENTIST',\n",
       " 'cv_data scientist_197': 'Stagiaire - Data Scientist',\n",
       " 'cv_data scientist_198': 'Data Scientist Big Data',\n",
       " 'cv_data scientist_199': 'Septembre Data Scientist',\n",
       " 'cv_data scientist_200': \"chargÃ© d'Ã©tudes - data scientist\",\n",
       " 'cv_data scientist_201': 'Data Scientist/BIG Data Engineer',\n",
       " 'cv_data scientist_202': 'Data scientist junior',\n",
       " 'cv_data scientist_203': 'Project Lead & Data Scientist',\n",
       " 'cv_data scientist_204': 'Junior Data Scientist',\n",
       " 'cv_data scientist_205': 'Data scientist intern',\n",
       " 'cv_data scientist_206': 'Data Scientist Internship',\n",
       " 'cv_data scientist_207': 'Consultant Data Scientist',\n",
       " 'cv_data scientist_208': 'Data Scientist Junior',\n",
       " 'cv_data scientist_209': 'Data scientist Consultant, EY',\n",
       " 'cv_data scientist_210': 'Scientist',\n",
       " 'cv_data scientist_211': 'Data Scientist Junior',\n",
       " 'cv_data scientist_212': 'Data Scientist - Micropole',\n",
       " 'cv_data scientist_213': 'IngÃ©nieur R&D Data Scientist',\n",
       " 'cv_data scientist_214': 'Lead Data Scientist',\n",
       " 'cv_data scientist_215': 'Data Scientist, Technology Strategy',\n",
       " 'cv_data scientist_216': 'Formation Data Scientist',\n",
       " 'cv_data scientist_217': 'Computer Physicist/Data Scientist',\n",
       " 'cv_data scientist_218': 'Stagiaire Data Scientist',\n",
       " 'cv_data scientist_219': 'Data Scientist Intern',\n",
       " 'cv_data scientist_220': 'Data Scientist',\n",
       " 'cv_data scientist_221': 'Data Scientist',\n",
       " 'cv_data scientist_222': 'Data Scientist',\n",
       " 'cv_data scientist_223': 'Data Scientist (Final Year Internship)',\n",
       " 'cv_data scientist_224': 'Data Scientist Intern',\n",
       " 'cv_data scientist_225': 'Data scientist - Expert en statistiques pour la publicitÃ©',\n",
       " 'cv_data scientist_226': 'Since Satellite data scientist, ACRI',\n",
       " 'cv_data scientist_227': 'Data Scientist / IngÃ©nieur Big Data (stage)',\n",
       " 'cv_data scientist_228': 'Stagiaire Data Scientist & Shiny Developper',\n",
       " 'cv_data scientist_229': 'Data scientist / Chef de projet',\n",
       " 'cv_data scientist_230': 'Stagiaire data scientist (6 mois)',\n",
       " 'cv_data scientist_231': 'Stagiaire Data scientist',\n",
       " 'cv_data scientist_232': 'Stage - Data Scientist',\n",
       " 'cv_data scientist_233': 'Data scientist & Risk management',\n",
       " 'cv_data scientist_234': 'Data Scientist junior',\n",
       " 'cv_data scientist_235': 'Lead Data scientist',\n",
       " 'cv_data scientist_236': 'Stage Data Scientist',\n",
       " 'cv_data scientist_237': 'Data Scientist (BI & CRM)',\n",
       " 'cv_data scientist_238': 'Data Scientist - BI/ Big Data',\n",
       " 'cv_data scientist_239': 'Stagiaire Data Scientist',\n",
       " 'cv_data scientist_240': 'Stagiaire Data Scientist',\n",
       " 'cv_data scientist_241': 'Apprenti data scientist',\n",
       " 'cv_data scientist_242': 'Stagiaire data scientist',\n",
       " 'cv_data scientist_243': 'Data Scientist (alternance)',\n",
       " 'cv_data scientist_244': 'Data-Scientist en Alternance',\n",
       " 'cv_data scientist_245': 'Stage - Data Scientist',\n",
       " 'cv_data scientist_246': 'Stagiaire Data Scientist',\n",
       " 'cv_data scientist_247': 'Digital data scientist',\n",
       " 'cv_data scientist_248': 'Data Analyst / Scientist',\n",
       " 'cv_data scientist_249': 'Stage Consultant Data Scientist',\n",
       " 'cv_data scientist_250': 'Dataminer/Data Scientist',\n",
       " 'cv_data scientist_251': 'Data Scientist - Intern',\n",
       " 'cv_data scientist_252': 'Stagiaire Data Scientist',\n",
       " 'cv_data scientist_253': 'Consultant data scientist',\n",
       " 'cv_data scientist_254': 'Stagiaire Data Scientist',\n",
       " 'cv_data scientist_255': 'Consultante Data Scientist (stage)',\n",
       " 'cv_data scientist_256': 'Stagiaire Consultant Data Scientist',\n",
       " 'cv_data scientist_257': 'Stagiaire Data scientist',\n",
       " 'cv_data scientist_258': 'Data scientist intern',\n",
       " 'cv_data scientist_259': 'Data Scientist - stage',\n",
       " 'cv_data scientist_260': 'Data Scientist',\n",
       " 'cv_data scientist_261': 'Data Scientist',\n",
       " 'cv_data scientist_262': 'Data Scientist (Final Year Internship)',\n",
       " 'cv_data scientist_263': 'Data Scientist Intern',\n",
       " 'cv_data scientist_264': 'Data scientist - Expert en statistiques pour la publicitÃ©',\n",
       " 'cv_data scientist_265': 'Data Scientist / IngÃ©nieur Big Data (stage)',\n",
       " 'cv_data scientist_266': 'Data scientist / Chef de projet',\n",
       " 'cv_data scientist_267': 'Since Satellite data scientist, ACRI',\n",
       " 'cv_data scientist_268': 'Stagiaire Data Scientist & Shiny Developper',\n",
       " 'cv_data scientist_269': 'Stagiaire data scientist (6 mois)',\n",
       " 'cv_data scientist_270': 'Data Scientist - BI/ Big Data',\n",
       " 'cv_data scientist_271': 'Stagiaire Data Scientist',\n",
       " 'cv_data scientist_272': 'Stagiaire Data Scientist',\n",
       " 'cv_data scientist_273': 'Apprenti data scientist',\n",
       " 'cv_data scientist_274': 'Stagiaire data scientist',\n",
       " 'cv_data scientist_275': 'Data Scientist (alternance)',\n",
       " 'cv_data scientist_276': 'Data-Scientist en Alternance',\n",
       " 'cv_data scientist_277': 'Stage - Data Scientist',\n",
       " 'cv_data scientist_278': 'Stagiaire Data Scientist',\n",
       " 'cv_data scientist_279': 'Stagiaire Data scientist',\n",
       " 'cv_data scientist_280': 'Digital data scientist',\n",
       " 'cv_data scientist_281': 'Data Analyst / Scientist',\n",
       " 'cv_data scientist_282': 'Consultant Data Scientist Senior',\n",
       " 'cv_data scientist_283': 'Stage - Data Scientist',\n",
       " 'cv_data scientist_284': 'Stage Consultant Data Scientist',\n",
       " 'cv_data scientist_285': 'Dataminer/Data Scientist',\n",
       " 'cv_data scientist_286': 'Data Scientist - Intern',\n",
       " 'cv_data scientist_287': 'Stagiaire Data Scientist',\n",
       " 'cv_data scientist_288': 'Consultant data scientist',\n",
       " 'cv_data scientist_289': 'Stagiaire Data Scientist',\n",
       " 'cv_data scientist_290': 'Consultante Data Scientist (stage)',\n",
       " 'cv_data scientist_291': 'Data scientist & Risk management',\n",
       " 'cv_data scientist_292': 'Stagiaire Consultant Data Scientist',\n",
       " 'cv_data scientist_293': 'Stagiaire Data scientist',\n",
       " 'cv_data scientist_294': 'Data Scientist - stage',\n",
       " 'cv_data scientist_295': 'Stage Data Scientist',\n",
       " 'cv_data scientist_296': 'Data Scientist junior',\n",
       " 'cv_data scientist_297': 'Data Scientist intern',\n",
       " 'cv_data scientist_298': 'Intensive Data Scientist Courses',\n",
       " 'cv_data scientist_299': 'Junior Data Scientist',\n",
       " 'cv_data scientist_300': 'Lead Data scientist',\n",
       " 'cv_data scientist_301': 'Data Scientist (BI & CRM)',\n",
       " 'cv_data scientist_302': 'Stagiaire Data Scientist',\n",
       " 'cv_data scientist_303': 'Junior Data Scientist Consultant',\n",
       " 'cv_data scientist_304': 'Stage Data Scientist',\n",
       " 'cv_data scientist_305': 'Data scientist intern',\n",
       " 'cv_data scientist_306': 'R&D - Data Scientist Intern',\n",
       " 'cv_data scientist_307': 'Stagiaire data scientist',\n",
       " 'cv_data scientist_308': 'Data Scientist/Software Engineer',\n",
       " 'cv_data scientist_309': 'Stagiaire data scientist',\n",
       " 'cv_data scientist_310': 'Staff Scientist',\n",
       " 'cv_data scientist_311': 'Research Scientist',\n",
       " 'cv_data scientist_312': 'Data Analyst',\n",
       " 'cv_data scientist_313': 'Data Analyst',\n",
       " 'cv_data scientist_314': 'Data Analyst',\n",
       " 'cv_data scientist_315': 'Data Analyst',\n",
       " 'cv_data scientist_316': 'Data Scient',\n",
       " 'cv_data scientist_317': 'Data Analyst',\n",
       " 'cv_data scientist_318': \"Stage de fin d'Ã©tudes de fÃ©vrier\",\n",
       " 'cv_data scientist_319': 'Research scientist, INSERM-U1016',\n",
       " 'cv_data scientist_320': 'Etudiant',\n",
       " 'cv_data scientist_321': 'Big Data Architect',\n",
       " 'cv_data scientist_322': 'Product data Engineer',\n",
       " 'cv_data scientist_323': 'Web&TV Project Manager',\n",
       " 'cv_data scientist_324': 'Data Architect / Spotfire Consultant',\n",
       " 'cv_data scientist_325': 'Data Analyst â\\x80\\x93 Part-time',\n",
       " 'cv_data scientist_326': 'Chief Data Officer',\n",
       " 'cv_data scientist_327': 'Senior Research Scientist - Project Leader',\n",
       " 'cv_data scientist_328': 'Research Engineer - Data Analyst',\n",
       " 'cv_data scientist_329': 'Consultant Tech lead Big Data',\n",
       " 'cv_data scientist_330': 'Business Analyst - Big Data Developer',\n",
       " 'cv_data scientist_331': 'Junior Consultant in Data Science',\n",
       " 'cv_data scientist_332': 'Projet IngÃ©nieur',\n",
       " 'cv_data scientist_333': 'RÃ©gional Medical Scientist Novex Pharma (Quintiles)',\n",
       " 'cv_data scientist_334': 'Data Analyst',\n",
       " 'cv_data scientist_335': 'Data Analyst',\n",
       " 'cv_data scientist_336': 'Data Manager',\n",
       " 'cv_data scientist_337': 'DevOps',\n",
       " 'cv_data scientist_338': 'Data Analyst',\n",
       " 'cv_data scientist_339': 'Projet Master Data Management, consolidation des donnÃ©es',\n",
       " 'cv_data scientist_340': 'Stage data analyste Cyber Threat Intelligence',\n",
       " 'cv_data scientist_341': 'Secteur Informatique',\n",
       " 'cv_data scientist_342': 'Stage en Data Science et Big Data',\n",
       " 'cv_data scientist_343': 'Consultant Big Data',\n",
       " 'cv_data scientist_344': 'Financial Data Manager',\n",
       " 'cv_data scientist_345': 'Research Scientist',\n",
       " 'cv_data scientist_346': 'R&D engineer',\n",
       " 'cv_data scientist_347': 'Consultant Data Science',\n",
       " 'cv_data scientist_348': 'Europe, Middle East and Africa Data Science Director',\n",
       " 'cv_data scientist_349': 'PhD researcher to interpret the data and test hypotheses',\n",
       " 'cv_data scientist_350': 'Consultant Big Data',\n",
       " 'cv_data scientist_351': 'Consultant Big Data',\n",
       " 'cv_data scientist_352': 'CRM Data Manager Intern',\n",
       " 'cv_data scientist_353': 'Stage IngÃ©nieur Data',\n",
       " 'cv_data scientist_354': 'Etudiante MS Data Science',\n",
       " 'cv_data scientist_355': 'Depuis Chef de Projet Innovation, Presstalis - Acteur majeur',\n",
       " 'cv_data scientist_356': 'Cdd Cnes',\n",
       " 'cv_data scientist_357': \"Chercheur d'emploi\",\n",
       " 'cv_data scientist_358': 'founder GUKEN',\n",
       " 'cv_data scientist_359': 'Poste Actuel Business Analyst Topline Distribution & Marketing',\n",
       " 'cv_data scientist_360': 'Research Engineer - Data Analyst',\n",
       " 'cv_data scientist_361': 'Consultant Tech lead Big Data',\n",
       " 'cv_data scientist_362': 'Business Analyst - Big Data Developer',\n",
       " 'cv_data scientist_363': 'Junior Consultant in Data Science',\n",
       " 'cv_data scientist_364': 'Projet IngÃ©nieur',\n",
       " 'cv_data scientist_365': 'RÃ©gional Medical Scientist Novex Pharma (Quintiles)',\n",
       " 'cv_data scientist_366': 'Data Analyst',\n",
       " 'cv_data scientist_367': 'Data Analyst',\n",
       " 'cv_data scientist_368': 'Data Manager',\n",
       " 'cv_data scientist_369': 'DevOps',\n",
       " 'cv_data scientist_370': 'Projet Master Data Management, consolidation des donnÃ©es',\n",
       " 'cv_data scientist_371': 'Stage data analyste Cyber Threat Intelligence',\n",
       " 'cv_data scientist_372': 'Stage en Data Science et Big Data',\n",
       " 'cv_data scientist_373': 'Consultant Big Data',\n",
       " 'cv_data scientist_374': 'Financial Data Manager',\n",
       " 'cv_data scientist_375': 'Research Scientist',\n",
       " 'cv_data scientist_376': 'R&D engineer',\n",
       " 'cv_data scientist_377': 'Consultant Data Science',\n",
       " 'cv_data scientist_378': 'Europe, Middle East and Africa Data Science Director',\n",
       " 'cv_data scientist_379': 'PhD researcher to interpret the data and test hypotheses',\n",
       " 'cv_data scientist_380': 'Consultant Big Data',\n",
       " 'cv_data scientist_381': 'Consultant Big Data',\n",
       " 'cv_data scientist_382': 'Stage IngÃ©nieur Data',\n",
       " 'cv_data scientist_383': 'Etudiante MS Data Science',\n",
       " 'cv_data scientist_384': 'Depuis Chef de Projet Innovation, Presstalis - Acteur majeur',\n",
       " 'cv_data scientist_385': 'Cdd Cnes',\n",
       " 'cv_data scientist_386': \"Chercheur d'emploi\",\n",
       " 'cv_data scientist_387': 'founder GUKEN',\n",
       " 'cv_data scientist_388': 'Poste Actuel Business Analyst Topline Distribution & Marketing',\n",
       " 'cv_data scientist_389': 'Business Analyst - Big Data Developer, BEREXIA - Big Data',\n",
       " 'cv_data scientist_390': 'Analyste Data (ODI / SQL Server)',\n",
       " 'cv_data scientist_391': \"Stage de fin d'Ã©tude\",\n",
       " 'cv_data scientist_392': 'Internship',\n",
       " 'cv_data scientist_393': 'CDI',\n",
       " 'cv_data scientist_394': 'Business Manager',\n",
       " 'cv_data scientist_395': 'Stage',\n",
       " 'cv_data scientist_396': 'Stage mastÃ¨re',\n",
       " 'cv_data scientist_397': 'Big Data Technical Architect',\n",
       " 'cv_data scientist_398': 'Data science internship',\n",
       " 'cv_data scientist_399': 'Directeur de la production et des infrastructures',\n",
       " 'cv_data scientist_400': 'Manager',\n",
       " 'cv_data scientist_401': 'Research Analyst (Internship)',\n",
       " 'cv_data scientist_402': \"IngÃ©nieur d'affaires Et business Development\",\n",
       " 'cv_data scientist_403': 'Senior Business Manager',\n",
       " 'cv_data scientist_404': \"Chercheur d'emploi\",\n",
       " 'cv_data scientist_405': 'Expert Technique',\n",
       " 'cv_data scientist_406': 'HR Business Partner',\n",
       " 'cv_data scientist_407': 'Recruitment Partner',\n",
       " 'cv_data scientist_408': 'Directeur Des Ressources Humaines',\n",
       " 'cv_data scientist_409': 'Stagiaire Big Data & Machine Learning',\n",
       " 'cv_data scientist_410': 'Senior Quality Manager',\n",
       " 'cv_data scientist_411': 'Self-employment, France',\n",
       " 'cv_data scientist_412': 'Statisticien',\n",
       " 'cv_data scientist_413': 'Research assistant',\n",
       " 'cv_data scientist_414': 'SEM Campaign Manager - Team Lead',\n",
       " 'cv_data scientist_415': 'Life Science Consultant',\n",
       " 'cv_data scientist_416': 'Research Engineer',\n",
       " 'cv_data scientist_417': 'Digital Analyst Junior',\n",
       " 'cv_data scientist_418': 'Post-doctoral researcher',\n",
       " 'cv_data scientist_419': 'Research Assistant',\n",
       " 'cv_data scientist_420': 'DataScientist',\n",
       " 'cv_data scientist_421': 'Internship - Oil and Gas Analyst',\n",
       " 'cv_data scientist_422': 'Senior Bio-Statistician',\n",
       " 'cv_data scientist_423': 'Formateur indÃ©pendant',\n",
       " 'cv_data scientist_424': 'Project Manager - Predictive Analytics',\n",
       " 'cv_data scientist_425': 'Clinical Research Associate',\n",
       " 'cv_data scientist_426': 'Science Officer and Divemaster',\n",
       " 'cv_data scientist_427': 'Chercheur statisticien R&D',\n",
       " 'cv_data scientist_428': 'Facial points recognition using Deep Learning and Active Learning process.',\n",
       " 'cv_data scientist_429': 'Industrial placement student',\n",
       " 'cv_data scientist_430': \"ChargÃ©e d'OpÃ©rations Marketing Web\",\n",
       " 'cv_data scientist_431': 'Consultant Bioinformatique',\n",
       " 'cv_data scientist_432': \"Chercheur d'emploi\",\n",
       " 'cv_data scientist_433': 'Junior Researcher',\n",
       " 'cv_data scientist_434': 'Research Internship',\n",
       " 'cv_data scientist_435': 'Media Trader',\n",
       " 'cv_data scientist_436': 'Machine Learning & Business Intelligence Manager',\n",
       " 'cv_data scientist_437': 'Chemist',\n",
       " 'cv_data scientist_438': 'Senior Analytics Advisor',\n",
       " 'cv_data scientist_439': 'Consumer Market Research Manager',\n",
       " 'cv_data scientist_440': 'Prendre en charge le dÃ©veloppement',\n",
       " 'cv_data scientist_441': 'Product manager',\n",
       " 'cv_data scientist_442': 'Directeur, Service Clients chez LEADBOOK',\n",
       " 'cv_data scientist_443': 'Stage',\n",
       " 'cv_data scientist_444': 'PhD student',\n",
       " 'cv_data scientist_445': 'PhD student',\n",
       " 'cv_data scientist_446': 'Research Assistant',\n",
       " 'cv_data scientist_447': 'Stage en entreprise',\n",
       " 'cv_data scientist_448': 'Researcher & part time lecturer',\n",
       " 'cv_data scientist_449': \"Chercheur d'emploi\",\n",
       " 'cv_data scientist_450': 'Insight and R&D internship',\n",
       " 'cv_data scientist_451': 'Cto/cso',\n",
       " 'cv_data scientist_452': 'Editeur logiciels en mode SaaS',\n",
       " 'cv_data scientist_453': 'Study coordinator on haemato-oncology clinical trials phase Ib, II, III et IV',\n",
       " 'cv_data scientist_454': 'IngÃ©nieur en Recherche et DÃ©veloppement',\n",
       " 'cv_data scientist_455': 'Chef projet e-santÃ©',\n",
       " 'cv_data scientist_456': 'Innovation project manager assistant',\n",
       " 'cv_data scientist_457': 'Marketing Manager',\n",
       " 'cv_data scientist_458': 'Postdoctoral Fellow',\n",
       " 'cv_data scientist_459': 'Consultante senior',\n",
       " 'cv_data scientist_460': \"Chercheur d'emploi\",\n",
       " 'cv_data scientist_461': 'Stage en entreprise',\n",
       " 'cv_data scientist_462': 'Consultant technique eCommerce freelance',\n",
       " 'cv_data scientist_463': 'Machine Learning Teacher',\n",
       " 'cv_data scientist_464': 'Analyste statisticien risque investissement',\n",
       " 'cv_data scientist_465': 'Saisie dâ\\x80\\x99informatique des commandes et des factures et encaissement.',\n",
       " 'cv_data scientist_466': 'Research Collaborator',\n",
       " 'cv_data scientist_467': \"Chercheur d'emploi\",\n",
       " 'cv_data scientist_468': \"ChargÃ©e d'accueil\",\n",
       " 'cv_data scientist_469': \"Chercheur d'emploi\",\n",
       " 'cv_data scientist_470': 'Senior Research Analyst',\n",
       " 'cv_data scientist_471': \"Chercheur d'emploi\",\n",
       " ...}"
      ]
     },
     "execution_count": 10,
     "metadata": {},
     "output_type": "execute_result"
    }
   ],
   "source": [
    "#for filename in glob.iglob('src/**/*.c', recursive=True):\n",
    "#    print(filename)\n",
    "dico_titles"
   ]
  },
  {
   "cell_type": "code",
   "execution_count": 11,
   "metadata": {
    "collapsed": true
   },
   "outputs": [],
   "source": [
    "# Remplir un dico de cv dont la clé est le nom du fichier, et la valeur, un CV\n",
    "\n",
    "for key, value in dico_cv.items():\n",
    "    filename = key\n",
    "    cv = CV(0, 0, 0)\n",
    "    cv.filename = key\n",
    "    \n",
    "    if key in dico_titles.keys():\n",
    "        cv.title = dico_titles[key]\n",
    "    else:\n",
    "        cv.title = \"\"\n",
    "        \n",
    "    cv.cv = dico_cv[key]\n",
    "    \n",
    "    dico_cv[key] = cv\n",
    "\n",
    "\n",
    "# elements qui n'ont pas de titres...\n",
    "len(dico_cv)\n",
    "for key, value in dico_cv.items():\n",
    "    #print(value.title)\n",
    "    if value.title == \"\":\n",
    "        print(key)"
   ]
  },
  {
   "cell_type": "markdown",
   "metadata": {
    "collapsed": true
   },
   "source": [
    "#### Suppression des sauts de ligne et text.lower()"
   ]
  },
  {
   "cell_type": "code",
   "execution_count": 12,
   "metadata": {
    "collapsed": true
   },
   "outputs": [],
   "source": [
    "import string,re\n",
    "regex = re.compile('[%s]' % '(\\\\n)*(\\\\x0c)*')\n",
    "def del_line_feed(s):  \n",
    "    \"\"\"Delete \\n in the text\"\"\"\n",
    "    return regex.sub(' ', s)"
   ]
  },
  {
   "cell_type": "code",
   "execution_count": 13,
   "metadata": {
    "collapsed": true
   },
   "outputs": [],
   "source": [
    "#liste_cv = [del_line_feed(text).lower() for text in liste_cv]\n",
    "#liste_cv = ()\n",
    "for key, cv in dico_cv.items():\n",
    "    cv.cv = del_line_feed(cv.cv).lower()\n",
    "    dico_cv[key] = cv\n",
    "#liste_cv = [del_line_feed(text).lower() for text in dico_cv.values]"
   ]
  },
  {
   "cell_type": "code",
   "execution_count": 14,
   "metadata": {},
   "outputs": [
    {
     "name": "stdout",
     "output_type": "stream",
     "text": [
      "administrateur réseaux et sécurité  nanterre  92  - email me on indeed: indeed.com/r/38feb844e66fc577  expérience  administrateur réseaux et sécurité  it delivery services  -  paris  75  -  août 2017 - novembre 2017  it delivery services – administrateur réseau et sécurité paris mission chez atos : administration des pare-feu  fortigate 5000 et 1500  〓 piloter un projet de migration de 70 vdom 〓 etude de l’existant et préparation des schémas cible 〓 création de la matrice de flux 〓 mettre en place un plan d’adressage, vlan et routage 〓 upgrade des fortios 〓 analyse et comparaison les fichiers de configuration 〓 résolution des problèmes technique. 〓 analyse de risque et création des modes opératoires de migration  administrateur systèmes, réseaux et virtualisation  atento  intelcia   -  casablanca -  novembre 2006 - mai 2017  -réseau  switch, routeur, firewall   cisco, dell, hp, fortigate, peplink  〓 configuration et attribution des adresses ip, vlan, vpn  ssl & ipsec , stp, vrrp, routage  statique et dynamique , nat et les acls 〓 supervision de la bande passante, erreurs, discards et état des ports  solarwinds  〓 l’application des mises à jour du firmware. 〓 administration du coeur réseau  cisco catalyste 4507 et dell force10 c150  〓 sauvegarde et restauration des configurations 〓 paramétrage des logs  syslog  et ntp 〓 configuration de load balancing 〓 gestion des utilisateurs et des privilèges 〓 câblage, brassage et étiquetage des équipement réseau 〓 implémenter les fonctionnalités d’un utm : policy ip, web filter, application control, intrusion prevention, vpn, routage, nat, rapport, alert et ha  fortigate 500d, fortianalyzer  -administrer une plateforme virtuelle sous vmware  vsphere 5 et 6 et view 5  〓  installation  et  mise  à  jour  des  composants  vmware  :  l’hyperviseur  esxi,  vcenter,  update  manager, orchestrator, vconverter, composer, connexion, replicat et security server. 〓 configuration et supervision les fonctionnalité d’un cluster vsphere : drs, sdrs, ha, vmotion svmotion, dpm, evc. 〓 création, installation de l’os et attribution des ressources aux vms, déploiement des appliance ovf/ova. 〓 implémenter et gérer les datastores vmfs et les disques virtual vmdk   〓 administration des vswitch  standard et distribué . 〓 l’installation des patches et des correctifs pour les hosts esxi et la mise à jour du vmware tools ou du vm hardware pour les vms à l’aide d’update manager. 〓 l’administration en ligne de commande  esxcli, esxtop…  ou vmware vsphere powercli pour des taches avancées. 〓 vdi : création, installation et optimisation des modelés  template  de vm selon les bons pratiques de vmware et la génération des pools. 〓 la résolution des problèmes techniques et opérationnelles. - gérer les sauvegardes et restaurations  backup exec, veeam . 〓 création des taches de sauvegarde et restauration de dossiers, vm, états system, base de donnée. 〓 la vérification de l’intégration des donnés sauvegardées avec des restaurations des tests. - linux  debian, centos . 〓 installation et configuration des serveurs sous linux  network, package et dépendances, services, disques lvm, fichier de configuration, tache planifier, fichier log, maj . 〓 gérer des services sous linux  iptables, squid, syslog, ntp, keepalived  -administrer un domaine active directory sous windows nt, 2000, 2003 et 2008 server  réplication, dns, dhcp, gpo, script, smb, wsus, sccm  - administration d’un serveur et des clients de messagerie  lotus domino et notes  - rédaction des procédures - support niveau i, ii et iii  stage  isonet  -  casablanca -  avril 2006 - avril 2006  prècablage utp cat6 et fibre optique  formation  red hat system administration i & ii  rh-124 & rh-134   innosoft  -  casablanca  décembre 2011 - janvier 2012  langue et culture italienne b2  società dante alighieri  -  casablanca  2010 - 2012  licence professionnelle réseaux et télécoms en administration et transmission de l'information.  université paris-est marne-la-vallée  -  champigny-sur-marne  94   2010 - 2011  technicien spécialisé en réseaux et systèmes informatiques   \n"
     ]
    }
   ],
   "source": [
    "#liste_cv[0]\n",
    "for key, value in dico_cv.items():\n",
    "    print(value.cv)\n",
    "    break"
   ]
  },
  {
   "cell_type": "markdown",
   "metadata": {},
   "source": [
    "#### Suppression ponctuation"
   ]
  },
  {
   "cell_type": "code",
   "execution_count": 15,
   "metadata": {},
   "outputs": [
    {
     "data": {
      "text/plain": [
       "'!\"#$%&\\'()*+,-./:;<=>?@[\\\\]^_`{|}~'"
      ]
     },
     "execution_count": 15,
     "metadata": {},
     "output_type": "execute_result"
    }
   ],
   "source": [
    "string.punctuation"
   ]
  },
  {
   "cell_type": "code",
   "execution_count": 16,
   "metadata": {
    "collapsed": true
   },
   "outputs": [],
   "source": [
    "#le maintient de la ponctuation pertube le stop words, apostrophe gérée dans text_treatment\n",
    "regex = re.compile('[%s]' % re.escape('!\"#$%&\\()*+,-./:;<=>?@[\\\\]^_{|}~')) \n",
    "\n",
    "def del_punct(s):  \n",
    "    \"\"\"Delete punctuation in the text\"\"\"\n",
    "    return regex.sub('', s)"
   ]
  },
  {
   "cell_type": "code",
   "execution_count": 17,
   "metadata": {
    "collapsed": true
   },
   "outputs": [],
   "source": [
    "#test \n",
    "#liste_cv_no_punc = [del_punct(text) for text in liste_cv]\n",
    "for key, cv in dico_cv.items():\n",
    "    cv.cv = del_punct(cv.cv)\n",
    "    dico_cv[key] = cv"
   ]
  },
  {
   "cell_type": "code",
   "execution_count": 18,
   "metadata": {},
   "outputs": [
    {
     "name": "stdout",
     "output_type": "stream",
     "text": [
      "administrateur réseaux et sécurité  nanterre  92   email me on indeed indeedcomr38feb844e66fc577  expérience  administrateur réseaux et sécurité  it delivery services    paris  75    août 2017  novembre 2017  it delivery services – administrateur réseau et sécurité paris mission chez atos  administration des parefeu  fortigate 5000 et 1500  〓 piloter un projet de migration de 70 vdom 〓 etude de l’existant et préparation des schémas cible 〓 création de la matrice de flux 〓 mettre en place un plan d’adressage vlan et routage 〓 upgrade des fortios 〓 analyse et comparaison les fichiers de configuration 〓 résolution des problèmes technique 〓 analyse de risque et création des modes opératoires de migration  administrateur systèmes réseaux et virtualisation  atento  intelcia     casablanca   novembre 2006  mai 2017  réseau  switch routeur firewall   cisco dell hp fortigate peplink  〓 configuration et attribution des adresses ip vlan vpn  ssl  ipsec  stp vrrp routage  statique et dynamique  nat et les acls 〓 supervision de la bande passante erreurs discards et état des ports  solarwinds  〓 l’application des mises à jour du firmware 〓 administration du coeur réseau  cisco catalyste 4507 et dell force10 c150  〓 sauvegarde et restauration des configurations 〓 paramétrage des logs  syslog  et ntp 〓 configuration de load balancing 〓 gestion des utilisateurs et des privilèges 〓 câblage brassage et étiquetage des équipement réseau 〓 implémenter les fonctionnalités d’un utm  policy ip web filter application control intrusion prevention vpn routage nat rapport alert et ha  fortigate 500d fortianalyzer  administrer une plateforme virtuelle sous vmware  vsphere 5 et 6 et view 5  〓  installation  et  mise  à  jour  des  composants  vmware    l’hyperviseur  esxi  vcenter  update  manager orchestrator vconverter composer connexion replicat et security server 〓 configuration et supervision les fonctionnalité d’un cluster vsphere  drs sdrs ha vmotion svmotion dpm evc 〓 création installation de l’os et attribution des ressources aux vms déploiement des appliance ovfova 〓 implémenter et gérer les datastores vmfs et les disques virtual vmdk   〓 administration des vswitch  standard et distribué  〓 l’installation des patches et des correctifs pour les hosts esxi et la mise à jour du vmware tools ou du vm hardware pour les vms à l’aide d’update manager 〓 l’administration en ligne de commande  esxcli esxtop…  ou vmware vsphere powercli pour des taches avancées 〓 vdi  création installation et optimisation des modelés  template  de vm selon les bons pratiques de vmware et la génération des pools 〓 la résolution des problèmes techniques et opérationnelles  gérer les sauvegardes et restaurations  backup exec veeam  〓 création des taches de sauvegarde et restauration de dossiers vm états system base de donnée 〓 la vérification de l’intégration des donnés sauvegardées avec des restaurations des tests  linux  debian centos  〓 installation et configuration des serveurs sous linux  network package et dépendances services disques lvm fichier de configuration tache planifier fichier log maj  〓 gérer des services sous linux  iptables squid syslog ntp keepalived  administrer un domaine active directory sous windows nt 2000 2003 et 2008 server  réplication dns dhcp gpo script smb wsus sccm   administration d’un serveur et des clients de messagerie  lotus domino et notes   rédaction des procédures  support niveau i ii et iii  stage  isonet    casablanca   avril 2006  avril 2006  prècablage utp cat6 et fibre optique  formation  red hat system administration i  ii  rh124  rh134   innosoft    casablanca  décembre 2011  janvier 2012  langue et culture italienne b2  società dante alighieri    casablanca  2010  2012  licence professionnelle réseaux et télécoms en administration et transmission de l'information  université parisest marnelavallée    champignysurmarne  94   2010  2011  technicien spécialisé en réseaux et systèmes informatiques   \n"
     ]
    }
   ],
   "source": [
    "#liste_cv_no_punc[0]\n",
    "for key, value in dico_cv.items():\n",
    "    print(value.cv)\n",
    "    break"
   ]
  },
  {
   "cell_type": "markdown",
   "metadata": {},
   "source": [
    "#### Reconnaissance langage"
   ]
  },
  {
   "cell_type": "code",
   "execution_count": 19,
   "metadata": {
    "collapsed": true
   },
   "outputs": [],
   "source": [
    "def _calculate_languages_ratios(text):\n",
    "    \"\"\"\n",
    "    Calculate probability of given text to be written in several languages and\n",
    "    return a dictionary that looks like {'french': 2, 'spanish': 4, 'english': 0}\n",
    "    \"\"\"\n",
    "\n",
    "    languages_ratios = {}\n",
    "\n",
    "    '''\n",
    "    nltk.wordpunct_tokenize() splits all punctuations into separate tokens\n",
    "    \n",
    "    >>> wordpunct_tokenize(\"That's thirty minutes away. I'll be there in ten.\")\n",
    "    ['That', \"'\", 's', 'thirty', 'minutes', 'away', '.', 'I', \"'\", 'll', 'be', 'there', 'in', 'ten', '.']\n",
    "    '''\n",
    "    \n",
    "    tokens = wordpunct_tokenize(text)\n",
    "    words = [word.lower() for word in tokens] #from text get list of word in minuscule\n",
    "\n",
    "    \n",
    "    for language in stopwords.fileids(): # pour chaque langue\n",
    "        stopwords_set = set(stopwords.words(language)) #je mets les stop words du langage dans un set\n",
    "        words_set = set(words) #je mets les mots de mon texte dans un set\n",
    "        #je prends l'intersection entre les mots de mon texte et les mots du stopwords dans le langage donné\n",
    "        common_elements = words_set & stopwords_set\n",
    "        \n",
    "        #je compute mon score comme le nombre d'éléments en communs dictionnaire [langage : score]\n",
    "        languages_ratios[language] = len(common_elements) # language \"score\"\n",
    "\n",
    "    return languages_ratios"
   ]
  },
  {
   "cell_type": "code",
   "execution_count": 20,
   "metadata": {},
   "outputs": [
    {
     "name": "stdout",
     "output_type": "stream",
     "text": [
      "[nltk_data] Downloading package stopwords to /Users/very/nltk_data...\n",
      "[nltk_data]   Package stopwords is already up-to-date!\n"
     ]
    },
    {
     "data": {
      "text/plain": [
       "['arabic',\n",
       " 'azerbaijani',\n",
       " 'danish',\n",
       " 'dutch',\n",
       " 'english',\n",
       " 'finnish',\n",
       " 'french',\n",
       " 'german',\n",
       " 'greek',\n",
       " 'hungarian',\n",
       " 'indonesian',\n",
       " 'italian',\n",
       " 'kazakh',\n",
       " 'nepali',\n",
       " 'norwegian',\n",
       " 'portuguese',\n",
       " 'romanian',\n",
       " 'russian',\n",
       " 'spanish',\n",
       " 'swedish',\n",
       " 'turkish']"
      ]
     },
     "execution_count": 20,
     "metadata": {},
     "output_type": "execute_result"
    }
   ],
   "source": [
    "import nltk\n",
    "nltk.download('stopwords')\n",
    "stopwords.fileids()"
   ]
  },
  {
   "cell_type": "code",
   "execution_count": 21,
   "metadata": {
    "collapsed": true
   },
   "outputs": [],
   "source": [
    "def get_cv_langue(liste_cv, language) :\n",
    "    \"\"\"Return resume written in the specified language in parameter\"\"\"\n",
    "    liste_2 = []\n",
    "    for cv in liste_cv:\n",
    "        if max(_calculate_languages_ratios(cv), key =_calculate_languages_ratios(cv).get)=='french':\n",
    "            liste_2.append(cv)\n",
    "    return liste_2"
   ]
  },
  {
   "cell_type": "code",
   "execution_count": 22,
   "metadata": {},
   "outputs": [
    {
     "data": {
      "text/plain": [
       "1182"
      ]
     },
     "execution_count": 22,
     "metadata": {},
     "output_type": "execute_result"
    }
   ],
   "source": [
    "#liste_cv_fr = get_cv_langue(liste_cv_no_punc, 'french')\n",
    "for k, cv in dico_cv.items():\n",
    "    #print(cv.cv)\n",
    "    calc = _calculate_languages_ratios(cv.cv)\n",
    "    #print(calc)\n",
    "    if max(calc, key=calc.get)!='french':\n",
    "        #print(key)\n",
    "        ##del dico_cv[key]\n",
    "        cv.cv = \"\"\n",
    "        dico_cv[k] = cv\n",
    "\n",
    "dico_cv = {key:dico_cv[key] for key in dico_cv if dico_cv[key].cv != \"\"}        \n",
    "len(dico_cv)\n",
    "#nb_cv = len(liste_cv_no_punc)\n",
    "#nb_cv_fr = len(liste_cv_fr)\n",
    "\n",
    "#print(\"proportion cv french :\",1- ((nb_cv-nb_cv_fr)/nb_cv))\n"
   ]
  },
  {
   "cell_type": "code",
   "execution_count": 23,
   "metadata": {},
   "outputs": [
    {
     "name": "stdout",
     "output_type": "stream",
     "text": [
      "administrateur réseaux et sécurité  nanterre  92   email me on indeed indeedcomr38feb844e66fc577  expérience  administrateur réseaux et sécurité  it delivery services    paris  75    août 2017  novembre 2017  it delivery services – administrateur réseau et sécurité paris mission chez atos  administration des parefeu  fortigate 5000 et 1500  〓 piloter un projet de migration de 70 vdom 〓 etude de l’existant et préparation des schémas cible 〓 création de la matrice de flux 〓 mettre en place un plan d’adressage vlan et routage 〓 upgrade des fortios 〓 analyse et comparaison les fichiers de configuration 〓 résolution des problèmes technique 〓 analyse de risque et création des modes opératoires de migration  administrateur systèmes réseaux et virtualisation  atento  intelcia     casablanca   novembre 2006  mai 2017  réseau  switch routeur firewall   cisco dell hp fortigate peplink  〓 configuration et attribution des adresses ip vlan vpn  ssl  ipsec  stp vrrp routage  statique et dynamique  nat et les acls 〓 supervision de la bande passante erreurs discards et état des ports  solarwinds  〓 l’application des mises à jour du firmware 〓 administration du coeur réseau  cisco catalyste 4507 et dell force10 c150  〓 sauvegarde et restauration des configurations 〓 paramétrage des logs  syslog  et ntp 〓 configuration de load balancing 〓 gestion des utilisateurs et des privilèges 〓 câblage brassage et étiquetage des équipement réseau 〓 implémenter les fonctionnalités d’un utm  policy ip web filter application control intrusion prevention vpn routage nat rapport alert et ha  fortigate 500d fortianalyzer  administrer une plateforme virtuelle sous vmware  vsphere 5 et 6 et view 5  〓  installation  et  mise  à  jour  des  composants  vmware    l’hyperviseur  esxi  vcenter  update  manager orchestrator vconverter composer connexion replicat et security server 〓 configuration et supervision les fonctionnalité d’un cluster vsphere  drs sdrs ha vmotion svmotion dpm evc 〓 création installation de l’os et attribution des ressources aux vms déploiement des appliance ovfova 〓 implémenter et gérer les datastores vmfs et les disques virtual vmdk   〓 administration des vswitch  standard et distribué  〓 l’installation des patches et des correctifs pour les hosts esxi et la mise à jour du vmware tools ou du vm hardware pour les vms à l’aide d’update manager 〓 l’administration en ligne de commande  esxcli esxtop…  ou vmware vsphere powercli pour des taches avancées 〓 vdi  création installation et optimisation des modelés  template  de vm selon les bons pratiques de vmware et la génération des pools 〓 la résolution des problèmes techniques et opérationnelles  gérer les sauvegardes et restaurations  backup exec veeam  〓 création des taches de sauvegarde et restauration de dossiers vm états system base de donnée 〓 la vérification de l’intégration des donnés sauvegardées avec des restaurations des tests  linux  debian centos  〓 installation et configuration des serveurs sous linux  network package et dépendances services disques lvm fichier de configuration tache planifier fichier log maj  〓 gérer des services sous linux  iptables squid syslog ntp keepalived  administrer un domaine active directory sous windows nt 2000 2003 et 2008 server  réplication dns dhcp gpo script smb wsus sccm   administration d’un serveur et des clients de messagerie  lotus domino et notes   rédaction des procédures  support niveau i ii et iii  stage  isonet    casablanca   avril 2006  avril 2006  prècablage utp cat6 et fibre optique  formation  red hat system administration i  ii  rh124  rh134   innosoft    casablanca  décembre 2011  janvier 2012  langue et culture italienne b2  società dante alighieri    casablanca  2010  2012  licence professionnelle réseaux et télécoms en administration et transmission de l'information  université parisest marnelavallée    champignysurmarne  94   2010  2011  technicien spécialisé en réseaux et systèmes informatiques   \n"
     ]
    }
   ],
   "source": [
    "for key, value in dico_cv.items():\n",
    "    print(value.cv)\n",
    "    break"
   ]
  },
  {
   "cell_type": "markdown",
   "metadata": {},
   "source": [
    "** text processing **"
   ]
  },
  {
   "cell_type": "code",
   "execution_count": 24,
   "metadata": {
    "collapsed": true
   },
   "outputs": [],
   "source": [
    "def text_treatment (text):\n",
    "    text = text.lower()\n",
    "    text = text.replace(\"\\x00\", '').replace(\"\\x01\", '').replace(\"\\x02\", '').replace(\"\\x03\", '') \\\n",
    "    .replace(\"\\x04\", '').replace(\"\\x05\", '').replace(\"\\x06\", '').replace(\"\\x07\", '').replace(\"\\x08\", '') \\\n",
    "    .replace(\"\\x0e\", '').replace(\"\\x11\", '').replace(\"\\x12\", '').replace(\"\\x10\", '').replace(\"\\x19\", '') \\\n",
    "    .replace(\"\\x1b\", '').replace(\"\\x14\", '').replace(\"\\x15\", '').replace('/', '').replace('=', '') \\\n",
    "    .replace(\"»\", \"\").replace(\"«\", \"\").replace(\"¬\", \"\").replace('`', '').replace (\" -\", \"\").replace(\"•\", \"\")\\\n",
    "    .replace(\"l'\", \"\").replace(\"l’\", \"\").replace(\"l´\", \"\").replace(\"d’\", \"\").replace(\"d'\", \"\").replace(\"d´\",\"\")\\\n",
    "    .replace(\"j’\", \"\").replace(\"j'\", \"\").replace(\"j´\",\"\")\\\n",
    "    .replace(\"”\", \"\").replace(\"~\", \"\").replace(\"§\", \"\").replace(\"¨\", \"\").replace(\"©\", \"\").replace(\"›\", \"\")\\\n",
    "    .replace(\"₋\", \"\").replace(\"→\", \"\").replace(\"⇨\", \"\").replace(\"∎\", \"\").replace(\"√\", \"\").replace(\"□\", \"\")\\\n",
    "    .replace(\"*\", \"\").replace(\"&\", \"\").replace(\"►\", \"\").replace(\"◊\", \"\").replace(\"☞\", \"\").replace(\"#\", \"\")\\\n",
    "    .replace(\"%\", \"\").replace(\"❖\", \"\").replace(\"➠\", \"\").replace(\"➢\", \"\").replace(\"\", \"\").replace(\"✓\", \"\") \\\n",
    "    .replace(\"√\", \"\").replace(\"✔\", \"\").replace(\"♦\", \"\").replace(\"◦\", \"\").replace(\"●\", \"\").replace(\"▫\", \"\")\\\n",
    "    .replace(\"▪\", \"\").replace(\"…\", \"\").replace(\"þ\", \"\").replace(\"®\", \"\").replace('', '').replace(\"...\", \"\")\\\n",
    "    .replace(\"〓\", \"\")\n",
    "    text = unidecode.unidecode(text) # remove accent\n",
    "    return text"
   ]
  },
  {
   "cell_type": "code",
   "execution_count": 25,
   "metadata": {
    "collapsed": true
   },
   "outputs": [],
   "source": [
    "#On supprime les caractères étranges et accents\n",
    "#liste_cv_treated = [text_treatment(text) for text in liste_cv_fr]\n",
    "for key, cv in dico_cv.items():\n",
    "    cv.cv = text_treatment(cv.cv)\n",
    "    dico_cv[key] = cv"
   ]
  },
  {
   "cell_type": "code",
   "execution_count": 26,
   "metadata": {},
   "outputs": [
    {
     "name": "stdout",
     "output_type": "stream",
     "text": [
      "administrateur reseaux et securite  nanterre  92   email me on indeed indeedcomr38feb844e66fc577  experience  administrateur reseaux et securite  it delivery services    paris  75    aout 2017  novembre 2017  it delivery services - administrateur reseau et securite paris mission chez atos  administration des parefeu  fortigate 5000 et 1500   piloter un projet de migration de 70 vdom  etude de existant et preparation des schemas cible  creation de la matrice de flux  mettre en place un plan adressage vlan et routage  upgrade des fortios  analyse et comparaison les fichiers de configuration  resolution des problemes technique  analyse de risque et creation des modes operatoires de migration  administrateur systemes reseaux et virtualisation  atento  intelcia     casablanca   novembre 2006  mai 2017  reseau  switch routeur firewall   cisco dell hp fortigate peplink   configuration et attribution des adresses ip vlan vpn  ssl  ipsec  stp vrrp routage  statique et dynamique  nat et les acls  supervision de la bande passante erreurs discards et etat des ports  solarwinds   application des mises a jour du firmware  administration du coeur reseau  cisco catalyste 4507 et dell force10 c150   sauvegarde et restauration des configurations  parametrage des logs  syslog  et ntp  configuration de load balancing  gestion des utilisateurs et des privileges  cablage brassage et etiquetage des equipement reseau  implementer les fonctionnalites un utm  policy ip web filter application control intrusion prevention vpn routage nat rapport alert et ha  fortigate 500d fortianalyzer  administrer une plateforme virtuelle sous vmware  vsphere 5 et 6 et view 5    installation  et  mise  a  jour  des  composants  vmware    hyperviseur  esxi  vcenter  update  manager orchestrator vconverter composer connexion replicat et security server  configuration et supervision les fonctionnalite un cluster vsphere  drs sdrs ha vmotion svmotion dpm evc  creation installation de os et attribution des ressources aux vms deploiement des appliance ovfova  implementer et gerer les datastores vmfs et les disques virtual vmdk    administration des vswitch  standard et distribue   installation des patches et des correctifs pour les hosts esxi et la mise a jour du vmware tools ou du vm hardware pour les vms a aide update manager  administration en ligne de commande  esxcli esxtop  ou vmware vsphere powercli pour des taches avancees  vdi  creation installation et optimisation des modeles  template  de vm selon les bons pratiques de vmware et la generation des pools  la resolution des problemes techniques et operationnelles  gerer les sauvegardes et restaurations  backup exec veeam   creation des taches de sauvegarde et restauration de dossiers vm etats system base de donnee  la verification de integration des donnes sauvegardees avec des restaurations des tests  linux  debian centos   installation et configuration des serveurs sous linux  network package et dependances services disques lvm fichier de configuration tache planifier fichier log maj   gerer des services sous linux  iptables squid syslog ntp keepalived  administrer un domaine active directory sous windows nt 2000 2003 et 2008 server  replication dns dhcp gpo script smb wsus sccm   administration un serveur et des clients de messagerie  lotus domino et notes   redaction des procedures  support niveau i ii et iii  stage  isonet    casablanca   avril 2006  avril 2006  precablage utp cat6 et fibre optique  formation  red hat system administration i  ii  rh124  rh134   innosoft    casablanca  decembre 2011  janvier 2012  langue et culture italienne b2  societa dante alighieri    casablanca  2010  2012  licence professionnelle reseaux et telecoms en administration et transmission de information  universite parisest marnelavallee    champignysurmarne  94   2010  2011  technicien specialise en reseaux et systemes informatiques   \n"
     ]
    }
   ],
   "source": [
    "#liste_cv_treated[0]\n",
    "for key, value in dico_cv.items():\n",
    "    print(value.cv)\n",
    "    break"
   ]
  },
  {
   "cell_type": "markdown",
   "metadata": {},
   "source": [
    "** Gestion des stop words **"
   ]
  },
  {
   "cell_type": "code",
   "execution_count": 27,
   "metadata": {},
   "outputs": [
    {
     "name": "stdout",
     "output_type": "stream",
     "text": [
      "taille stop words liste :  316\n"
     ]
    }
   ],
   "source": [
    "#generate stopwords\n",
    "stop_words_py = set(stop_words.get_stop_words('french'))\n",
    "#stopwords_nltk = set(nltk.corpus.stopwords.words('french'))\n",
    "stopwords_set_manuel = set([\"an\", \"ans\", 'les', 'moins', 'd\\'un','janvier', 'fevrier', 'février', 'mars', 'avril', \\\n",
    "                 'mai', 'juin', 'juillet', 'aout', 'août', 'septembre', 'octobre', 'novembre', 'décembre', \\\n",
    "                  'decembre', 'moins', 'mise', 'universit\\xc3\\xa9', 'université', 'universite', 'ion','sage', \\\n",
    "                  'o', 'rac', 'vers', 'via', 'p\\xc3\\xa9rim\\xc3\\xa8tre', 'périmètre','et','paris','x',\"\\x00\",\\\n",
    "                          \"\\x01\",\"\\x02\", \"\\x03\",\"\\x04\",\"\\x05\",\"\\x06\",\"\\x07\",\"\\x08\",\"\\x09\",\"\\x0e\",\"\\x0e\",\"\\x11\",\\\n",
    "                           \"\\x12\",\"\\x13\",\"\\x14\",\"\\x15\",\"\\x16\",\"\\x17\",\"\\x18\",\"\\x19\",\"transport\",\"puis\",\"lieu\",\\\n",
    "                           \"adresse\",\"entre\",'dun','chez','boulognebillancourt','bt','email','indeed','ainsi'\\\n",
    "                           'afin','autre','auprès','and', 'suivit', 'nanterre', 'indeedcomr38feb844e66fc577'])\n",
    "stop_words_main = stop_words_py | stopwords_set_manuel\n",
    "stop_words_main = list(stop_words_main)\n",
    "print(\"taille stop words liste : \", len(stop_words_main))"
   ]
  },
  {
   "cell_type": "code",
   "execution_count": 28,
   "metadata": {},
   "outputs": [
    {
     "data": {
      "text/plain": [
       "['aussi',\n",
       " 'tu',\n",
       " 'fûmes',\n",
       " 'en',\n",
       " 'qui',\n",
       " 'voit',\n",
       " 'x',\n",
       " 'ans',\n",
       " 'ion',\n",
       " 'faites',\n",
       " 'm',\n",
       " 'dun',\n",
       " 'encore',\n",
       " 'dès',\n",
       " 'me',\n",
       " 'devrait',\n",
       " 'ce',\n",
       " 'cet',\n",
       " 'elle',\n",
       " 'état',\n",
       " 'transport',\n",
       " 'auront',\n",
       " 'tous',\n",
       " 'fussiez',\n",
       " 'ont',\n",
       " 'pourquoi',\n",
       " 'on',\n",
       " 'fait',\n",
       " 'aviez',\n",
       " 'comment',\n",
       " 'universitÃ©',\n",
       " 'être',\n",
       " 'devront',\n",
       " 'mon',\n",
       " '\\t',\n",
       " 'ces',\n",
       " 'février',\n",
       " 'est',\n",
       " 'droite',\n",
       " 'leurs',\n",
       " 'ta',\n",
       " 'étais',\n",
       " 'adresse',\n",
       " '\\x19',\n",
       " 'nommée',\n",
       " 'fussent',\n",
       " 'quelles',\n",
       " 'rac',\n",
       " '\\x16',\n",
       " '\\x15',\n",
       " 'as',\n",
       " 'fevrier',\n",
       " 'font',\n",
       " 'devriez',\n",
       " 'eûmes',\n",
       " 'fusse',\n",
       " 'suivit',\n",
       " 'cela',\n",
       " 'début',\n",
       " 'aucun',\n",
       " 'nous',\n",
       " 'ses',\n",
       " 'aurez',\n",
       " 'aurions',\n",
       " 'dù',\n",
       " 'voient',\n",
       " 'indeed',\n",
       " 'sans',\n",
       " 'aient',\n",
       " 'moi',\n",
       " 'autre',\n",
       " 'serions',\n",
       " 'sont',\n",
       " 'devrions',\n",
       " 'êtes',\n",
       " 'email',\n",
       " 'décembre',\n",
       " 'car',\n",
       " 'fois',\n",
       " 'avaient',\n",
       " 'ai',\n",
       " '\\x02',\n",
       " 'l',\n",
       " 'fussions',\n",
       " 'vois',\n",
       " 'aux',\n",
       " '\\x03',\n",
       " 'suis',\n",
       " 'il',\n",
       " 'entre',\n",
       " 'même',\n",
       " 'soi',\n",
       " 'vous',\n",
       " 'force',\n",
       " 'cette',\n",
       " 'octobre',\n",
       " 'nom',\n",
       " 'tandis',\n",
       " 'eûtes',\n",
       " 'ou',\n",
       " 'vont',\n",
       " 'étaient',\n",
       " 'eusse',\n",
       " 'quand',\n",
       " 'quelle',\n",
       " 'lui',\n",
       " 'nommé',\n",
       " 'sur',\n",
       " 'eussent',\n",
       " 'ça',\n",
       " '\\x08',\n",
       " 'si',\n",
       " 'nouveau',\n",
       " 'eus',\n",
       " 'valeur',\n",
       " 'lieu',\n",
       " 'eussions',\n",
       " 'août',\n",
       " 'soient',\n",
       " 'o',\n",
       " 'serait',\n",
       " 'où',\n",
       " 'le',\n",
       " 'se',\n",
       " 'es',\n",
       " 'sois',\n",
       " 'aout',\n",
       " 'vers',\n",
       " 'avions',\n",
       " 'eût',\n",
       " 'ci',\n",
       " 'que',\n",
       " 'avant',\n",
       " 'furent',\n",
       " 'depuis',\n",
       " 'était',\n",
       " 'avoir',\n",
       " 'eurent',\n",
       " 'la',\n",
       " 'au',\n",
       " 'decembre',\n",
       " '\\x12',\n",
       " 'donc',\n",
       " 't',\n",
       " 'y',\n",
       " 'devoir',\n",
       " 'janvier',\n",
       " '\\x11',\n",
       " 'auras',\n",
       " '\\x07',\n",
       " 'avait',\n",
       " 'de',\n",
       " 'eux',\n",
       " 'très',\n",
       " 'fut',\n",
       " 'seraient',\n",
       " 'étés',\n",
       " '\\x14',\n",
       " 'and',\n",
       " '\\x04',\n",
       " 'mais',\n",
       " 'une',\n",
       " 'sien',\n",
       " 'à',\n",
       " 'parce',\n",
       " 'devrez',\n",
       " 'pour',\n",
       " 'aies',\n",
       " 'seront',\n",
       " 'seulement',\n",
       " 'novembre',\n",
       " 'universite',\n",
       " 'comme',\n",
       " 'mes',\n",
       " 'eu',\n",
       " 'là',\n",
       " 'soyez',\n",
       " 'fus',\n",
       " 'étiez',\n",
       " 'alors',\n",
       " 'dehors',\n",
       " '\\x05',\n",
       " 'plupart',\n",
       " '\\x00',\n",
       " 'étions',\n",
       " '\\x13',\n",
       " 'aie',\n",
       " 'mot',\n",
       " '\\x0e',\n",
       " 'eussiez',\n",
       " 'bt',\n",
       " 'juste',\n",
       " 'personnes',\n",
       " 'seras',\n",
       " 'chez',\n",
       " 'et',\n",
       " 'aurait',\n",
       " 'fusses',\n",
       " 'ils',\n",
       " 'serez',\n",
       " '\\x06',\n",
       " 'boulognebillancourt',\n",
       " 'ici',\n",
       " 'chaque',\n",
       " 'dedans',\n",
       " 'a',\n",
       " 'ton',\n",
       " 'nanterre',\n",
       " 'hors',\n",
       " 'puis',\n",
       " 'tout',\n",
       " 'peut',\n",
       " 'dos',\n",
       " 'haut',\n",
       " 'eue',\n",
       " 'n',\n",
       " 'du',\n",
       " 'votre',\n",
       " 'sera',\n",
       " 'avons',\n",
       " 'faire',\n",
       " 'fais',\n",
       " 'personne',\n",
       " 'toi',\n",
       " 'ma',\n",
       " 'été',\n",
       " 'je',\n",
       " 'nos',\n",
       " 'sage',\n",
       " 'sa',\n",
       " 'serai',\n",
       " 'son',\n",
       " 'moins',\n",
       " 'fût',\n",
       " '\\x18',\n",
       " 'eues',\n",
       " 'avais',\n",
       " 'ceci',\n",
       " 'ayant',\n",
       " 'ayez',\n",
       " 'doit',\n",
       " 'indeedcomr38feb844e66fc577',\n",
       " 'juillet',\n",
       " 'j',\n",
       " 'eusses',\n",
       " 'aura',\n",
       " 'ni',\n",
       " 'pas',\n",
       " 'quel',\n",
       " 'maintenant',\n",
       " 'quels',\n",
       " 'soit',\n",
       " 'mise',\n",
       " 'ne',\n",
       " 'serais',\n",
       " 'mars',\n",
       " 'vu',\n",
       " 'an',\n",
       " 'tes',\n",
       " 'dans',\n",
       " 'sous',\n",
       " 'tels',\n",
       " '\\x01',\n",
       " \"d'un\",\n",
       " 'ayons',\n",
       " 'juin',\n",
       " 'un',\n",
       " 'sujet',\n",
       " 'vos',\n",
       " 'avril',\n",
       " 'aurais',\n",
       " 'ait',\n",
       " 'avec',\n",
       " 'bon',\n",
       " 'nommés',\n",
       " 'parole',\n",
       " 'peu',\n",
       " 'seriez',\n",
       " 'sommes',\n",
       " 'mai',\n",
       " '\\x17',\n",
       " 'aurai',\n",
       " 'deux',\n",
       " 'soyons',\n",
       " 'via',\n",
       " 'avez',\n",
       " 'elles',\n",
       " 'étant',\n",
       " 'fûtes',\n",
       " 'auriez',\n",
       " 'dois',\n",
       " 'les',\n",
       " 'leur',\n",
       " 'notre',\n",
       " 'devrons',\n",
       " 'trop',\n",
       " 'septembre',\n",
       " 'des',\n",
       " 'par',\n",
       " 'qu',\n",
       " 'ceux',\n",
       " 'université',\n",
       " 'ainsiafin',\n",
       " 'serons',\n",
       " 'tellement',\n",
       " 'auprès',\n",
       " 'faisez',\n",
       " 'pÃ©rimÃ¨tre',\n",
       " 'aurons',\n",
       " 'périmètre',\n",
       " 'eut',\n",
       " 'te',\n",
       " 'nouveaux',\n",
       " 'auraient',\n",
       " 'd',\n",
       " 'paris']"
      ]
     },
     "execution_count": 28,
     "metadata": {},
     "output_type": "execute_result"
    }
   ],
   "source": [
    "stop_words_main"
   ]
  },
  {
   "cell_type": "code",
   "execution_count": 29,
   "metadata": {
    "collapsed": true
   },
   "outputs": [],
   "source": [
    "def remove_stopwords(text, stopwords_list):\n",
    "    text_temp = \" \".join(text.split())+\" \"\n",
    "    for word in stopwords_list:\n",
    "        text_temp = text_temp.replace(\" \"+word+\" \", \" \")\n",
    "    return text_temp"
   ]
  },
  {
   "cell_type": "code",
   "execution_count": 30,
   "metadata": {
    "collapsed": true
   },
   "outputs": [],
   "source": [
    "#liste_cv_no_stop = [remove_stopwords(text, stop_words_main) for text in liste_cv_treated]\n",
    "for key, cv in dico_cv.items():\n",
    "    cv.cv = remove_stopwords(cv.cv, stop_words_main)\n",
    "    dico_cv[key] = cv"
   ]
  },
  {
   "cell_type": "code",
   "execution_count": 31,
   "metadata": {},
   "outputs": [
    {
     "name": "stdout",
     "output_type": "stream",
     "text": [
      "administrateur reseaux securite 92 experience administrateur reseaux securite it delivery services 75 2017 2017 it delivery services - administrateur reseau securite mission atos administration parefeu fortigate 5000 1500 piloter projet migration 70 vdom etude existant preparation schemas cible creation matrice flux mettre place plan adressage vlan routage upgrade fortios analyse comparaison fichiers configuration resolution problemes technique analyse risque creation modes operatoires migration administrateur systemes reseaux virtualisation atento intelcia casablanca 2006 2017 reseau switch routeur firewall cisco dell hp fortigate peplink configuration attribution adresses ip vlan vpn ssl ipsec stp vrrp routage statique dynamique nat acls supervision bande passante erreurs discards etat ports solarwinds application mises jour firmware administration coeur reseau cisco catalyste 4507 dell force10 c150 sauvegarde restauration configurations parametrage logs syslog ntp configuration load balancing gestion utilisateurs privileges cablage brassage etiquetage equipement reseau implementer fonctionnalites utm policy ip web filter application control intrusion prevention vpn routage nat rapport alert ha fortigate 500d fortianalyzer administrer plateforme virtuelle vmware vsphere 5 6 view 5 installation jour composants vmware hyperviseur esxi vcenter update manager orchestrator vconverter composer connexion replicat security server configuration supervision fonctionnalite cluster vsphere drs sdrs ha vmotion svmotion dpm evc creation installation os attribution ressources vms deploiement appliance ovfova implementer gerer datastores vmfs disques virtual vmdk administration vswitch standard distribue installation patches correctifs hosts esxi jour vmware tools vm hardware vms aide update manager administration ligne commande esxcli esxtop vmware vsphere powercli taches avancees vdi creation installation optimisation modeles template vm selon bons pratiques vmware generation pools resolution problemes techniques operationnelles gerer sauvegardes restaurations backup exec veeam creation taches sauvegarde restauration dossiers vm etats system base donnee verification integration donnes sauvegardees restaurations tests linux debian centos installation configuration serveurs linux network package dependances services disques lvm fichier configuration tache planifier fichier log maj gerer services linux iptables squid syslog ntp keepalived administrer domaine active directory windows nt 2000 2003 2008 server replication dns dhcp gpo script smb wsus sccm administration serveur clients messagerie lotus domino notes redaction procedures support niveau i ii iii stage isonet casablanca 2006 2006 precablage utp cat6 fibre optique formation red hat system administration i ii rh124 rh134 innosoft casablanca 2011 2012 langue culture italienne b2 societa dante alighieri casablanca 2010 2012 licence professionnelle reseaux telecoms administration transmission information parisest marnelavallee champignysurmarne 94 2010 2011 technicien specialise reseaux systemes informatiques \n"
     ]
    }
   ],
   "source": [
    "#liste_cv_no_stop[0]\n",
    "\n",
    "for key, value in dico_cv.items():\n",
    "    print(value.cv)\n",
    "    break"
   ]
  },
  {
   "cell_type": "code",
   "execution_count": 32,
   "metadata": {
    "collapsed": true
   },
   "outputs": [],
   "source": [
    "def replace_words(text):\n",
    "    text_temp = \" \".join(text.split())+\" \"\n",
    "    text_temp = text_temp.replace(\"informatiques\", \"informatique\")\n",
    "    return text_temp"
   ]
  },
  {
   "cell_type": "code",
   "execution_count": 33,
   "metadata": {
    "collapsed": true
   },
   "outputs": [],
   "source": [
    "for key, cv in dico_cv.items():\n",
    "    cv.cv = replace_words(cv.cv)\n",
    "    dico_cv[key] = cv"
   ]
  },
  {
   "cell_type": "code",
   "execution_count": 34,
   "metadata": {
    "collapsed": true
   },
   "outputs": [],
   "source": [
    "# load nltk's SnowballStemmer as variabled 'stemmer'\n",
    "from nltk.stem.snowball import SnowballStemmer\n",
    "stemmer = SnowballStemmer(\"french\")"
   ]
  },
  {
   "cell_type": "markdown",
   "metadata": {},
   "source": [
    "** Preprocessing du text **"
   ]
  },
  {
   "cell_type": "code",
   "execution_count": 35,
   "metadata": {
    "collapsed": true
   },
   "outputs": [],
   "source": [
    "# Code du gars\n",
    "\n",
    "# here I define a tokenizer and stemmer which returns the set of stems in the text that it is passed\n",
    "\n",
    "def tokenize_and_stem(text):\n",
    "    # first tokenize by sentence, then by word to ensure that punctuation is caught as it's own token\n",
    "    tokens = [word for sent in nltk.sent_tokenize(text) for word in nltk.word_tokenize(sent)]\n",
    "    filtered_tokens = []\n",
    "    # filter out any tokens not containing letters (e.g., numeric tokens, raw punctuation)\n",
    "    for token in tokens:\n",
    "        if re.search('[a-zA-Z]', token):\n",
    "            filtered_tokens.append(token)\n",
    "    stems = [stemmer.stem(t) for t in filtered_tokens]\n",
    "    return stems\n",
    "\n",
    "\n",
    "def tokenize_only(text):\n",
    "    # first tokenize by sentence, then by word to ensure that punctuation is caught as it's own token\n",
    "    tokens = [word.lower() for sent in nltk.sent_tokenize(text) for word in nltk.word_tokenize(sent)]\n",
    "    #print(tokens)\n",
    "    filtered_tokens = []\n",
    "    # filter out any tokens not containing letters (e.g., numeric tokens, raw punctuation)\n",
    "    for token in tokens:\n",
    "        \n",
    "        if re.search('[a-zA-Z]', token):\n",
    "            filtered_tokens.append(token)\n",
    "    return filtered_tokens"
   ]
  },
  {
   "cell_type": "code",
   "execution_count": 36,
   "metadata": {
    "collapsed": true
   },
   "outputs": [],
   "source": [
    "#not super pythonic, no, not at all.\n",
    "#use extend so it's a big flat list of vocab\n",
    "totalvocab_stemmed = []\n",
    "totalvocab_tokenized = []\n",
    "\n",
    "for key, cv in dico_cv.items():\n",
    "    #cv.cv = remove_stopwords(cv.cv, stop_words_main)\n",
    "    #dico_cv[key] = cv\n",
    "    allwords_stemmed = tokenize_and_stem(cv.cv) #for each item in 'synopses', tokenize/stem\n",
    "    totalvocab_stemmed.extend(allwords_stemmed) #extend the 'totalvocab_stemmed' list\n",
    "    allwords_tokenized = tokenize_only(cv.cv)\n",
    "    totalvocab_tokenized.extend(allwords_tokenized)\n",
    "\n",
    "\n",
    "#for i in liste_cv_no_stop:\n",
    "    #allwords_stemmed = tokenize_and_stem(i) #for each item in 'synopses', tokenize/stem\n",
    "    #totalvocab_stemmed.extend(allwords_stemmed) #extend the 'totalvocab_stemmed' list\n",
    "    #allwords_tokenized = tokenize_only(i)\n",
    "    #totalvocab_tokenized.extend(allwords_tokenized)"
   ]
  },
  {
   "cell_type": "code",
   "execution_count": 37,
   "metadata": {},
   "outputs": [
    {
     "name": "stdout",
     "output_type": "stream",
     "text": [
      "there are 271681 items in vocab_frame\n"
     ]
    },
    {
     "data": {
      "text/plain": [
       "25908"
      ]
     },
     "execution_count": 37,
     "metadata": {},
     "output_type": "execute_result"
    }
   ],
   "source": [
    "vocab_frame = pd.DataFrame({'words': totalvocab_tokenized}, index = totalvocab_stemmed)\n",
    "print('there are ' + str(vocab_frame.shape[0]) + ' items in vocab_frame')\n",
    "len(vocab_frame['words'].unique())"
   ]
  },
  {
   "cell_type": "markdown",
   "metadata": {},
   "source": [
    "### 2 cas : countVectorize, et Tf-Idf"
   ]
  },
  {
   "cell_type": "code",
   "execution_count": 38,
   "metadata": {
    "collapsed": true
   },
   "outputs": [],
   "source": [
    "from sklearn.feature_extraction.text import TfidfVectorizer, CountVectorizer\n",
    "from sklearn.metrics.pairwise import cosine_similarity\n",
    "from sklearn.cluster import KMeans"
   ]
  },
  {
   "cell_type": "markdown",
   "metadata": {},
   "source": [
    "** CountVectorizer **"
   ]
  },
  {
   "cell_type": "code",
   "execution_count": 39,
   "metadata": {
    "collapsed": true
   },
   "outputs": [],
   "source": [
    "count_vec = CountVectorizer(stop_words=stop_words_main, preprocessor=text_treatment, \\\n",
    "                            tokenizer=tokenize_and_stem) #unigram only. Pourquoi ?"
   ]
  },
  {
   "cell_type": "code",
   "execution_count": 40,
   "metadata": {
    "collapsed": true
   },
   "outputs": [],
   "source": [
    "#matrix = count_vec.fit_transform(liste_cv_no_stop)\n",
    "liste_cv_no_stop = list()\n",
    "for key, cv in dico_cv.items():\n",
    "    cv.cv = remove_stopwords(cv.cv, stop_words_main)\n",
    "    liste_cv_no_stop.append(cv.cv)\n",
    "    \n",
    "matrix = count_vec.fit_transform(liste_cv_no_stop)"
   ]
  },
  {
   "cell_type": "code",
   "execution_count": 41,
   "metadata": {},
   "outputs": [
    {
     "data": {
      "text/plain": [
       "1182"
      ]
     },
     "execution_count": 41,
     "metadata": {},
     "output_type": "execute_result"
    }
   ],
   "source": [
    "len(liste_cv_no_stop)"
   ]
  },
  {
   "cell_type": "code",
   "execution_count": 42,
   "metadata": {},
   "outputs": [
    {
     "data": {
      "text/plain": [
       "(1182, 20691)"
      ]
     },
     "execution_count": 42,
     "metadata": {},
     "output_type": "execute_result"
    }
   ],
   "source": [
    "matrix.toarray().shape"
   ]
  },
  {
   "cell_type": "code",
   "execution_count": 43,
   "metadata": {},
   "outputs": [
    {
     "data": {
      "text/plain": [
       "{'administr': 707,\n",
       " 'reseau': 16359,\n",
       " 'securit': 17234,\n",
       " 'experient': 6810,\n",
       " 'it': 10686,\n",
       " 'delivery': 5073,\n",
       " 'servic': 17381,\n",
       " 'mission': 12679,\n",
       " 'atos': 1756,\n",
       " 'parefeu': 14263,\n",
       " 'fortigat': 7364,\n",
       " 'pilot': 14742,\n",
       " 'projet': 15418,\n",
       " 'migrat': 12598,\n",
       " 'vdom': 19762,\n",
       " 'etud': 6609,\n",
       " 'exist': 6786,\n",
       " 'prepar': 15189,\n",
       " 'schem': 17079,\n",
       " 'cibl': 3512,\n",
       " 'creation': 4507,\n",
       " 'matric': 12266,\n",
       " 'flux': 7237,\n",
       " 'mettr': 12514,\n",
       " 'plac': 14790,\n",
       " 'plan': 14801,\n",
       " 'adressag': 740,\n",
       " 'vlan': 20030,\n",
       " 'routag': 16675,\n",
       " 'upgrad': 19539,\n",
       " 'fortios': 7367,\n",
       " 'analys': 1188,\n",
       " 'comparaison': 3950,\n",
       " 'fichi': 7072,\n",
       " 'configur': 4082,\n",
       " 'resolu': 16380,\n",
       " 'problem': 15318,\n",
       " 'techniqu': 18719,\n",
       " 'risqu': 16565,\n",
       " 'mod': 12736,\n",
       " 'operatoir': 13874,\n",
       " 'system': 18553,\n",
       " 'virtualis': 19969,\n",
       " 'atento': 1730,\n",
       " 'intelci': 10390,\n",
       " 'casablanc': 3059,\n",
       " 'switch': 18479,\n",
       " 'routeur': 16676,\n",
       " 'firewall': 7155,\n",
       " 'cisco': 3554,\n",
       " 'del': 5050,\n",
       " 'hp': 8497,\n",
       " 'peplink': 14506,\n",
       " 'attribu': 1788,\n",
       " 'adress': 739,\n",
       " 'ip': 10559,\n",
       " 'vpn': 20105,\n",
       " 'ssl': 18130,\n",
       " 'ipsec': 10583,\n",
       " 'stp': 18268,\n",
       " 'vrrp': 20110,\n",
       " 'statiqu': 18190,\n",
       " 'dynam': 5761,\n",
       " 'nat': 13185,\n",
       " 'acl': 587,\n",
       " 'supervis': 18397,\n",
       " 'band': 2099,\n",
       " 'pass': 14368,\n",
       " 'erreur': 6440,\n",
       " 'discard': 5422,\n",
       " 'etat': 6563,\n",
       " 'port': 14989,\n",
       " 'solarwind': 17812,\n",
       " 'appliqu': 1392,\n",
       " 'mis': 12672,\n",
       " 'jour': 10943,\n",
       " 'firmwar': 7160,\n",
       " 'coeur': 3801,\n",
       " 'catalyst': 3094,\n",
       " 'force10': 7316,\n",
       " 'c150': 2836,\n",
       " 'sauvegard': 17019,\n",
       " 'restaur': 16410,\n",
       " 'parametrag': 14251,\n",
       " 'log': 11679,\n",
       " 'syslog': 18547,\n",
       " 'ntp': 13561,\n",
       " 'load': 11653,\n",
       " 'balancing': 2077,\n",
       " 'gestion': 7826,\n",
       " 'utilis': 19596,\n",
       " 'privileg': 15308,\n",
       " 'cablag': 2852,\n",
       " 'brassag': 2653,\n",
       " 'etiquetag': 6588,\n",
       " 'equip': 6397,\n",
       " 'implement': 8997,\n",
       " 'fonctionnalit': 7284,\n",
       " 'utm': 19609,\n",
       " 'policy': 14928,\n",
       " 'web': 20211,\n",
       " 'filt': 7115,\n",
       " 'control': 4239,\n",
       " 'intrus': 10521,\n",
       " 'prevent': 15253,\n",
       " 'rapport': 15864,\n",
       " 'alert': 1007,\n",
       " 'ha': 8160,\n",
       " '500d': 323,\n",
       " 'fortianalyz': 7363,\n",
       " 'plateform': 14826,\n",
       " 'virtuel': 19973,\n",
       " 'vmwar': 20043,\n",
       " 'vspher': 20122,\n",
       " 'view': 19898,\n",
       " 'install': 10333,\n",
       " 'compos': 3979,\n",
       " 'hyperviseur': 8786,\n",
       " 'esxi': 6543,\n",
       " 'vcent': 19755,\n",
       " 'updat': 19534,\n",
       " 'manag': 12025,\n",
       " 'orchestrator': 13950,\n",
       " 'vconvert': 19757,\n",
       " 'connexion': 4126,\n",
       " 'replicat': 16304,\n",
       " 'security': 17236,\n",
       " 'serv': 17364,\n",
       " 'clust': 3707,\n",
       " 'dr': 5632,\n",
       " 'sdr': 17191,\n",
       " 'vmotion': 20040,\n",
       " 'svmotion': 18457,\n",
       " 'dpm': 5622,\n",
       " 'evc': 6686,\n",
       " 'os': 14023,\n",
       " 'ressourc': 16408,\n",
       " 'vm': 20034,\n",
       " 'deploi': 5148,\n",
       " 'applianc': 1381,\n",
       " 'ovfov': 14121,\n",
       " 'ger': 7809,\n",
       " 'datastor': 4838,\n",
       " 'vmf': 20038,\n",
       " 'disqu': 5449,\n",
       " 'virtual': 19966,\n",
       " 'vmdk': 20037,\n",
       " 'vswitch': 20128,\n",
       " 'standard': 18166,\n",
       " 'distribu': 5459,\n",
       " 'patch': 14389,\n",
       " 'correct': 4343,\n",
       " 'host': 8466,\n",
       " 'tool': 19063,\n",
       " 'hardwar': 8224,\n",
       " 'aid': 909,\n",
       " 'lign': 11534,\n",
       " 'command': 3900,\n",
       " 'esxcli': 6542,\n",
       " 'esxtop': 6546,\n",
       " 'powercl': 15088,\n",
       " 'tach': 18596,\n",
       " 'avance': 1915,\n",
       " 'vdi': 19759,\n",
       " 'optimis': 13896,\n",
       " 'model': 12738,\n",
       " 'templat': 18807,\n",
       " 'selon': 17283,\n",
       " 'pratiqu': 15133,\n",
       " 'gener': 7739,\n",
       " 'pool': 14982,\n",
       " 'operationnel': 13871,\n",
       " 'backup': 2031,\n",
       " 'exec': 6763,\n",
       " 'veeam': 19773,\n",
       " 'dossi': 5585,\n",
       " 'bas': 2142,\n",
       " 'donne': 5569,\n",
       " 'verif': 19822,\n",
       " 'integr': 10373,\n",
       " 'don': 5565,\n",
       " 'sauvegarde': 17020,\n",
       " 'test': 18861,\n",
       " 'linux': 11584,\n",
       " 'debian': 4927,\n",
       " 'centos': 3225,\n",
       " 'serveur': 17373,\n",
       " 'network': 13300,\n",
       " 'packag': 14172,\n",
       " 'depend': 5144,\n",
       " 'lvm': 11836,\n",
       " 'planifi': 14805,\n",
       " 'maj': 11981,\n",
       " 'iptabl': 10591,\n",
       " 'squid': 18098,\n",
       " 'keepalived': 11086,\n",
       " 'domain': 5549,\n",
       " 'activ': 628,\n",
       " 'directory': 5414,\n",
       " 'window': 20328,\n",
       " 'nt': 13551,\n",
       " 'repliqu': 16305,\n",
       " 'dn': 5508,\n",
       " 'dhcp': 5320,\n",
       " 'gpo': 7989,\n",
       " 'script': 17156,\n",
       " 'smb': 17700,\n",
       " 'wsus': 20414,\n",
       " 'sccm': 17065,\n",
       " 'client': 3646,\n",
       " 'messager': 12461,\n",
       " 'lotus': 11753,\n",
       " 'domino': 5557,\n",
       " 'not': 13492,\n",
       " 'redact': 16062,\n",
       " 'procedur': 15325,\n",
       " 'support': 18410,\n",
       " 'niveau': 13392,\n",
       " 'i': 8791,\n",
       " 'ii': 8925,\n",
       " 'iii': 8928,\n",
       " 'stag': 18152,\n",
       " 'isonet': 10664,\n",
       " 'precablag': 15143,\n",
       " 'utp': 19610,\n",
       " 'cat6': 3086,\n",
       " 'fibr': 7067,\n",
       " 'optiqu': 13903,\n",
       " 'format': 7338,\n",
       " 'red': 16059,\n",
       " 'hat': 8252,\n",
       " 'rh124': 16520,\n",
       " 'rh134': 16521,\n",
       " 'innosoft': 10292,\n",
       " 'langu': 11305,\n",
       " 'cultur': 4655,\n",
       " 'italien': 10692,\n",
       " 'b2': 1989,\n",
       " 'societ': 17757,\n",
       " 'dant': 4771,\n",
       " 'alighier': 1027,\n",
       " 'licenc': 11510,\n",
       " 'professionnel': 15385,\n",
       " 'telecom': 18749,\n",
       " 'transmiss': 19203,\n",
       " 'inform': 10201,\n",
       " 'parisest': 14289,\n",
       " 'marnelavalle': 12169,\n",
       " 'champignysurmarn': 3337,\n",
       " 'technicien': 18709,\n",
       " 'specialis': 17985,\n",
       " 'informat': 10202,\n",
       " 'stagiair': 18156,\n",
       " 'developpeur': 5270,\n",
       " 'indeedcomr9e8fd69935425cf6': 9721,\n",
       " 'dispos': 5445,\n",
       " 'e': 5771,\n",
       " 'demenag': 5103,\n",
       " \"n'import\": 13132,\n",
       " 'aupasdecours': 1835,\n",
       " 'architechtur': 1484,\n",
       " 'productionrecet': 15359,\n",
       " 'developp': 5262,\n",
       " 'erp': 6437,\n",
       " 'php': 14675,\n",
       " 'logist': 11696,\n",
       " 'livraison': 11631,\n",
       " 'factur': 6924,\n",
       " 'outil': 14085,\n",
       " 'meti': 12500,\n",
       " 'entrepis': 6300,\n",
       " 'mer': 12442,\n",
       " 'surveil': 18435,\n",
       " 'lyce': 11842,\n",
       " 'garros': 7649,\n",
       " 'gret': 8050,\n",
       " 'gascogn': 7652,\n",
       " 'refont': 16135,\n",
       " 'pedagog': 14477,\n",
       " 'materiel': 12236,\n",
       " 'assist': 1679,\n",
       " 'sall': 16911,\n",
       " 'electricien': 6046,\n",
       " 'manpow': 12071,\n",
       " 'bat': 2162,\n",
       " 'neuf': 13304,\n",
       " 'renov': 16269,\n",
       " 'industriel': 10151,\n",
       " 'monteur': 12832,\n",
       " 'depanag': 5135,\n",
       " 'abon': 477,\n",
       " 'calbet': 2894,\n",
       " 'traiteur': 19165,\n",
       " 'extra': 6869,\n",
       " 'plat': 14824,\n",
       " 'bhivert': 2327,\n",
       " 'tarb': 18640,\n",
       " 'bep': 2279,\n",
       " 'electrotechn': 6065,\n",
       " 'professionel': 15382,\n",
       " 'clement': 3625,\n",
       " 'ader': 677,\n",
       " 'samatan': 16924,\n",
       " 'brevet': 2679,\n",
       " 'colleg': 3861,\n",
       " 'franc': 7429,\n",
       " 'victor': 19883,\n",
       " 'hugo': 8742,\n",
       " 'francfort': 7442,\n",
       " 'fr': 7416,\n",
       " 'exploit': 6827,\n",
       " 'vitrysursein': 20014,\n",
       " 'indeedcomr5f0b2e0af166f488': 9469,\n",
       " 'hn': 8406,\n",
       " 'recrut': 16046,\n",
       " 'group': 8076,\n",
       " 'technolog': 18729,\n",
       " 'aujourhui': 1828,\n",
       " 'bpceit': 2621,\n",
       " 'ensembl': 6264,\n",
       " 'mainten': 11962,\n",
       " 'condit': 4063,\n",
       " 'assur': 1696,\n",
       " 'fonction': 7280,\n",
       " 'grac': 7995,\n",
       " 'different': 5357,\n",
       " 'planning': 14811,\n",
       " 'qualit': 15710,\n",
       " 'attendu': 1773,\n",
       " 'planif': 14804,\n",
       " 'transfert': 19188,\n",
       " 'incident': 9049,\n",
       " 'superieur': 18394,\n",
       " 'demand': 5090,\n",
       " 'pos': 15018,\n",
       " 'diagnostic': 5330,\n",
       " 'pann': 14221,\n",
       " 'plus': 14875,\n",
       " 'rapid': 15858,\n",
       " 'efficac': 5961,\n",
       " 'possibl': 15030,\n",
       " 'consult': 4176,\n",
       " 'repertorient': 16299,\n",
       " 'donnent': 5572,\n",
       " 'indiqu': 10134,\n",
       " 'proced': 15324,\n",
       " 'repar': 16288,\n",
       " 'etap': 6561,\n",
       " 'anticip': 1306,\n",
       " 'activit': 633,\n",
       " 'reporting': 16317,\n",
       " 'suiv': 18356,\n",
       " 'trait': 19161,\n",
       " 'ordonnanceur': 13961,\n",
       " 'controlm': 4247,\n",
       " 'vtom': 20132,\n",
       " 'deroul': 5178,\n",
       " 'scenarios': 17072,\n",
       " 'newtest': 13332,\n",
       " 'meteos': 12489,\n",
       " 'bancair': 2096,\n",
       " 'environ': 6323,\n",
       " 'unix': 19507,\n",
       " 'as400': 1613,\n",
       " 'putty': 15617,\n",
       " 'ar': 1463,\n",
       " 'v8': 19658,\n",
       " 'xos': 20553,\n",
       " 'automator': 1879,\n",
       " 'devoteam': 5289,\n",
       " 'carrefour': 3039,\n",
       " 'evry': 6725,\n",
       " 'gca': 7687,\n",
       " 'carnet': 3034,\n",
       " 'suppress': 18416,\n",
       " 'mutat': 13080,\n",
       " 'compt': 3993,\n",
       " 'effectue': 5958,\n",
       " 'administrator': 716,\n",
       " 'certif': 3265,\n",
       " 'id': 8850,\n",
       " 'droit': 5665,\n",
       " 'acce': 512,\n",
       " 'check': 3406,\n",
       " 'orphelin': 14010,\n",
       " 'cent': 3220,\n",
       " 'itsm': 10735,\n",
       " 'concern': 4036,\n",
       " 'personnel': 14569,\n",
       " 'csif': 4621,\n",
       " 'modif': 12749,\n",
       " 'proximit': 15519,\n",
       " 'dg': 5305,\n",
       " 'neuillysursein': 13310,\n",
       " 'post': 15031,\n",
       " 'fix': 7178,\n",
       " 'portabl': 14991,\n",
       " 'lenovo': 11440,\n",
       " 'xp': 20555,\n",
       " 'seven': 17410,\n",
       " 'ticket': 18958,\n",
       " 'landesk': 11299,\n",
       " 'masteris': 12221,\n",
       " 'telephon': 18773,\n",
       " 'android': 1223,\n",
       " 'exchang': 6756,\n",
       " 'travel': 19227,\n",
       " 'symbian': 18498,\n",
       " 'imprim': 9016,\n",
       " 'xerox': 20518,\n",
       " 'ricoh': 16543,\n",
       " 'chang': 3345,\n",
       " 'consomm': 4156,\n",
       " 'reglag': 16165,\n",
       " 'diver': 5468,\n",
       " 'hsbc': 8530,\n",
       " 'defens': 5026,\n",
       " 'non': 13451,\n",
       " 'resolus': 16381,\n",
       " 'distanc': 5455,\n",
       " 'imac': 8954,\n",
       " 'autr': 1896,\n",
       " 'parc': 14257,\n",
       " 'enregistr': 6249,\n",
       " 'mouv': 12910,\n",
       " 'fiabilit': 7060,\n",
       " 'logiciel': 11686,\n",
       " 'helpdesk': 8312,\n",
       " 'pris': 15300,\n",
       " 'appel': 1370,\n",
       " 'main': 11957,\n",
       " 'nomad': 13441,\n",
       " '3g': 269,\n",
       " 'escalad': 6454,\n",
       " 'necessair': 13235,\n",
       " 'relanc': 16198,\n",
       " 'escalade': 6455,\n",
       " 'vist': 19996,\n",
       " 'siclid': 17521,\n",
       " 'outlook': 14095,\n",
       " 'pack': 14171,\n",
       " 'citrix': 3563,\n",
       " 'hotlin': 8481,\n",
       " 'osiat': 14038,\n",
       " 'edf': 5906,\n",
       " 'asnieressursein': 1641,\n",
       " 'employ': 6157,\n",
       " 'polyvalent': 14958,\n",
       " '12e': 102,\n",
       " 'indeedcomr3b0464406949e841': 9314,\n",
       " 'paul': 14409,\n",
       " 'ogec': 13730,\n",
       " 'rebour': 15978,\n",
       " 'direcion': 5405,\n",
       " 'xivo': 20532,\n",
       " 'babysiing': 2004,\n",
       " 'erasmus': 6415,\n",
       " 'oulal': 14076,\n",
       " 'gam': 7614,\n",
       " 'reorganisaion': 16282,\n",
       " 'redacion': 16060,\n",
       " 'enier': 6238,\n",
       " 'sql': 18063,\n",
       " 'adapt': 651,\n",
       " 'realisaion': 15953,\n",
       " 'graphiqu': 8022,\n",
       " 'mysql': 13118,\n",
       " 'workbench': 20378,\n",
       " 'baccalaureat': 2013,\n",
       " 'scienc': 17097,\n",
       " 'gesion': 7822,\n",
       " 'competent': 3960,\n",
       " 'c': 2831,\n",
       " 'lamp': 11290,\n",
       " 'stack': 18147,\n",
       " 'complementair': 3967,\n",
       " 'cle': 3612,\n",
       " 'virtualisaion': 19970,\n",
       " 'ubuntu': 19404,\n",
       " 'langag': 11302,\n",
       " 'html5': 8544,\n",
       " 'css3': 4629,\n",
       " 'easyphp': 5799,\n",
       " 'python': 15634,\n",
       " 'r': 15771,\n",
       " 'applicaion': 1383,\n",
       " 'maitris': 11978,\n",
       " 'oic': 13740,\n",
       " 'asterisk': 1708,\n",
       " 'nagios': 13155,\n",
       " 'ocsglpi': 13672,\n",
       " 'ssh': 18121,\n",
       " 'elabor': 6020,\n",
       " 'elaboraion': 6021,\n",
       " 'sit': 17628,\n",
       " 'voip': 20063,\n",
       " 'creaion': 4497,\n",
       " 'associaion': 1688,\n",
       " 'cadr': 2874,\n",
       " 'social': 17751,\n",
       " 'president': 15224,\n",
       " 'session': 17399,\n",
       " 'conferent': 4074,\n",
       " 'international': 10462,\n",
       " 'cergy': 3258,\n",
       " 'indeedcomr4c10887ba54cb568': 9378,\n",
       " 'actuel': 642,\n",
       " 'visapp': 19980,\n",
       " 'in': 9030,\n",
       " 'portoportugal': 15010,\n",
       " \"'projet\": 32,\n",
       " 'profession': 15380,\n",
       " 'connaiss': 4116,\n",
       " 'organis': 13972,\n",
       " 'secteur': 17222,\n",
       " 'cycl': 4710,\n",
       " 'ingenieur': 10252,\n",
       " 'ense': 6259,\n",
       " 'pontois': 14978,\n",
       " 'visag': 19979,\n",
       " '3d': 263,\n",
       " 'valid': 19693,\n",
       " 'surtp': 18433,\n",
       " 'donnees3d': 5570,\n",
       " 'gavab': 7672,\n",
       " 'frgcv2': 7499,\n",
       " 'bu3df': 2760,\n",
       " 'bosphorus': 2570,\n",
       " 'enseign': 6261,\n",
       " 'multimedi': 13020,\n",
       " 'remplac': 16240,\n",
       " 'deuxiem': 5253,\n",
       " 'anne': 1257,\n",
       " 'decis': 4966,\n",
       " 'sultan': 18365,\n",
       " 'moulay': 12899,\n",
       " 'souleiman': 17904,\n",
       " 'coencadr': 3800,\n",
       " 'fin': 7120,\n",
       " 'mast': 12214,\n",
       " 'intitul': 10507,\n",
       " 'cancer': 2952,\n",
       " 'gynecomammair': 8153,\n",
       " 'maroc': 12171,\n",
       " 'attest': 1780,\n",
       " 'object': 13624,\n",
       " 'principal': 15288,\n",
       " 'compr': 3984,\n",
       " 'reconnaiss': 16021,\n",
       " 'express': 6845,\n",
       " 'facial': 6904,\n",
       " 'devenu': 5277,\n",
       " 'actif': 618,\n",
       " 'recherch': 16001,\n",
       " 'dernier': 5176,\n",
       " 'plusieur': 14876,\n",
       " 'method': 12493,\n",
       " 'ete': 6573,\n",
       " 'developpe': 5263,\n",
       " 'imag': 8956,\n",
       " '2d': 216,\n",
       " 'cepend': 3247,\n",
       " 'presentent': 15219,\n",
       " 'certain': 3263,\n",
       " 'nombr': 13442,\n",
       " 'limit': 11548,\n",
       " 'orient': 13989,\n",
       " 'eclairag': 5844,\n",
       " 'occult': 13656,\n",
       " 'recent': 15986,\n",
       " 'capteur': 2997,\n",
       " 'acquisit': 601,\n",
       " 'deviennent': 5281,\n",
       " 'disponibl': 5444,\n",
       " 'relat': 16200,\n",
       " 'invari': 10526,\n",
       " 'illumin': 8944,\n",
       " 'restent': 16413,\n",
       " 'sensibl': 17311,\n",
       " 'variat': 19722,\n",
       " 'thes': 18926,\n",
       " 'propos': 15453,\n",
       " 'nouvel': 13510,\n",
       " 'reconnaissanceverif': 16022,\n",
       " 'abord': 478,\n",
       " 'covari': 4454,\n",
       " 'descripteur': 5189,\n",
       " 'region': 16155,\n",
       " 'propose': 15455,\n",
       " 'comprend': 3988,\n",
       " 'pretrait': 15249,\n",
       " 'align': 1028,\n",
       " 'echantillonnag': 5831,\n",
       " 'uniform': 19469,\n",
       " 'ensuit': 6271,\n",
       " 'surfac': 18427,\n",
       " 'localis': 11666,\n",
       " 'point': 14911,\n",
       " 'caracterist': 3005,\n",
       " 'autour': 1895,\n",
       " 'extrayon': 6879,\n",
       " 'appari': 1367,\n",
       " 'ains': 926,\n",
       " 'geodes': 7773,\n",
       " 'applique': 1393,\n",
       " 'compar': 3948,\n",
       " 'evalue': 6681,\n",
       " 'trois': 19283,\n",
       " 'part': 14323,\n",
       " 'noyau': 13528,\n",
       " 'contribu': 4234,\n",
       " 'gauss': 7669,\n",
       " 'transform': 19189,\n",
       " 'espac': 6500,\n",
       " 'hilbert': 8372,\n",
       " 'permet': 14545,\n",
       " 'algorithm': 1021,\n",
       " 'dej': 5045,\n",
       " 'euclidien': 6621,\n",
       " 'ie': 8883,\n",
       " 'svm': 18455,\n",
       " 'nonlineair': 13457,\n",
       " 'experiment': 6812,\n",
       " 'entrepris': 6310,\n",
       " 'bu': 2759,\n",
       " '3dfe': 265,\n",
       " 'reconnaitr': 16023,\n",
       " 'six': 17637,\n",
       " 'prototyp': 15496,\n",
       " 'motscl': 12895,\n",
       " 'identif': 8862,\n",
       " 'classif': 3601,\n",
       " 'product': 15351,\n",
       " 'scientif': 17103,\n",
       " 'revu': 16499,\n",
       " 'harir': 8232,\n",
       " 'w': 20145,\n",
       " 'tabi': 18582,\n",
       " 'h': 8154,\n",
       " 'farah': 6955,\n",
       " 'declercq': 4972,\n",
       " 'benouareth': 2276,\n",
       " 'fac': 6899,\n",
       " 'recognit': 16009,\n",
       " 'using': 19582,\n",
       " 'journal': 10946,\n",
       " 'of': 13699,\n",
       " 'pattern': 14407,\n",
       " 'letter': 11464,\n",
       " 'full': 7550,\n",
       " 'antony': 1318,\n",
       " 'indeedcomrf2449fd4cb6b528': 10059,\n",
       " 'souscritoo': 17926,\n",
       " 'evolu': 6713,\n",
       " 'seo': 17318,\n",
       " 'ecritur': 5892,\n",
       " 'chef': 3414,\n",
       " 'django': 5482,\n",
       " 'angular': 1240,\n",
       " 'jquery': 10964,\n",
       " 'bootstrap': 2559,\n",
       " 'server': 17366,\n",
       " 'nginx': 13353,\n",
       " 'postgr': 15044,\n",
       " 'gunicorn': 8135,\n",
       " 'docker': 5519,\n",
       " 'etc': 6570,\n",
       " 'other': 14063,\n",
       " 'celery': 3200,\n",
       " 'rabbitmq': 15788,\n",
       " 'phantom': 14622,\n",
       " 'selenium': 17272,\n",
       " 'startup': 18180,\n",
       " 'vyndcom': 20144,\n",
       " 'rol': 16626,\n",
       " 'concept': 4027,\n",
       " 'besoin': 2298,\n",
       " 'specif': 17992,\n",
       " 'backend': 2021,\n",
       " 'api': 1349,\n",
       " 'rest': 16409,\n",
       " 'frontend': 7510,\n",
       " 'angularj': 1243,\n",
       " 'fonctionnel': 7288,\n",
       " 'asp': 1644,\n",
       " 'net': 13272,\n",
       " 'mvc': 13090,\n",
       " 'entity': 6289,\n",
       " 'frameworck': 7425,\n",
       " 'wcf': 20202,\n",
       " 'academ': 505,\n",
       " 'myl': 13110,\n",
       " 'partag': 14324,\n",
       " 'avis': 1942,\n",
       " 'endroit': 6199,\n",
       " \"qu'on\": 15690,\n",
       " 'visit': 19991,\n",
       " 'etant': 6560,\n",
       " 'mean': 12339,\n",
       " 'pend': 14490,\n",
       " 'semain': 17285,\n",
       " 'mongodb': 12797,\n",
       " 'nosql': 13490,\n",
       " 'nodej': 13417,\n",
       " 'socket': 17764,\n",
       " 'io': 10549,\n",
       " 'referenc': 16122,\n",
       " 'naturel': 13202,\n",
       " \"'seo\": 36,\n",
       " 'cv': 4684,\n",
       " 'particip': 14336,\n",
       " 'challeng': 3327,\n",
       " 'googl': 7962,\n",
       " 'payent': 14421,\n",
       " 'wwwecolejpcom': 20439,\n",
       " 'destin': 5221,\n",
       " 'universitair': 19504,\n",
       " 'realise': 15959,\n",
       " 'aeroport': 770,\n",
       " 'repart': 16290,\n",
       " 'sprint': 18054,\n",
       " 'jav': 10817,\n",
       " 'ee': 5942,\n",
       " 'restfull': 16415,\n",
       " 'administ': 706,\n",
       " 'mobil': 12721,\n",
       " 'cross': 4583,\n",
       " 'platform': 14828,\n",
       " 'ionic': 10552,\n",
       " 'digital': 5371,\n",
       " 'vitrin': 20011,\n",
       " 'produit': 15368,\n",
       " 'apple': 1377,\n",
       " 'wwwistoretncom': 20447,\n",
       " 'front': 7507,\n",
       " 'end': 6191,\n",
       " 'mockup': 12735,\n",
       " 'psd': 15533,\n",
       " 'ux': 19619,\n",
       " 'design': 5196,\n",
       " 'prod': 15343,\n",
       " 'boostrap': 2554,\n",
       " 'htmlcss': 8547,\n",
       " 'photoshop': 14670,\n",
       " 'acm': 588,\n",
       " 'contest': 4200,\n",
       " 'programm': 15409,\n",
       " 'regional': 16156,\n",
       " 'tunis': 19336,\n",
       " 'candidat': 2955,\n",
       " 'obtent': 13648,\n",
       " '5em': 343,\n",
       " 'qualif': 15704,\n",
       " \"'arab\": 5,\n",
       " 'collegiat': 3863,\n",
       " 'programming': 15413,\n",
       " 'egypt': 5989,\n",
       " 'amelior': 1141,\n",
       " 'resoudr': 16388,\n",
       " 'complex': 3973,\n",
       " 'facilit': 6906,\n",
       " 'apprentissag': 1415,\n",
       " 'sawe9': 17034,\n",
       " 'realis': 15952,\n",
       " '3em': 268,\n",
       " 'cod': 3778,\n",
       " 'rout': 16674,\n",
       " \"s'est\": 16790,\n",
       " 'methodolog': 12497,\n",
       " 'agil': 861,\n",
       " 'scrum': 17164,\n",
       " 'desktop': 5211,\n",
       " 'fx': 7574,\n",
       " 'framework': 7426,\n",
       " 'symfony': 18501,\n",
       " 'junior': 10996,\n",
       " 'contrat': 4224,\n",
       " 'professionnalis': 15384,\n",
       " 'bac4': 2008,\n",
       " 'mcsa': 12326,\n",
       " 'microsoft': 12571,\n",
       " 'certified': 3271,\n",
       " 'solut': 17831,\n",
       " 'associat': 1689,\n",
       " 'ecol': 5859,\n",
       " 'aston': 1711,\n",
       " 'hautsdesein': 8260,\n",
       " 'indeedcomr474612a139d2c142': 9357,\n",
       " 'rqth': 16697,\n",
       " 'mair': 11970,\n",
       " 'bourgl': 2592,\n",
       " 'rein': 16184,\n",
       " 'bourglarein': 2593,\n",
       " 'pmd': 14885,\n",
       " 'glpi': 7918,\n",
       " 'lab': 11245,\n",
       " 'doubl': 5602,\n",
       " 'managerbourg': 12031,\n",
       " 'commercial': 3910,\n",
       " 'paranoi': 14253,\n",
       " 'insttut': 10364,\n",
       " 'mgr': 12535,\n",
       " 'cortbaw': 4359,\n",
       " 'liban': 11493,\n",
       " 'admaliban': 700,\n",
       " 'realisaton': 15958,\n",
       " 'solair': 17809,\n",
       " 'localisaton': 11667,\n",
       " 'positon': 15025,\n",
       " 'soleil': 17814,\n",
       " 'partr': 14362,\n",
       " 'fourn': 7393,\n",
       " 'electron': 6060,\n",
       " 'ldr': 11379,\n",
       " 'microcontroleur': 12554,\n",
       " 'fn': 7246,\n",
       " 'certfcat': 3264,\n",
       " 'appreciaton': 1405,\n",
       " 'minister': 12650,\n",
       " 'industr': 10148,\n",
       " 'libanais': 11494,\n",
       " 'geccel': 7711,\n",
       " 'gargeslesgoness': 7642,\n",
       " 'cursus': 4675,\n",
       " 'informatqu': 10222,\n",
       " 'apprentssag': 1416,\n",
       " 'efrei': 5973,\n",
       " 'villeju': 19918,\n",
       " 'certificat': 3267,\n",
       " 'capacit': 2974,\n",
       " 'municipal': 13059,\n",
       " 'adult': 746,\n",
       " 'validaton': 19695,\n",
       " 'mater': 12232,\n",
       " 'lois': 11717,\n",
       " 'physiqu': 14704,\n",
       " 'automatsm': 1880,\n",
       " 'option': 13901,\n",
       " 'associe': 1690,\n",
       " 'cnam': 3729,\n",
       " 'beyrouth': 2311,\n",
       " 'diplom': 5399,\n",
       " 'reconnu': 16025,\n",
       " 'enic': 6236,\n",
       " 'naric': 13180,\n",
       " 'institut': 10350,\n",
       " '2008r2': 165,\n",
       " '2012r2': 178,\n",
       " 'agent': 854,\n",
       " 'rel': 16196,\n",
       " 'ad': 645,\n",
       " 'iis': 8930,\n",
       " 'installtionconfigur': 10340,\n",
       " 'nf': 13347,\n",
       " 'ftp': 7537,\n",
       " 'postfix': 15041,\n",
       " 'squidguard': 18099,\n",
       " 'proxy': 15521,\n",
       " 'samb': 16925,\n",
       " 'apach': 1337,\n",
       " 'osi': 14037,\n",
       " 'ripv1': 16557,\n",
       " 'ripv2': 16559,\n",
       " 'ospf': 14046,\n",
       " 'hsrp': 8538,\n",
       " 'snooping': 17736,\n",
       " 'vtp': 20133,\n",
       " 'natpat': 13198,\n",
       " 'telnet': 18799,\n",
       " 'sshftptcpipradiusacl': 18122,\n",
       " 'cassembleur': 3076,\n",
       " 'motorol': 12894,\n",
       " '68hc11grafcet': 359,\n",
       " 'packet': 14175,\n",
       " 'tracergns3': 19129,\n",
       " 'virtualbox': 19967,\n",
       " 'indeedcomrd1b87e4d9fb6774': 9930,\n",
       " 'mobilit': 12728,\n",
       " 'axicom': 1970,\n",
       " '2e': 219,\n",
       " 'architectur': 1487,\n",
       " 'dat': 4792,\n",
       " 'loss': 11748,\n",
       " 'protect': 15481,\n",
       " 'threat': 18943,\n",
       " 'intelligent': 10395,\n",
       " 'lai': 11275,\n",
       " 'epolicy': 6370,\n",
       " 'trendmicro': 19245,\n",
       " 'deep': 5015,\n",
       " 'nsx': 13550,\n",
       " 'arkadin': 1528,\n",
       " 'sas': 16993,\n",
       " '17e': 133,\n",
       " 'bal': 2074,\n",
       " 'airwatch': 942,\n",
       " 'by': 2827,\n",
       " 'devic': 5280,\n",
       " 'antivirus': 1315,\n",
       " 'mcafe': 12311,\n",
       " 'ticketing': 18959,\n",
       " 'salesforc': 16906,\n",
       " 'consort': 4159,\n",
       " 'montreuil': 12850,\n",
       " 'impart': 8986,\n",
       " 'perimetr': 14533,\n",
       " 'corporat': 4338,\n",
       " 'personal': 14565,\n",
       " 'financ': 7126,\n",
       " 'access': 519,\n",
       " 'oracl': 13910,\n",
       " 'tcpip': 18675,\n",
       " 'blackberry': 2429,\n",
       " 'iphon': 10573,\n",
       " 'astreint': 1714,\n",
       " 'majeur': 11983,\n",
       " 'sharepoint': 17464,\n",
       " 'document': 5530,\n",
       " 'niv': 13389,\n",
       " 'anglais': 1229,\n",
       " 'centralis': 3231,\n",
       " 'moyen': 12912,\n",
       " '13utipf': 114,\n",
       " 'mail': 11952,\n",
       " 'referent': 16125,\n",
       " 'bp2i': 2618,\n",
       " 'pf': 14606,\n",
       " 'requet': 16344,\n",
       " 'context': 4202,\n",
       " '13ut': 113,\n",
       " 'strateg': 18274,\n",
       " 'terminal': 18840,\n",
       " 'general': 7740,\n",
       " 'offic': 13707,\n",
       " 'travail': 19221,\n",
       " 'mosaic': 12881,\n",
       " 'bmc': 2479,\n",
       " 'remedy': 16227,\n",
       " 'axa': 1962,\n",
       " 'technology': 18732,\n",
       " 'cornerston': 4333,\n",
       " 'nonmajeur': 13458,\n",
       " 'titr': 19002,\n",
       " 'rncp': 16591,\n",
       " 'ipi': 10574,\n",
       " 'ig': 8912,\n",
       " '10e': 64,\n",
       " 'telecommun': 18750,\n",
       " 'centr': 3226,\n",
       " 'telinf': 18797,\n",
       " '11e': 82,\n",
       " 'antill': 1308,\n",
       " 'guyan': 8144,\n",
       " 'campus': 2940,\n",
       " 'fouillol': 7383,\n",
       " 'pol': 14923,\n",
       " 'guadeloup': 8110,\n",
       " 'specialit': 17988,\n",
       " 'mathemat': 12242,\n",
       " 'faustin': 6972,\n",
       " 'fleret': 7201,\n",
       " 'morneaeau': 12870,\n",
       " 'gp': 7980,\n",
       " 'charge': 3368,\n",
       " 'marketing': 12151,\n",
       " 'collect': 3854,\n",
       " 'fond': 7292,\n",
       " 'formatric': 7347,\n",
       " 'montroug': 12852,\n",
       " 'indeedcomr27913f570250ab89': 9237,\n",
       " 'bordeau': 2562,\n",
       " 'eeudf': 5948,\n",
       " 'clichy': 3635,\n",
       " 'mailing': 11955,\n",
       " 'papi': 14234,\n",
       " 'campagn': 2938,\n",
       " 'crowdfunding': 4594,\n",
       " 'emailing': 6104,\n",
       " 'qualifi': 15705,\n",
       " 'bdd': 2200,\n",
       " 'benevol': 2269,\n",
       " 'anim': 1246,\n",
       " 'ateli': 1728,\n",
       " 'edit': 5921,\n",
       " 'jack': 10777,\n",
       " 'the': 18905,\n",
       " 'box': 2612,\n",
       " 'cachan': 2863,\n",
       " 'argumentair': 1520,\n",
       " 'utilisateursadministr': 19600,\n",
       " 'pag': 14180,\n",
       " 'vi': 19866,\n",
       " 'associ': 1687,\n",
       " 'even': 6690,\n",
       " 'vaincr': 19675,\n",
       " 'mucoviscidos': 12990,\n",
       " 'soutien': 17951,\n",
       " 'territorial': 18855,\n",
       " 'adhes': 687,\n",
       " 'assemble': 1664,\n",
       " ...}"
      ]
     },
     "execution_count": 43,
     "metadata": {},
     "output_type": "execute_result"
    }
   ],
   "source": [
    "#vérifions le vocabulaire\n",
    "count_vec.vocabulary_"
   ]
  },
  {
   "cell_type": "code",
   "execution_count": 44,
   "metadata": {},
   "outputs": [
    {
     "data": {
      "text/plain": [
       "set()"
      ]
     },
     "execution_count": 44,
     "metadata": {},
     "output_type": "execute_result"
    }
   ],
   "source": [
    "#vérifions la liste des mots ignorés\n",
    "count_vec.stop_words_"
   ]
  },
  {
   "cell_type": "code",
   "execution_count": 45,
   "metadata": {
    "collapsed": true
   },
   "outputs": [],
   "source": [
    "terms = count_vec.get_feature_names()"
   ]
  },
  {
   "cell_type": "code",
   "execution_count": 46,
   "metadata": {
    "collapsed": true
   },
   "outputs": [],
   "source": [
    "df = pd.DataFrame(matrix.toarray(), columns=count_vec.get_feature_names())\n",
    "df\n",
    "\n",
    "#affichage mot-occurrences, dans l ordre descendant, pour voir quels sont les mots les plus fréquents\n",
    "# on pourrait vouloir virer tous les mots < x. Mais si une compétence est rare, elle va disparaitre...\n",
    "# comment faire le choix des mots vraiment utiles ?? \n",
    "series = df.sum().sort_values(axis=0, ascending=False, inplace=False, kind='quicksort', na_position='last')\n"
   ]
  },
  {
   "cell_type": "code",
   "execution_count": 47,
   "metadata": {},
   "outputs": [
    {
     "data": {
      "text/plain": [
       "array([[  3.33066907e-15,   6.32474717e-01,   7.71523077e-01, ...,\n",
       "          7.73081862e-01,   9.29313861e-01,   6.14593218e-01],\n",
       "       [  6.32474717e-01,   6.66133815e-16,   8.74476030e-01, ...,\n",
       "          7.07789973e-01,   8.94159861e-01,   5.92649908e-01],\n",
       "       [  7.71523077e-01,   8.74476030e-01,  -1.77635684e-15, ...,\n",
       "          7.66563667e-01,   9.12584101e-01,   6.58133372e-01],\n",
       "       ..., \n",
       "       [  7.73081862e-01,   7.07789973e-01,   7.66563667e-01, ...,\n",
       "          6.66133815e-16,   7.12190664e-01,   6.41803416e-01],\n",
       "       [  9.29313861e-01,   8.94159861e-01,   9.12584101e-01, ...,\n",
       "          7.12190664e-01,  -8.88178420e-16,   8.20049849e-01],\n",
       "       [  6.14593218e-01,   5.92649908e-01,   6.58133372e-01, ...,\n",
       "          6.41803416e-01,   8.20049849e-01,  -1.55431223e-15]])"
      ]
     },
     "execution_count": 47,
     "metadata": {},
     "output_type": "execute_result"
    }
   ],
   "source": [
    "dist = 1 - cosine_similarity(matrix)\n",
    "dist"
   ]
  },
  {
   "cell_type": "code",
   "execution_count": 48,
   "metadata": {
    "collapsed": true
   },
   "outputs": [],
   "source": [
    "from matplotlib import pyplot as plt\n",
    "from scipy.cluster.hierarchy import dendrogram, linkage\n",
    "import numpy as np\n",
    "# https://joernhees.de/blog/2015/08/26/scipy-hierarchical-clustering-and-dendrogram-tutorial/"
   ]
  },
  {
   "cell_type": "code",
   "execution_count": 49,
   "metadata": {
    "collapsed": true
   },
   "outputs": [],
   "source": [
    "import scipy.spatial.distance as ssd\n",
    "from  scipy import cluster\n",
    "from scipy.cluster.hierarchy import cophenet\n",
    "from scipy.spatial.distance import pdist\n",
    "\n",
    "# convert the redundant n*n square matrix form into a condensed nC2 array\n",
    "dist2=np.array(dist)\n",
    "dist2[dist2 < 0] = 0\n",
    "np.fill_diagonal(dist2, 0)\n",
    "X = ssd.squareform(dist2) # distArray[{n choose 2}-{n-i choose 2} + (j-i-1)] is the distance between points i and j\n",
    "Z = cluster.hierarchy.linkage(X, method='ward', metric='euclidean')\n",
    "\n",
    "\n",
    "# Z[i] will tell us which clusters were merged in the i-th iteration, \n",
    "# let's take a look at the first two points that were merged:\n",
    "\n"
   ]
  },
  {
   "cell_type": "code",
   "execution_count": 50,
   "metadata": {},
   "outputs": [
    {
     "data": {
      "text/plain": [
       "array([  3.,  82.,   0.,   2.])"
      ]
     },
     "execution_count": 50,
     "metadata": {},
     "output_type": "execute_result"
    }
   ],
   "source": [
    "Z[0]"
   ]
  },
  {
   "cell_type": "markdown",
   "metadata": {},
   "source": [
    "We can see that ach row of the resulting array has the format [idx1, idx2, dist, sample_count].\n",
    "\n",
    "In its first iteration the linkage algorithm decided to merge the two clusters (original samples here) with indices 3 and 82, as they only had a distance of 0. This created a cluster with a total of 2 samples."
   ]
  },
  {
   "cell_type": "code",
   "execution_count": 51,
   "metadata": {},
   "outputs": [
    {
     "data": {
      "text/plain": [
       "array([  4.,  83.,   0.,   2.])"
      ]
     },
     "execution_count": 51,
     "metadata": {},
     "output_type": "execute_result"
    }
   ],
   "source": [
    "Z[1]"
   ]
  },
  {
   "cell_type": "markdown",
   "metadata": {},
   "source": [
    "In the second iteration the algorithm decided to merge the clusters (original samples here as well) with indices 4 and 83, which had a distance of 0. This again formed another cluster with a total of 2 samples.\n",
    "\n",
    "The indices of the clusters until now correspond to our samples. Let's have a look at the first 20 iterations:"
   ]
  },
  {
   "cell_type": "code",
   "execution_count": 52,
   "metadata": {},
   "outputs": [
    {
     "data": {
      "text/plain": [
       "array([[    3.,    82.,     0.,     2.],\n",
       "       [    4.,    83.,     0.,     2.],\n",
       "       [  239.,   277.,     0.,     2.],\n",
       "       [  441.,   447.,     0.,     2.],\n",
       "       [  455.,   468.,     0.,     2.],\n",
       "       [  852.,   856.,     0.,     2.],\n",
       "       [    8.,    92.,     0.,     2.],\n",
       "       [  391.,  1039.,     0.,     2.],\n",
       "       [  457.,   483.,     0.,     2.],\n",
       "       [   97.,   284.,     0.,     2.],\n",
       "       [  945.,  1191.,     0.,     3.],\n",
       "       [  452.,   489.,     0.,     2.],\n",
       "       [  167.,   212.,     0.,     2.],\n",
       "       [  237.,   276.,     0.,     2.],\n",
       "       [  611.,  1195.,     0.,     3.],\n",
       "       [  695.,   726.,     0.,     2.],\n",
       "       [  185.,   580.,     0.,     2.],\n",
       "       [  910.,   965.,     0.,     2.],\n",
       "       [  666.,   704.,     0.,     2.],\n",
       "       [  674.,   708.,     0.,     2.]])"
      ]
     },
     "execution_count": 52,
     "metadata": {},
     "output_type": "execute_result"
    }
   ],
   "source": [
    "Z[:20]"
   ]
  },
  {
   "cell_type": "code",
   "execution_count": 53,
   "metadata": {},
   "outputs": [
    {
     "ename": "NameError",
     "evalue": "name 'truc' is not defined",
     "output_type": "error",
     "traceback": [
      "\u001b[0;31m---------------------------------------------------------------------------\u001b[0m",
      "\u001b[0;31mNameError\u001b[0m                                 Traceback (most recent call last)",
      "\u001b[0;32m<ipython-input-53-d5e08e557cbb>\u001b[0m in \u001b[0;36m<module>\u001b[0;34m()\u001b[0m\n\u001b[0;32m----> 1\u001b[0;31m \u001b[0mtoto\u001b[0m\u001b[0;34m=\u001b[0m\u001b[0mcluster\u001b[0m\u001b[0;34m.\u001b[0m\u001b[0mhierarchy\u001b[0m\u001b[0;34m.\u001b[0m\u001b[0mcut_tree\u001b[0m\u001b[0;34m(\u001b[0m\u001b[0mtruc\u001b[0m\u001b[0;34m,\u001b[0m \u001b[0mn_clusters\u001b[0m\u001b[0;34m=\u001b[0m\u001b[0;36m5\u001b[0m\u001b[0;34m)\u001b[0m\u001b[0;34m\u001b[0m\u001b[0m\n\u001b[0m",
      "\u001b[0;31mNameError\u001b[0m: name 'truc' is not defined"
     ]
    }
   ],
   "source": [
    "#toto=cluster.hierarchy.cut_tree(truc, n_clusters=5)"
   ]
  },
  {
   "cell_type": "code",
   "execution_count": 54,
   "metadata": {
    "collapsed": true
   },
   "outputs": [],
   "source": [
    "#clusters=pd.DataFrame(toto, columns=['cluster'])\n",
    "#clusters['cluster'].value_counts()"
   ]
  },
  {
   "cell_type": "markdown",
   "metadata": {
    "collapsed": true
   },
   "source": [
    "### Plotting a dendrogram"
   ]
  },
  {
   "cell_type": "code",
   "execution_count": 55,
   "metadata": {},
   "outputs": [
    {
     "data": {
      "image/png": "[encoded data removed]",
      "text/plain": [
       "<matplotlib.figure.Figure at 0x1a2a006438>"
      ]
     },
     "metadata": {},
     "output_type": "display_data"
    }
   ],
   "source": [
    "# calculate full dendrogram\n",
    "plt.figure(figsize=(25, 10))\n",
    "plt.title('Hierarchical Clustering Dendrogram')\n",
    "plt.xlabel('sample index')\n",
    "plt.ylabel('distance')\n",
    "dendrogram(\n",
    "    Z,\n",
    "    leaf_rotation=90.,  # rotates the x axis labels\n",
    "    leaf_font_size=8.,  # font size for the x axis labels\n",
    ")\n",
    "plt.show()"
   ]
  },
  {
   "cell_type": "markdown",
   "metadata": {
    "collapsed": true
   },
   "source": [
    "If this is the first time you see a dendrogram, it's probably quite confusing, so let's take this apart...\n",
    "\n",
    "On the x axis you see labels. If you don't specify anything else they are the indices of your samples in X.\n",
    "On the y axis you see the distances (of the 'ward' method in our case).\n",
    "\n",
    "Starting from each label at the bottom, you can see a vertical line up to a horizontal line. The height of that horizontal line tells you about the distance at which this label was merged into another label or cluster. You can find that other cluster by following the other vertical line down again. If you don't encounter another horizontal line, it was just merged with the other label you reach, otherwise it was merged into another cluster that was formed earlier.\n",
    "\n",
    "Summarizing:\n",
    "\n",
    "horizontal lines are cluster merges\n",
    "vertical lines tell you which clusters/labels were part of merge forming that new cluster\n",
    "heights of the horizontal lines tell you about the distance that needed to be \"bridged\" to form the new cluster\n",
    "You can also see that from distances > 25 up there's a huge jump of the distance to the final merge at a distance of approx. 180. Let's have a look at the distances of the last 4 merges:"
   ]
  },
  {
   "cell_type": "code",
   "execution_count": 56,
   "metadata": {},
   "outputs": [
    {
     "data": {
      "text/plain": [
       "array([ 4.72788452,  4.96165624,  5.30310467,  6.09684856])"
      ]
     },
     "execution_count": 56,
     "metadata": {},
     "output_type": "execute_result"
    }
   ],
   "source": [
    "Z[-4:,2]\n",
    "#Z.shape\n",
    "# (1181, 4)"
   ]
  },
  {
   "cell_type": "markdown",
   "metadata": {
    "collapsed": true
   },
   "source": [
    "### Dendrogram Truncation"
   ]
  },
  {
   "cell_type": "markdown",
   "metadata": {},
   "source": [
    "As you might have noticed, the above is pretty big for 1650 samples already and you probably have way more in real scenarios, so let me spend a few seconds on highlighting some other features of the dendrogram() function:"
   ]
  },
  {
   "cell_type": "code",
   "execution_count": 57,
   "metadata": {},
   "outputs": [
    {
     "data": {
      "image/png": "[encoded data removed]",
      "text/plain": [
       "<matplotlib.figure.Figure at 0x1a33751e48>"
      ]
     },
     "metadata": {},
     "output_type": "display_data"
    }
   ],
   "source": [
    "plt.figure(figsize=(25, 10))\n",
    "plt.title('Hierarchical Clustering Dendrogram (truncated)')\n",
    "plt.xlabel('sample index')\n",
    "plt.ylabel('distance')\n",
    "dendrogram(\n",
    "    Z,\n",
    "    truncate_mode='lastp',  # show only the last p merged clusters\n",
    "    p=59,  # show only the last p merged clusters\n",
    "    show_leaf_counts=False,  # otherwise numbers in brackets are counts\n",
    "    leaf_rotation=90.,\n",
    "    leaf_font_size=12.,\n",
    "    show_contracted=True,  # to get a distribution impression in truncated branches\n",
    ")\n",
    "plt.show()"
   ]
  },
  {
   "cell_type": "markdown",
   "metadata": {},
   "source": [
    "The above shows a truncated dendrogram, which only shows the last p=59 out of our 149 merges.\n",
    "\n",
    "First thing you should notice that most labels are missing. This is because all samples were already merged into clusters before the last 12 merges.\n",
    "\n",
    "The parameter show_contracted allows us to draw black dots at the heights of those previous cluster merges, so we can still spot gaps even if we don't want to clutter the whole visualization. In our example we can see that the dots are all at pretty small distances when compared to the huge last merge at a distance of 180, telling us that we probably didn't miss much there.\n",
    "\n",
    "As it's kind of hard to keep track of the cluster sizes just by the dots, dendrogram() will by default also print the cluster sizes in brackets () if a cluster was truncated:"
   ]
  },
  {
   "cell_type": "code",
   "execution_count": 58,
   "metadata": {},
   "outputs": [
    {
     "data": {
      "image/png": "[encoded data removed]",
      "text/plain": [
       "<matplotlib.figure.Figure at 0x1a3373e2e8>"
      ]
     },
     "metadata": {},
     "output_type": "display_data"
    }
   ],
   "source": [
    "plt.figure(figsize=(25, 10))\n",
    "plt.title('Hierarchical Clustering Dendrogram (truncated)')\n",
    "plt.xlabel('sample index or (cluster size)')\n",
    "plt.ylabel('distance')\n",
    "dendrogram(\n",
    "    Z,\n",
    "    truncate_mode='lastp',  # show only the last p merged clusters\n",
    "    p=59,  # show only the last p merged clusters\n",
    "    leaf_rotation=90.,\n",
    "    leaf_font_size=12.,\n",
    "    show_contracted=True,  # to get a distribution impression in truncated branches\n",
    ")\n",
    "plt.show()"
   ]
  },
  {
   "cell_type": "markdown",
   "metadata": {},
   "source": [
    "We can now see that the right most cluster already consisted of 38 samples before the last 59 merges."
   ]
  },
  {
   "cell_type": "markdown",
   "metadata": {},
   "source": [
    "### Eye Candy"
   ]
  },
  {
   "cell_type": "markdown",
   "metadata": {},
   "source": [
    "Even though this already makes for quite a nice visualization, we can pimp it even more by also annotating the distances inside the dendrogram by using some of the useful return values dendrogram():"
   ]
  },
  {
   "cell_type": "code",
   "execution_count": 77,
   "metadata": {
    "collapsed": true
   },
   "outputs": [],
   "source": [
    "def fancy_dendrogram(*args, **kwargs):\n",
    "    max_d = kwargs.pop('max_d', None)\n",
    "    if max_d and 'color_threshold' not in kwargs:\n",
    "        kwargs['color_threshold'] = max_d\n",
    "    annotate_above = kwargs.pop('annotate_above', 0)\n",
    "\n",
    "    ddata = dendrogram(*args, **kwargs)\n",
    "\n",
    "    if not kwargs.get('no_plot', False):\n",
    "        plt.title('Hierarchical Clustering Dendrogram (truncated)')\n",
    "        plt.xlabel('sample index or (cluster size)')\n",
    "        plt.ylabel('distance')\n",
    "        for i, d, c in zip(ddata['icoord'], ddata['dcoord'], ddata['color_list']):\n",
    "            x = 0.5 * sum(i[1:3])\n",
    "            y = d[1]\n",
    "            if y > annotate_above:\n",
    "                plt.plot(x, y, 'o', c=c)\n",
    "                plt.annotate(\"%.3g\" % y, (x, y), xytext=(0, -5),\n",
    "                             textcoords='offset points',\n",
    "                             va='top', ha='center')\n",
    "        if max_d:\n",
    "            plt.axhline(y=max_d, c='k')\n",
    "    return ddata"
   ]
  },
  {
   "cell_type": "code",
   "execution_count": 128,
   "metadata": {},
   "outputs": [
    {
     "data": {
      "image/png": "[encoded data removed]",
      "text/plain": [
       "<matplotlib.figure.Figure at 0x1a336cac88>"
      ]
     },
     "metadata": {},
     "output_type": "display_data"
    }
   ],
   "source": [
    "plt.figure(figsize=(25, 10))\n",
    "fancy_dendrogram(\n",
    "    Z,\n",
    "    truncate_mode='lastp',\n",
    "    p=59,\n",
    "    leaf_rotation=90.,\n",
    "    leaf_font_size=12.,\n",
    "    show_contracted=True,\n",
    "    annotate_above=1.5, # useful in small plots so annotations don't overlap\n",
    ")\n",
    "plt.show()"
   ]
  },
  {
   "cell_type": "markdown",
   "metadata": {},
   "source": [
    "### Selecting a Distance Cut-Off aka Determining the Number of Clusters"
   ]
  },
  {
   "cell_type": "markdown",
   "metadata": {},
   "source": [
    "As explained above already, a huge jump in distance is typically what we're interested in if we want to argue for a certain number of clusters. If you have the chance to do this manually, i'd always opt for that, as it allows you to gain some insights into your data and to perform some sanity checks on the edge cases. In our case i'd probably just say that our cut-off is 50, as the jump is pretty obvious:"
   ]
  },
  {
   "cell_type": "code",
   "execution_count": 79,
   "metadata": {
    "collapsed": true
   },
   "outputs": [],
   "source": [
    "# set cut-off to 50\n",
    "max_d = 4  # max_d as in max_distance"
   ]
  },
  {
   "cell_type": "markdown",
   "metadata": {},
   "source": [
    "Let's visualize this in the dendrogram as a cut-off line:"
   ]
  },
  {
   "cell_type": "code",
   "execution_count": 80,
   "metadata": {},
   "outputs": [
    {
     "data": {
      "image/png": "[encoded data removed]",
      "text/plain": [
       "<matplotlib.figure.Figure at 0x1a334ec710>"
      ]
     },
     "metadata": {},
     "output_type": "display_data"
    }
   ],
   "source": [
    "plt.figure(figsize=(25, 10))\n",
    "fancy_dendrogram(\n",
    "    Z,\n",
    "    truncate_mode='lastp',\n",
    "    p=59,\n",
    "    leaf_rotation=90.,\n",
    "    leaf_font_size=12.,\n",
    "    show_contracted=True,\n",
    "    annotate_above=10,\n",
    "    max_d=max_d,  # plot a horizontal cut-off line\n",
    ")\n",
    "plt.show()"
   ]
  },
  {
   "cell_type": "markdown",
   "metadata": {},
   "source": [
    "### Automated Cut-Off Selection (or why you shouldn't rely on this)"
   ]
  },
  {
   "cell_type": "markdown",
   "metadata": {},
   "source": [
    "Now while this manual selection of a cut-off value offers a lot of benefits when it comes to checking for a meaningful clustering and cut-off, there are cases in which you want to automate this.\n",
    "\n",
    "The problem again is that there is no golden method to pick the number of clusters for all cases (which is why i think the investigative & backtesting manual method is preferable). Wikipedia lists a couple of common methods. Reading this, you should realize how different the approaches and how vague their descriptions are.\n",
    "\n",
    "I honestly think it's a really bad idea to just use any of those methods, unless you know the data you're working on really really well."
   ]
  },
  {
   "cell_type": "markdown",
   "metadata": {},
   "source": [
    "#### Inconsistency Method"
   ]
  },
  {
   "cell_type": "markdown",
   "metadata": {},
   "source": [
    "For example, let's have a look at the \"inconsistency\" method, which seems to be one of the defaults for the fcluster() function in scipy.\n",
    "\n",
    "The question driving the inconsistency method is \"what makes a distance jump a jump?\". It answers this by comparing each cluster merge's height h to the average avg and normalizing it by the standard deviation std formed over the depth previous levels:\n",
    "\n",
    "inconsistency=(h−avgstd) / std      \n",
    "\n",
    "The following shows a matrix of the avg, std, count, inconsistency for each of the last 100 merges of our hierarchical clustering with depth = 5"
   ]
  },
  {
   "cell_type": "code",
   "execution_count": 84,
   "metadata": {},
   "outputs": [
    {
     "data": {
      "text/plain": [
       "array([[  0.68490233,   0.27512691,  21.        ,   1.70463062],\n",
       "       [  0.65955218,   0.35217837,  12.        ,   1.40872337],\n",
       "       [  0.59158795,   0.48702269,   6.        ,   1.1751362 ],\n",
       "       [  0.77734324,   0.27642939,  12.        ,   1.40213152],\n",
       "       [  0.59337256,   0.3755846 ,  18.        ,   1.52419532],\n",
       "       [  0.53073617,   0.40299976,  25.        ,   1.60188015],\n",
       "       [  0.66061446,   0.50762199,   4.        ,   1.01648389],\n",
       "       [  0.5829913 ,   0.40245281,  12.        ,   1.48601429],\n",
       "       [  0.74475233,   0.31975609,  17.        ,   1.37151005],\n",
       "       [  0.68993401,   0.28084904,  12.        ,   1.75843108],\n",
       "       [  0.71297246,   0.22818829,  24.        ,   2.06618479],\n",
       "       [  0.5747471 ,   0.38880085,  10.        ,   1.59148585],\n",
       "       [  0.69391297,   0.4168539 ,  17.        ,   1.2154598 ],\n",
       "       [  0.65945001,   0.30778235,  25.        ,   1.76755275],\n",
       "       [  0.74838432,   0.34332736,  15.        ,   1.33070058],\n",
       "       [  0.73718247,   0.35141232,  14.        ,   1.37036248],\n",
       "       [  0.64051219,   0.25986864,  15.        ,   2.23366808],\n",
       "       [  0.66771064,   0.27330128,  13.        ,   2.04941929],\n",
       "       [  0.68254357,   0.39860128,  23.        ,   1.36997291],\n",
       "       [  0.77371419,   0.23151191,  23.        ,   1.96643297],\n",
       "       [  0.80602545,   0.31378318,  13.        ,   1.36047122],\n",
       "       [  0.85196722,   0.29441985,  16.        ,   1.30237165],\n",
       "       [  0.67275733,   0.49028018,  13.        ,   1.16512971],\n",
       "       [  0.74052058,   0.40452109,  11.        ,   1.25111283],\n",
       "       [  0.69205969,   0.28251468,  19.        ,   2.01742651],\n",
       "       [  0.62893361,   0.385039  ,  14.        ,   1.64515928],\n",
       "       [  0.73856633,   0.16343884,  19.        ,   3.21341037],\n",
       "       [  0.59202502,   0.57490531,   5.        ,   1.17637755],\n",
       "       [  0.79741729,   0.17364565,  25.        ,   2.72557486],\n",
       "       [  0.67946443,   0.33666305,  15.        ,   1.7605761 ],\n",
       "       [  0.77752782,   0.2240011 ,   9.        ,   2.21288214],\n",
       "       [  0.72792033,   0.41210841,  20.        ,   1.33576661],\n",
       "       [  0.73003633,   0.31610348,  21.        ,   1.75105082],\n",
       "       [  0.61589888,   0.38314016,  20.        ,   1.74468763],\n",
       "       [  0.79755203,   0.44909162,  15.        ,   1.12242339],\n",
       "       [  0.65160172,   0.3841477 ,  20.        ,   1.70602572],\n",
       "       [  0.6407858 ,   0.44811718,  15.        ,   1.49910814],\n",
       "       [  0.67434714,   0.49267068,  19.        ,   1.29994917],\n",
       "       [  0.79726501,   0.35245972,  24.        ,   1.47104991],\n",
       "       [  0.65446097,   0.48387043,  10.        ,   1.36851425],\n",
       "       [  0.6448779 ,   0.3580311 ,  22.        ,   1.92006697],\n",
       "       [  0.67462072,   0.24170446,  23.        ,   2.8103862 ],\n",
       "       [  0.6447683 ,   0.26958888,  22.        ,   2.63744286],\n",
       "       [  0.70583034,   0.45225894,  24.        ,   1.4574283 ],\n",
       "       [  0.65585184,   0.35285439,  21.        ,   2.01904243],\n",
       "       [  0.68612179,   0.29196342,  16.        ,   2.3674547 ],\n",
       "       [  0.76431258,   0.5553046 ,  13.        ,   1.10570402],\n",
       "       [  0.79520714,   0.25827109,  24.        ,   2.31859974],\n",
       "       [  0.71557265,   0.48699563,  16.        ,   1.39453219],\n",
       "       [  0.77043762,   0.26305659,  24.        ,   2.44216295],\n",
       "       [  0.87574532,   0.46277385,  22.        ,   1.18156749],\n",
       "       [  0.64281128,   0.43057203,  25.        ,   1.84623947],\n",
       "       [  0.6473639 ,   0.35421462,  19.        ,   2.23911128],\n",
       "       [  0.6874969 ,   0.28096608,  20.        ,   2.70888976],\n",
       "       [  0.81868784,   0.37942131,  24.        ,   1.6602764 ],\n",
       "       [  0.74049845,   0.47329852,  21.        ,   1.54344574],\n",
       "       [  0.80586271,   0.39732091,  25.        ,   1.71854924],\n",
       "       [  0.86282358,   0.38294523,  25.        ,   1.64691845],\n",
       "       [  0.74722995,   0.36516238,  17.        ,   2.09433169],\n",
       "       [  0.63536949,   0.39694091,  18.        ,   2.22119331],\n",
       "       [  0.7347388 ,   0.37104469,  21.        ,   2.14934513],\n",
       "       [  0.74792495,   0.42812575,  25.        ,   1.86754375],\n",
       "       [  0.84597216,   0.23383594,  21.        ,   3.02323943],\n",
       "       [  0.82864043,   0.3497231 ,  23.        ,   2.136127  ],\n",
       "       [  0.72444997,   0.42178193,  28.        ,   2.03100177],\n",
       "       [  0.77099197,   0.46853231,  29.        ,   1.7642773 ],\n",
       "       [  0.80997759,   0.38164023,  30.        ,   2.10318273],\n",
       "       [  0.83829444,   0.28053803,  30.        ,   2.77872791],\n",
       "       [  1.00543851,   0.3968686 ,  22.        ,   1.56649514],\n",
       "       [  0.75627669,   0.41654512,  27.        ,   2.261206  ],\n",
       "       [  0.80592477,   0.42373625,  22.        ,   2.15945709],\n",
       "       [  0.94135386,   0.43173835,  31.        ,   1.81007869],\n",
       "       [  0.77449434,   0.32143107,  28.        ,   2.97517029],\n",
       "       [  0.78139028,   0.36006913,  26.        ,   2.69717909],\n",
       "       [  0.71353881,   0.40722016,  22.        ,   2.58803107],\n",
       "       [  0.89467313,   0.36639802,  28.        ,   2.41378293],\n",
       "       [  0.81809438,   0.47989321,  30.        ,   2.00540202],\n",
       "       [  0.60903008,   0.56352918,  16.        ,   2.15192444],\n",
       "       [  1.0052254 ,   0.4110829 ,  28.        ,   2.0025361 ],\n",
       "       [  0.94946213,   0.44831968,  29.        ,   2.12128813],\n",
       "       [  0.9234758 ,   0.40746045,  30.        ,   2.69380907],\n",
       "       [  0.99905529,   0.52271925,  29.        ,   1.96013165],\n",
       "       [  1.00177658,   0.31687499,  31.        ,   3.23193096],\n",
       "       [  1.02175052,   0.37858052,  31.        ,   2.77384057],\n",
       "       [  0.99343981,   0.37920669,  28.        ,   2.94631799],\n",
       "       [  0.73178099,   0.5074838 ,  25.        ,   2.89309717],\n",
       "       [  1.19102282,   0.39822508,  31.        ,   2.57012334],\n",
       "       [  1.02097196,   0.53664177,  30.        ,   2.52468893],\n",
       "       [  0.93045466,   0.50561441,  31.        ,   2.86636587],\n",
       "       [  1.05179186,   0.46853069,  31.        ,   2.95777506],\n",
       "       [  1.24064042,   0.49418429,  31.        ,   2.83991771],\n",
       "       [  1.41893349,   0.52788939,  31.        ,   2.85783236],\n",
       "       [  1.44092308,   0.47083649,  31.        ,   3.30787906],\n",
       "       [  1.44138221,   0.71035109,  30.        ,   2.40173317],\n",
       "       [  1.19873874,   0.54543886,  31.        ,   3.70531778],\n",
       "       [  1.35445844,   0.67432667,  31.        ,   4.28323856],\n",
       "       [  1.31435081,   1.00889381,  31.        ,   3.383442  ],\n",
       "       [  1.73600742,   0.80510691,  31.        ,   4.0064851 ],\n",
       "       [  1.87458902,   1.18649019,  31.        ,   2.88962832],\n",
       "       [  2.46308659,   1.33419639,  31.        ,   2.72355855]])"
      ]
     },
     "execution_count": 84,
     "metadata": {},
     "output_type": "execute_result"
    }
   ],
   "source": [
    "from scipy.cluster.hierarchy import inconsistent\n",
    "\n",
    "depth = 5\n",
    "incons = inconsistent(Z, depth)\n",
    "incons[-100:]"
   ]
  },
  {
   "cell_type": "markdown",
   "metadata": {},
   "source": [
    "Now you might be tempted to say \"yay, let's just pick 5\" as a limit in the inconsistencies, but look at what happens if we set depth to 3 instead:"
   ]
  },
  {
   "cell_type": "code",
   "execution_count": 86,
   "metadata": {},
   "outputs": [
    {
     "data": {
      "text/plain": [
       "array([[ 0.80342527,  0.38229684,  7.        ,  0.91674   ],\n",
       "       [ 0.77537314,  0.3696839 ,  7.        ,  1.02871925],\n",
       "       [ 0.57556909,  0.54273782,  5.        ,  1.08401666],\n",
       "       [ 0.79040698,  0.37186987,  7.        ,  1.00714428],\n",
       "       [ 0.80486804,  0.39120249,  7.        ,  0.92271604],\n",
       "       [ 0.83347585,  0.39218078,  7.        ,  0.87413168],\n",
       "       [ 0.66061446,  0.50762199,  4.        ,  1.01648389],\n",
       "       [ 0.75115051,  0.38590654,  7.        ,  1.11397805],\n",
       "       [ 0.9653589 ,  0.13949354,  7.        ,  1.56238144],\n",
       "       [ 0.751843  ,  0.44945779,  5.        ,  0.96103505],\n",
       "       [ 0.82238235,  0.3828983 ,  7.        ,  0.94560171],\n",
       "       [ 0.6135588 ,  0.4687778 ,  7.        ,  1.23717322],\n",
       "       [ 0.89993799,  0.41145963,  7.        ,  0.73067716],\n",
       "       [ 0.95105678,  0.16415476,  7.        ,  1.53766346],\n",
       "       [ 0.85027415,  0.40588529,  7.        ,  0.87457243],\n",
       "       [ 0.86135524,  0.43605668,  6.        ,  0.8195941 ],\n",
       "       [ 0.80250748,  0.21387488,  7.        ,  1.95658787],\n",
       "       [ 0.81846499,  0.19853032,  7.        ,  2.06192466],\n",
       "       [ 1.03230397,  0.15626505,  7.        ,  1.25627944],\n",
       "       [ 0.99155756,  0.14862791,  7.        ,  1.59733996],\n",
       "       [ 0.87907943,  0.41230164,  7.        ,  0.85820421],\n",
       "       [ 1.03273743,  0.18413511,  7.        ,  1.10068012],\n",
       "       [ 0.74071763,  0.58668917,  6.        ,  0.85783022],\n",
       "       [ 0.86511895,  0.49751672,  5.        ,  0.76681473],\n",
       "       [ 0.96271891,  0.18470696,  7.        ,  1.62036881],\n",
       "       [ 0.76988712,  0.39935768,  7.        ,  1.23322277],\n",
       "       [ 0.86989253,  0.19563556,  7.        ,  2.0132836 ],\n",
       "       [ 0.59202502,  0.57490531,  5.        ,  1.17637755],\n",
       "       [ 0.99854103,  0.16459286,  7.        ,  1.6535375 ],\n",
       "       [ 0.80112973,  0.39751581,  7.        ,  1.18499848],\n",
       "       [ 0.86638485,  0.22000744,  6.        ,  1.84916925],\n",
       "       [ 0.94852584,  0.43432032,  7.        ,  0.7595204 ],\n",
       "       [ 1.00734171,  0.20939731,  7.        ,  1.31906128],\n",
       "       [ 0.87819566,  0.43395295,  7.        ,  0.93596115],\n",
       "       [ 0.82676883,  0.57501319,  7.        ,  0.82581434],\n",
       "       [ 0.8790272 ,  0.42398001,  7.        ,  1.00934093],\n",
       "       [ 0.86313773,  0.43834804,  7.        ,  1.02526793],\n",
       "       [ 0.81538306,  0.57027519,  7.        ,  0.8757367 ],\n",
       "       [ 0.97739989,  0.44331546,  7.        ,  0.76322843],\n",
       "       [ 0.66170967,  0.55448376,  6.        ,  1.18116151],\n",
       "       [ 0.97200166,  0.17706782,  7.        ,  2.03492608],\n",
       "       [ 0.89469206,  0.21972643,  7.        ,  2.089924  ],\n",
       "       [ 0.88518706,  0.27081562,  7.        ,  1.73773768],\n",
       "       [ 1.16628684,  0.12376945,  7.        ,  1.60523044],\n",
       "       [ 0.95583242,  0.22751727,  7.        ,  1.81281797],\n",
       "       [ 0.78536318,  0.41695353,  7.        ,  1.4197476 ],\n",
       "       [ 1.01947847,  0.57585608,  5.        ,  0.62313599],\n",
       "       [ 1.05302665,  0.1705329 ,  7.        ,  1.99965968],\n",
       "       [ 0.82128298,  0.58588158,  7.        ,  0.97873148],\n",
       "       [ 1.00091606,  0.23352237,  7.        ,  1.76406486],\n",
       "       [ 1.0691701 ,  0.49938682,  7.        ,  0.70761528],\n",
       "       [ 1.11595754,  0.17539823,  7.        ,  1.83464113],\n",
       "       [ 0.93027248,  0.24913912,  7.        ,  2.04792152],\n",
       "       [ 0.87554132,  0.32969722,  7.        ,  1.73814546],\n",
       "       [ 1.1640415 ,  0.17386198,  7.        ,  1.63687648],\n",
       "       [ 0.96721283,  0.48385401,  7.        ,  1.04121531],\n",
       "       [ 1.18777911,  0.14551299,  7.        ,  2.06785084],\n",
       "       [ 1.18337366,  0.21151069,  7.        ,  1.46625912],\n",
       "       [ 1.00046256,  0.28940435,  7.        ,  1.76755648],\n",
       "       [ 0.89051329,  0.46487766,  7.        ,  1.34774963],\n",
       "       [ 1.04127501,  0.25131283,  7.        ,  1.95360852],\n",
       "       [ 1.14871521,  0.29057829,  7.        ,  1.37227493],\n",
       "       [ 1.0718551 ,  0.26624058,  7.        ,  1.80685873],\n",
       "       [ 1.14882942,  0.23614585,  7.        ,  1.80762853],\n",
       "       [ 1.19261236,  0.26908095,  7.        ,  1.44371967],\n",
       "       [ 1.24553337,  0.24743066,  7.        ,  1.42294216],\n",
       "       [ 1.24777045,  0.21927987,  7.        ,  1.66392963],\n",
       "       [ 1.17367408,  0.25620075,  7.        ,  1.73363744],\n",
       "       [ 1.14316957,  0.53169721,  7.        ,  0.91022042],\n",
       "       [ 1.24363981,  0.2637651 ,  7.        ,  1.72324241],\n",
       "       [ 1.07592968,  0.5457869 ,  7.        ,  1.18184466],\n",
       "       [ 1.38385439,  0.1877148 ,  7.        ,  1.80582379],\n",
       "       [ 1.12481175,  0.29318458,  7.        ,  2.0669394 ],\n",
       "       [ 1.13780766,  0.34132944,  7.        ,  1.80105639],\n",
       "       [ 1.08379223,  0.36774966,  7.        ,  1.85899563],\n",
       "       [ 1.25002701,  0.3130832 ,  7.        ,  1.68981092],\n",
       "       [ 1.31941719,  0.27187076,  7.        ,  1.69586466],\n",
       "       [ 1.01649341,  0.42935227,  7.        ,  1.87540378],\n",
       "       [ 1.43436924,  0.25384928,  7.        ,  1.55235625],\n",
       "       [ 1.48148858,  0.27691009,  7.        ,  1.51308592],\n",
       "       [ 1.4331077 ,  0.3273329 ,  7.        ,  1.796302  ],\n",
       "       [ 1.53653866,  0.36069015,  7.        ,  1.35050868],\n",
       "       [ 1.46624972,  0.3391656 ,  7.        ,  1.65006396],\n",
       "       [ 1.50907191,  0.34337225,  7.        ,  1.63903928],\n",
       "       [ 1.41165209,  0.45848561,  7.        ,  1.52469608],\n",
       "       [ 1.22791743,  0.58478501,  7.        ,  1.66225792],\n",
       "       [ 1.72704665,  0.27765389,  7.        ,  1.75565253],\n",
       "       [ 1.60290275,  0.51430875,  7.        ,  1.50283801],\n",
       "       [ 1.54310803,  0.40311237,  7.        ,  2.0754077 ],\n",
       "       [ 1.57522874,  0.46817739,  7.        ,  1.841976  ],\n",
       "       [ 1.93580832,  0.37865325,  7.        ,  1.87051034],\n",
       "       [ 2.1012586 ,  0.55092135,  7.        ,  1.49984071],\n",
       "       [ 2.0791318 ,  0.52363965,  7.        ,  1.75552297],\n",
       "       [ 2.22203127,  0.78226099,  7.        ,  1.18301273],\n",
       "       [ 1.87557077,  0.68208632,  7.        ,  1.97070695],\n",
       "       [ 2.20475325,  0.95752938,  7.        ,  2.12840174],\n",
       "       [ 2.39384825,  1.52167133,  7.        ,  1.5338636 ],\n",
       "       [ 2.82989523,  1.07846769,  7.        ,  1.97665729],\n",
       "       [ 3.41493329,  1.41418877,  7.        ,  1.33516219],\n",
       "       [ 4.35072946,  1.22659375,  7.        ,  1.42355128]])"
      ]
     },
     "execution_count": 86,
     "metadata": {},
     "output_type": "execute_result"
    }
   ],
   "source": [
    "depth = 3\n",
    "incons = inconsistent(Z, depth)\n",
    "incons[-100:]"
   ]
  },
  {
   "cell_type": "markdown",
   "metadata": {},
   "source": [
    "Oups! This should make you realize that the inconsistency values heavily depend on the depth of the tree you calculate the averages over.\n",
    "\n",
    "Another problem in its calculation is that the previous d levels' heights aren't normally distributed, but expected to increase, so you can't really just treat the current level as an \"outlier\" of a normal distribution, as it's expected to be bigger."
   ]
  },
  {
   "cell_type": "markdown",
   "metadata": {},
   "source": [
    "#### Elbow Method"
   ]
  },
  {
   "cell_type": "markdown",
   "metadata": {},
   "source": [
    "Another thing you might see out there is a variant of the \"elbow method\". It tries to find the clustering step where the acceleration of distance growth is the biggest (the \"strongest elbow\" of the blue line graph below, which is the highest value of the green graph below):"
   ]
  },
  {
   "cell_type": "code",
   "execution_count": 89,
   "metadata": {},
   "outputs": [
    {
     "data": {
      "image/png": "[encoded data removed]",
      "text/plain": [
       "<matplotlib.figure.Figure at 0x1a32a18e80>"
      ]
     },
     "metadata": {},
     "output_type": "display_data"
    },
    {
     "name": "stdout",
     "output_type": "stream",
     "text": [
      "clusters: 6\n"
     ]
    }
   ],
   "source": [
    "last = Z[-100:, 2]\n",
    "last_rev = last[::-1]\n",
    "idxs = np.arange(1, len(last) + 1)\n",
    "plt.plot(idxs, last_rev)\n",
    "\n",
    "acceleration = np.diff(last, 2)  # 2nd derivative of the distances\n",
    "acceleration_rev = acceleration[::-1]\n",
    "plt.plot(idxs[:-2] + 1, acceleration_rev)\n",
    "plt.show()\n",
    "k = acceleration_rev.argmax() + 2  # if idx 0 is the max of this we want 2 clusters\n",
    "print (\"clusters:\", k)"
   ]
  },
  {
   "cell_type": "markdown",
   "metadata": {},
   "source": [
    "While this works nicely in our simplistic example (the green line takes its maximum for k=2), it's pretty flawed as well.\n",
    "\n",
    "One issue of this method has to do with the way an \"elbow\" is defined: you need at least a right and a left point, which implies that this method will never be able to tell you that all your data is in one single cluster only.\n",
    "\n",
    "Another problem with this variant lies in the np.diff(Z[:, 2], 2) though. The order of the distances in Z[:, 2] isn't properly reflecting the order of merges within one branch of the tree. In other words: there is no guarantee that the distance of Z[i] is contained in the branch of Z[i+1]. By simply computing the np.diff(Z[:, 2], 2) we assume that this doesn't matter and just compare distance jumps from different branches of our merge tree.\n",
    "\n"
   ]
  },
  {
   "cell_type": "markdown",
   "metadata": {},
   "source": [
    "let's have a look at the dendrogram again and how you can use it to spot the problem:"
   ]
  },
  {
   "cell_type": "markdown",
   "metadata": {},
   "source": [
    "### Retrieve the Clusters"
   ]
  },
  {
   "cell_type": "markdown",
   "metadata": {},
   "source": [
    "Now, let's finally have a look at how to retrieve the clusters, for different ways of determining k. We can use the fcluster function."
   ]
  },
  {
   "cell_type": "markdown",
   "metadata": {},
   "source": [
    "** Knowing max_d: **"
   ]
  },
  {
   "cell_type": "markdown",
   "metadata": {},
   "source": [
    "Let's say we determined the max distance with help of a dendrogram, then we can do the following to get the cluster id for each of our samples:"
   ]
  },
  {
   "cell_type": "code",
   "execution_count": 97,
   "metadata": {},
   "outputs": [
    {
     "data": {
      "text/plain": [
       "array([6, 6, 6, ..., 1, 1, 6], dtype=int32)"
      ]
     },
     "execution_count": 97,
     "metadata": {},
     "output_type": "execute_result"
    }
   ],
   "source": [
    "from scipy.cluster.hierarchy import fcluster\n",
    "max_d = 4\n",
    "clusters = fcluster(Z, max_d, criterion='distance')\n",
    "clusters"
   ]
  },
  {
   "cell_type": "markdown",
   "metadata": {},
   "source": [
    "** Knowing k: **"
   ]
  },
  {
   "cell_type": "markdown",
   "metadata": {},
   "source": [
    "Another way starting from the dendrogram is to say \"i can see i have k=2\" clusters. You can then use:"
   ]
  },
  {
   "cell_type": "code",
   "execution_count": 103,
   "metadata": {
    "collapsed": true
   },
   "outputs": [],
   "source": [
    "k=6\n",
    "fcluster(Z, k, criterion='maxclust')"
   ]
  },
  {
   "cell_type": "markdown",
   "metadata": {},
   "source": [
    "** Using the Inconsistency Method (default): **"
   ]
  },
  {
   "cell_type": "markdown",
   "metadata": {},
   "source": [
    "If you're really sure you want to use the inconsistency method to determine the number of clusters in your dataset, you can use the default criterion of fcluster() and hope you picked the correct values:"
   ]
  },
  {
   "cell_type": "code",
   "execution_count": 123,
   "metadata": {
    "collapsed": true
   },
   "outputs": [],
   "source": [
    "fcluster(Z, 8, depth=10)"
   ]
  },
  {
   "cell_type": "code",
   "execution_count": null,
   "metadata": {
    "collapsed": true
   },
   "outputs": [],
   "source": []
  },
  {
   "cell_type": "code",
   "execution_count": null,
   "metadata": {
    "collapsed": true
   },
   "outputs": [],
   "source": []
  },
  {
   "cell_type": "code",
   "execution_count": null,
   "metadata": {
    "collapsed": true
   },
   "outputs": [],
   "source": []
  },
  {
   "cell_type": "code",
   "execution_count": null,
   "metadata": {
    "collapsed": true
   },
   "outputs": [],
   "source": []
  },
  {
   "cell_type": "code",
   "execution_count": null,
   "metadata": {
    "collapsed": true
   },
   "outputs": [],
   "source": []
  },
  {
   "cell_type": "code",
   "execution_count": null,
   "metadata": {
    "collapsed": true
   },
   "outputs": [],
   "source": []
  },
  {
   "cell_type": "code",
   "execution_count": null,
   "metadata": {
    "collapsed": true
   },
   "outputs": [],
   "source": []
  },
  {
   "cell_type": "code",
   "execution_count": null,
   "metadata": {
    "collapsed": true
   },
   "outputs": [],
   "source": []
  },
  {
   "cell_type": "code",
   "execution_count": null,
   "metadata": {
    "collapsed": true
   },
   "outputs": [],
   "source": []
  },
  {
   "cell_type": "code",
   "execution_count": null,
   "metadata": {
    "collapsed": true
   },
   "outputs": [],
   "source": []
  },
  {
   "cell_type": "code",
   "execution_count": null,
   "metadata": {
    "collapsed": true
   },
   "outputs": [],
   "source": []
  },
  {
   "cell_type": "code",
   "execution_count": null,
   "metadata": {
    "collapsed": true
   },
   "outputs": [],
   "source": []
  },
  {
   "cell_type": "markdown",
   "metadata": {},
   "source": [
    "## Latent Dirichlet Allocation"
   ]
  },
  {
   "cell_type": "code",
   "execution_count": 70,
   "metadata": {
    "collapsed": true
   },
   "outputs": [],
   "source": [
    "#strip any proper names from a text...unfortunately right now this is yanking the first word from a sentence too.\n",
    "import string\n",
    "def strip_proppers(text):\n",
    "    # first tokenize by sentence, then by word to ensure that punctuation is caught as it's own token\n",
    "    tokens = [word for sent in nltk.sent_tokenize(text) for word in nltk.word_tokenize(sent) if word.islower()]\n",
    "    return \"\".join([\" \"+i if not i.startswith(\"'\") and i not in string.punctuation else i for i in tokens]).strip()\n"
   ]
  },
  {
   "cell_type": "code",
   "execution_count": 71,
   "metadata": {
    "collapsed": true
   },
   "outputs": [],
   "source": [
    "#strip any proper nouns (NNP) or plural proper nouns (NNPS) from a text\n",
    "from nltk.tag import pos_tag\n",
    "\n",
    "def strip_proppers_POS(text):\n",
    "    tagged = pos_tag(text.split()) #use NLTK's part of speech tagger\n",
    "    non_propernouns = [word for word,pos in tagged if pos != 'NNP' and pos != 'NNPS']\n",
    "    return non_propernouns"
   ]
  },
  {
   "cell_type": "code",
   "execution_count": 72,
   "metadata": {
    "collapsed": true
   },
   "outputs": [],
   "source": [
    "from gensim import corpora, models, similarities \n",
    "# pip install gensim\n",
    "#remove proper names\n",
    "#%time preprocess = [strip_proppers(doc) for doc in synopses]\n",
    "for key, cv in dico_cv.items():\n",
    "    cv.cv = strip_proppers(cv.cv)\n",
    "    dico_cv[key] = cv\n",
    "\n",
    "#tokenize\n",
    "texts = list()\n",
    "#%time tokenized_text = [tokenize_and_stem(text) for text in preprocess]\n",
    "for key, cv in dico_cv.items():\n",
    "    cv.cv = tokenize_and_stem(cv.cv)\n",
    "    dico_cv[key] = cv\n",
    "    texts.append(cv.cv)\n",
    "\n",
    "#remove stop words\n",
    "#%time texts = [[word for word in text if word not in stopwords] for text in tokenized_text]\n"
   ]
  },
  {
   "cell_type": "code",
   "execution_count": 73,
   "metadata": {
    "collapsed": true
   },
   "outputs": [],
   "source": [
    "#create a Gensim dictionary from the texts\n",
    "dictionary = corpora.Dictionary(texts)\n",
    "\n",
    "#remove extremes (similar to the min/max df step used when creating the tf-idf matrix)\n",
    "dictionary.filter_extremes(no_below=1, no_above=0.8)\n",
    "\n",
    "#convert the dictionary to a bag of words corpus for reference\n",
    "corpus = [dictionary.doc2bow(text) for text in texts]"
   ]
  },
  {
   "cell_type": "code",
   "execution_count": 74,
   "metadata": {},
   "outputs": [
    {
     "name": "stdout",
     "output_type": "stream",
     "text": [
      "CPU times: user 13min 52s, sys: 5.27 s, total: 13min 58s\n",
      "Wall time: 8min 58s\n"
     ]
    }
   ],
   "source": [
    "%time lda = models.LdaModel(corpus, num_topics=5, \\\n",
    "                            id2word=dictionary, \\\n",
    "                            update_every=5, \\\n",
    "                            chunksize=10000, \\\n",
    "                            passes=100)"
   ]
  },
  {
   "cell_type": "code",
   "execution_count": 75,
   "metadata": {},
   "outputs": [
    {
     "data": {
      "text/plain": [
       "[(0,\n",
       "  '0.021*\"reseau\" + 0.018*\"informat\" + 0.016*\"administr\" + 0.014*\"system\" + 0.010*\"serveur\" + 0.009*\"technicien\" + 0.008*\"install\" + 0.007*\"gestion\" + 0.007*\"window\" + 0.005*\"configur\"'),\n",
       " (1,\n",
       "  '0.020*\"gestion\" + 0.013*\"projet\" + 0.011*\"suiv\" + 0.011*\"manag\" + 0.010*\"client\" + 0.009*\"commercial\" + 0.007*\"respons\" + 0.007*\"plac\" + 0.007*\"recrut\" + 0.006*\"developp\"'),\n",
       " (2,\n",
       "  '0.025*\"projet\" + 0.017*\"gestion\" + 0.013*\"oracl\" + 0.013*\"techniqu\" + 0.011*\"appliqu\" + 0.011*\"bas\" + 0.010*\"donne\" + 0.009*\"informat\" + 0.009*\"plac\" + 0.009*\"chef\"'),\n",
       " (3,\n",
       "  '0.017*\"dat\" + 0.014*\"donne\" + 0.012*\"developp\" + 0.012*\"web\" + 0.011*\"informat\" + 0.009*\"developpeur\" + 0.008*\"analys\" + 0.007*\"competent\" + 0.007*\"c\" + 0.007*\"projet\"'),\n",
       " (4,\n",
       "  '0.010*\"marketing\" + 0.009*\"analys\" + 0.008*\"etud\" + 0.006*\"client\" + 0.006*\"strateg\" + 0.006*\"business\" + 0.006*\"realis\" + 0.005*\"commun\" + 0.005*\"developp\" + 0.005*\"produit\"')]"
      ]
     },
     "execution_count": 75,
     "metadata": {},
     "output_type": "execute_result"
    }
   ],
   "source": [
    "lda.show_topics()"
   ]
  },
  {
   "cell_type": "code",
   "execution_count": 76,
   "metadata": {},
   "outputs": [
    {
     "ename": "ValueError",
     "evalue": "setting an array element with a sequence",
     "output_type": "error",
     "traceback": [
      "\u001b[0;31m---------------------------------------------------------------------------\u001b[0m",
      "\u001b[0;31mValueError\u001b[0m                                Traceback (most recent call last)",
      "\u001b[0;32m<ipython-input-76-c9f79ff99053>\u001b[0m in \u001b[0;36m<module>\u001b[0;34m()\u001b[0m\n\u001b[1;32m      1\u001b[0m \u001b[0mtopics_matrix\u001b[0m \u001b[0;34m=\u001b[0m \u001b[0mlda\u001b[0m\u001b[0;34m.\u001b[0m\u001b[0mshow_topics\u001b[0m\u001b[0;34m(\u001b[0m\u001b[0mformatted\u001b[0m\u001b[0;34m=\u001b[0m\u001b[0;32mFalse\u001b[0m\u001b[0;34m,\u001b[0m \u001b[0mnum_words\u001b[0m\u001b[0;34m=\u001b[0m\u001b[0;36m20\u001b[0m\u001b[0;34m)\u001b[0m\u001b[0;34m\u001b[0m\u001b[0m\n\u001b[0;32m----> 2\u001b[0;31m \u001b[0mtopics_matrix\u001b[0m \u001b[0;34m=\u001b[0m \u001b[0mnp\u001b[0m\u001b[0;34m.\u001b[0m\u001b[0marray\u001b[0m\u001b[0;34m(\u001b[0m\u001b[0mtopics_matrix\u001b[0m\u001b[0;34m)\u001b[0m\u001b[0;34m\u001b[0m\u001b[0m\n\u001b[0m\u001b[1;32m      3\u001b[0m \u001b[0;34m\u001b[0m\u001b[0m\n\u001b[1;32m      4\u001b[0m \u001b[0mtopic_words\u001b[0m \u001b[0;34m=\u001b[0m \u001b[0mtopics_matrix\u001b[0m\u001b[0;34m[\u001b[0m\u001b[0;34m:\u001b[0m\u001b[0;34m,\u001b[0m\u001b[0;34m:\u001b[0m\u001b[0;34m,\u001b[0m\u001b[0;36m1\u001b[0m\u001b[0;34m]\u001b[0m\u001b[0;34m\u001b[0m\u001b[0m\n\u001b[1;32m      5\u001b[0m \u001b[0;32mfor\u001b[0m \u001b[0mi\u001b[0m \u001b[0;32min\u001b[0m \u001b[0mtopic_words\u001b[0m\u001b[0;34m:\u001b[0m\u001b[0;34m\u001b[0m\u001b[0m\n",
      "\u001b[0;31mValueError\u001b[0m: setting an array element with a sequence"
     ]
    }
   ],
   "source": [
    "topics_matrix = lda.show_topics(formatted=False, num_words=20)\n",
    "topics_matrix = np.array(topics_matrix)\n",
    "\n",
    "topic_words = topics_matrix[:,:,1]\n",
    "for i in topic_words:\n",
    "    print([str(word) for word in i])\n",
    "    print()"
   ]
  },
  {
   "cell_type": "code",
   "execution_count": 77,
   "metadata": {},
   "outputs": [
    {
     "data": {
      "text/plain": [
       "[(0,\n",
       "  [('reseau', 0.021426933),\n",
       "   ('informat', 0.018453222),\n",
       "   ('administr', 0.01635587),\n",
       "   ('system', 0.014026303),\n",
       "   ('serveur', 0.0096392483),\n",
       "   ('technicien', 0.0088342158),\n",
       "   ('install', 0.0078202644),\n",
       "   ('gestion', 0.0074237171),\n",
       "   ('window', 0.0073676538),\n",
       "   ('configur', 0.0053341403),\n",
       "   ('utilis', 0.00480441),\n",
       "   ('securit', 0.00473443),\n",
       "   ('creation', 0.0047256551),\n",
       "   ('plac', 0.0046922942),\n",
       "   ('mainten', 0.0046621147),\n",
       "   ('servic', 0.00444311),\n",
       "   ('logiciel', 0.0040525608),\n",
       "   ('materiel', 0.0038301512),\n",
       "   ('manag', 0.0037258859),\n",
       "   ('competent', 0.0037068918)]),\n",
       " (1,\n",
       "  [('gestion', 0.019980542),\n",
       "   ('projet', 0.012682618),\n",
       "   ('suiv', 0.01097815),\n",
       "   ('manag', 0.010571774),\n",
       "   ('client', 0.010017592),\n",
       "   ('commercial', 0.0085621728),\n",
       "   ('respons', 0.0068115816),\n",
       "   ('plac', 0.0066540674),\n",
       "   ('recrut', 0.0065894458),\n",
       "   ('developp', 0.006142037),\n",
       "   ('equip', 0.0060403594),\n",
       "   ('servic', 0.0058706095),\n",
       "   ('business', 0.00586223),\n",
       "   ('group', 0.005737355),\n",
       "   ('analys', 0.0056614298),\n",
       "   ('franc', 0.0055272868),\n",
       "   ('marketing', 0.0051419474),\n",
       "   ('direct', 0.005060331),\n",
       "   ('chef', 0.0050288807),\n",
       "   ('compt', 0.004822358)]),\n",
       " (2,\n",
       "  [('projet', 0.024876144),\n",
       "   ('gestion', 0.016919218),\n",
       "   ('oracl', 0.013179463),\n",
       "   ('techniqu', 0.012952279),\n",
       "   ('appliqu', 0.011271439),\n",
       "   ('bas', 0.010719525),\n",
       "   ('donne', 0.0096919024),\n",
       "   ('informat', 0.008938537),\n",
       "   ('plac', 0.0087074395),\n",
       "   ('chef', 0.0085941358),\n",
       "   ('product', 0.0082091792),\n",
       "   ('equip', 0.0079551982),\n",
       "   ('environ', 0.0078021581),\n",
       "   ('developp', 0.0076656453),\n",
       "   ('system', 0.0074379239),\n",
       "   ('suiv', 0.0072629754),\n",
       "   ('support', 0.0068089669),\n",
       "   ('utilis', 0.0065039387),\n",
       "   ('administr', 0.0061785751),\n",
       "   ('fonctionnel', 0.0057725511)]),\n",
       " (3,\n",
       "  [('dat', 0.016759079),\n",
       "   ('donne', 0.01405536),\n",
       "   ('developp', 0.011797168),\n",
       "   ('web', 0.011531038),\n",
       "   ('informat', 0.010629438),\n",
       "   ('developpeur', 0.0085053584),\n",
       "   ('analys', 0.0077090291),\n",
       "   ('competent', 0.0074402895),\n",
       "   ('c', 0.0071864319),\n",
       "   ('projet', 0.0068135774),\n",
       "   ('ingenieur', 0.0063081523),\n",
       "   ('bas', 0.0062412419),\n",
       "   ('jav', 0.0062315469),\n",
       "   ('sql', 0.0059494055),\n",
       "   ('stag', 0.0058185752),\n",
       "   ('scientist', 0.0057746409),\n",
       "   ('inform', 0.0056994702),\n",
       "   ('statist', 0.0052798172),\n",
       "   ('php', 0.0050592758),\n",
       "   ('gestion', 0.005040009)]),\n",
       " (4,\n",
       "  [('marketing', 0.010201531),\n",
       "   ('analys', 0.0085373838),\n",
       "   ('etud', 0.0077168094),\n",
       "   ('client', 0.0062509519),\n",
       "   ('strateg', 0.0060247411),\n",
       "   ('business', 0.0058292979),\n",
       "   ('realis', 0.0055179764),\n",
       "   ('commun', 0.0049752034),\n",
       "   ('developp', 0.0049483301),\n",
       "   ('produit', 0.0048250677),\n",
       "   ('inform', 0.0047033601),\n",
       "   ('suiv', 0.004445618),\n",
       "   ('analyst', 0.0042299447),\n",
       "   ('projet', 0.004189657),\n",
       "   ('charg', 0.0041316054),\n",
       "   ('gestion', 0.0039893207),\n",
       "   ('manag', 0.0039535183),\n",
       "   ('conseil', 0.0039360342),\n",
       "   ('entrepris', 0.0038153664),\n",
       "   ('digital', 0.0037696133)])]"
      ]
     },
     "execution_count": 77,
     "metadata": {},
     "output_type": "execute_result"
    }
   ],
   "source": [
    "topics_matrix"
   ]
  },
  {
   "cell_type": "code",
   "execution_count": null,
   "metadata": {
    "collapsed": true
   },
   "outputs": [],
   "source": []
  },
  {
   "cell_type": "markdown",
   "metadata": {},
   "source": [
    "** TF-IDF **"
   ]
  },
  {
   "cell_type": "code",
   "execution_count": null,
   "metadata": {
    "collapsed": true
   },
   "outputs": [],
   "source": [
    "tfidf_vectorizer = TfidfVectorizer(preprocessor=text_treatment,tokenizer=tokenize_and_stem,stop_words=stop_words_main, \\\n",
    "                       max_df=1.0, \\\n",
    "                                #   min_df=0.2, \\\n",
    "                                   ngram_range=(1,3))\n",
    "\n",
    "#min_df : float in range [0.0, 1.0] or int, default=1\n",
    "#When building the vocabulary ignore terms that have a document frequency strictly lower than the given threshold. This value is also called cut-off in the literature. If float, the parameter represents a proportion of documents, \n",
    "#integer absolute counts. This parameter is ignored if vocabulary is not None.\n",
    "\n",
    "\n",
    "%time tfidf_matrix = tfidf_vectorizer.fit_transform(liste_cv_no_stop) #fit the vectorizer to text\n",
    "\n",
    "\n",
    "print(tfidf_matrix.shape)"
   ]
  },
  {
   "cell_type": "code",
   "execution_count": null,
   "metadata": {
    "collapsed": true
   },
   "outputs": [],
   "source": [
    "terms = tfidf_vectorizer.get_feature_names()"
   ]
  },
  {
   "cell_type": "code",
   "execution_count": null,
   "metadata": {
    "collapsed": true
   },
   "outputs": [],
   "source": [
    "dist = 1 - cosine_similarity(tfidf_matrix)"
   ]
  },
  {
   "cell_type": "markdown",
   "metadata": {},
   "source": [
    "K-means clustering"
   ]
  },
  {
   "cell_type": "code",
   "execution_count": null,
   "metadata": {
    "collapsed": true
   },
   "outputs": [],
   "source": [
    "from sklearn.cluster import KMeans\n",
    "\n",
    "num_clusters = 5\n",
    "\n",
    "km = KMeans(n_clusters=num_clusters, n_jobs=-1)\n",
    "\n",
    "%time km.fit(tfidf_matrix)\n",
    "\n",
    "clusters = km.labels_.tolist()"
   ]
  },
  {
   "cell_type": "code",
   "execution_count": null,
   "metadata": {
    "collapsed": true
   },
   "outputs": [],
   "source": [
    "# Here, I create a dictionary of titles, cv body, the cluster assignment\n",
    "cv_titles = [cv.title for cv in dico_cv.values()]\n",
    "cv_bodies = [cv.cv for cv in dico_cv.values()]\n",
    "#cv_titles = [cv.title for cv in dico_cv.values()]\n",
    "\n",
    "cvs = { 'title': cv_titles, 'cv': cv_bodies, 'cluster': clusters }\n",
    "#cvs = { 'title': cv_titles,  'cluster': clusters }"
   ]
  },
  {
   "cell_type": "code",
   "execution_count": null,
   "metadata": {
    "collapsed": true
   },
   "outputs": [],
   "source": [
    "print(len(cv_titles))\n",
    "print(len(cv_bodies))\n",
    "print(len(clusters))\n",
    "#clusters"
   ]
  },
  {
   "cell_type": "code",
   "execution_count": null,
   "metadata": {
    "collapsed": true
   },
   "outputs": [],
   "source": [
    "frame = pd.DataFrame(cvs, index = [clusters] , columns = ['title', 'cluster'])"
   ]
  },
  {
   "cell_type": "code",
   "execution_count": null,
   "metadata": {
    "collapsed": true
   },
   "outputs": [],
   "source": [
    "frame"
   ]
  },
  {
   "cell_type": "code",
   "execution_count": null,
   "metadata": {
    "collapsed": true
   },
   "outputs": [],
   "source": [
    "frame['cluster'].value_counts() #number of cv per cluster"
   ]
  },
  {
   "cell_type": "code",
   "execution_count": null,
   "metadata": {
    "collapsed": true
   },
   "outputs": [],
   "source": [
    "from __future__ import print_function\n",
    "cluster_names = {}\n",
    "\n",
    "print(\"Top terms per cluster:\")\n",
    "print()\n",
    "#sort cluster centers by proximity to centroid\n",
    "order_centroids = km.cluster_centers_.argsort()[:, ::-1] \n",
    "\n",
    "for i in range(num_clusters):\n",
    "    print(\"Cluster %d words:\" % i, end='')\n",
    "    \n",
    "    txt = \"\"\n",
    "    for ind in order_centroids[i, :6]: #replace 6 with n words per cluster\n",
    "        txt = txt + vocab_frame.loc[terms[ind].split(' ')].values.tolist()[0][0] + \", \"\n",
    "        print(' %s' % vocab_frame.loc[terms[ind].split(' ')].values.tolist()[0][0].encode('utf-8', 'ignore'), end=',')\n",
    "    cluster_names[i] = txt\n",
    "    print() #add whitespace\n",
    "    print() #add whitespace\n",
    "    \n",
    "    print(\"Cluster %d titles:\" % i, end='')\n",
    "    for title in frame.ix[i]['title'].values.tolist():\n",
    "        print('     %s;' % title, end='')\n",
    "        #print('\\n')\n",
    "    print() #add whitespace\n",
    "    print() #add whitespace\n",
    "    \n",
    "print()\n",
    "print()"
   ]
  },
  {
   "cell_type": "markdown",
   "metadata": {},
   "source": [
    "#### Visualisation clusters"
   ]
  },
  {
   "cell_type": "code",
   "execution_count": null,
   "metadata": {
    "collapsed": true
   },
   "outputs": [],
   "source": [
    "import os  # for os.path.basename\n",
    "\n",
    "import matplotlib.pyplot as plt\n",
    "import matplotlib as mpl\n",
    "\n",
    "from sklearn.manifold import MDS\n",
    "\n",
    "MDS()\n",
    "\n",
    "# convert two components as we're plotting points in a two-dimensional plane\n",
    "# \"precomputed\" because we provide a distance matrix\n",
    "# we will also specify `random_state` so the plot is reproducible.\n",
    "mds = MDS(n_components=2, dissimilarity=\"precomputed\", random_state=1, n_jobs=-1)\n",
    "\n",
    "pos = mds.fit_transform(dist)  # shape (n_components, n_samples)\n",
    "\n",
    "xs, ys = pos[:, 0], pos[:, 1]\n",
    "print()\n",
    "print()"
   ]
  },
  {
   "cell_type": "code",
   "execution_count": null,
   "metadata": {
    "collapsed": true
   },
   "outputs": [],
   "source": [
    "#set up colors per clusters using a dict\n",
    "cluster_colors = {0: '#1b9e77', 1: '#d95f02', 2: '#7570b3', 3: '#e7298a', 4: '#66a61e'}\n",
    "\n",
    "#set up cluster names using a dict\n",
    "#cluster_names = {0: 'informatiques, donnee, gestion, formation, developpement, projet', \n",
    "#                 1: 'Police, killed, murders', \n",
    "#                 2: 'Father, New York, brothers', \n",
    "#                 3: 'Dance, singing, love', \n",
    "#                 4: 'Killed, soldiers, captain'}"
   ]
  },
  {
   "cell_type": "code",
   "execution_count": null,
   "metadata": {
    "collapsed": true
   },
   "outputs": [],
   "source": [
    "cluster_names"
   ]
  },
  {
   "cell_type": "code",
   "execution_count": null,
   "metadata": {
    "collapsed": true
   },
   "outputs": [],
   "source": [
    "#some ipython magic to show the matplotlib plots inline\n",
    "%matplotlib inline \n",
    "\n",
    "#create data frame that has the result of the MDS plus the cluster numbers and titles\n",
    "df = pd.DataFrame(dict(x=xs, y=ys, label=clusters))#, title=cv_titles)) \n",
    "\n",
    "#group by cluster\n",
    "groups = df.groupby('label')\n",
    "\n",
    "\n",
    "# set up plot\n",
    "fig, ax = plt.subplots(figsize=(17, 9)) # set size\n",
    "ax.margins(0.05) # Optional, just adds 5% padding to the autoscaling\n",
    "\n",
    "#iterate through groups to layer the plot\n",
    "#note that I use the cluster_name and cluster_color dicts with the 'name' lookup to return the appropriate color/label\n",
    "for name, group in groups:\n",
    "    ax.plot(group.x, group.y, marker='o', linestyle='', ms=12, \n",
    "            label=cluster_names[name], color=cluster_colors[name], \n",
    "            mec='none')\n",
    "    ax.set_aspect('auto')\n",
    "    ax.tick_params(\\\n",
    "        axis= 'x',          # changes apply to the x-axis\n",
    "        which='both',      # both major and minor ticks are affected\n",
    "        bottom='off',      # ticks along the bottom edge are off\n",
    "        top='off',         # ticks along the top edge are off\n",
    "        labelbottom='off')\n",
    "    ax.tick_params(\\\n",
    "        axis= 'y',         # changes apply to the y-axis\n",
    "        which='both',      # both major and minor ticks are affected\n",
    "        left='off',      # ticks along the bottom edge are off\n",
    "        top='off',         # ticks along the top edge are off\n",
    "        labelleft='off')\n",
    "    \n",
    "ax.legend(numpoints=1)  #show legend with only 1 point\n",
    "\n",
    "#add label in x,y position with the label as the film title\n",
    "for i in range(len(df)):\n",
    "    ax.text(df.ix[i]['x'], df.ix[i]['y'], df.ix[i]['title'], size=8)  \n",
    "\n",
    "    \n",
    "    \n",
    "plt.show() #show the plot\n",
    "\n",
    "#uncomment the below to save the plot if need be\n",
    "#plt.savefig('clusters_small_noaxes.png', dpi=200)\n"
   ]
  },
  {
   "cell_type": "code",
   "execution_count": null,
   "metadata": {
    "collapsed": true
   },
   "outputs": [],
   "source": []
  },
  {
   "cell_type": "code",
   "execution_count": null,
   "metadata": {
    "collapsed": true
   },
   "outputs": [],
   "source": [
    "from __future__ import print_function\n",
    "\n",
    "print(\"Top terms per cluster:\")\n",
    "print()\n",
    "#sort cluster centers by proximity to centroid\n",
    "order_centroids = km.cluster_centers_.argsort()[:, ::-1] \n",
    "\n",
    "for i in range(num_clusters):\n",
    "    print(\"Cluster %d words:\" % i, end='')\n",
    "    \n",
    "    for ind in order_centroids[i, :6]: #replace 6 with n words per cluster\n",
    "        print(terms[ind])\n",
    "        print(' %s' % vocab_frame.loc[terms[ind].split(' ')].values.tolist()[0][0].encode('utf-8', 'ignore'), end=',')\n",
    "    print() #add whitespace\n",
    "    print() #add whitespace\n",
    "    \n",
    "    print(\"Cluster %d titles:\" % i, end='')\n",
    "    for title in frame.ix[i]['title'].values.tolist():\n",
    "        print(' %s,' % title, end='')\n",
    "    print() #add whitespace\n",
    "    print() #add whitespace\n",
    "    \n",
    "print()\n",
    "print()"
   ]
  },
  {
   "cell_type": "code",
   "execution_count": null,
   "metadata": {
    "collapsed": true
   },
   "outputs": [],
   "source": []
  },
  {
   "cell_type": "code",
   "execution_count": null,
   "metadata": {
    "collapsed": true
   },
   "outputs": [],
   "source": []
  },
  {
   "cell_type": "code",
   "execution_count": null,
   "metadata": {
    "collapsed": true
   },
   "outputs": [],
   "source": []
  }
 ],
 "metadata": {
  "kernelspec": {
   "display_name": "Python 3",
   "language": "python",
   "name": "python3"
  },
  "language_info": {
   "codemirror_mode": {
    "name": "ipython",
    "version": 3
   },
   "file_extension": ".py",
   "mimetype": "text/x-python",
   "name": "python",
   "nbconvert_exporter": "python",
   "pygments_lexer": "ipython3",
   "version": "3.6.1"
  }
 },
 "nbformat": 4,
 "nbformat_minor": 2
}
